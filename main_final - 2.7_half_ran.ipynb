{
 "cells": [
  {
   "cell_type": "code",
   "execution_count": 1,
   "metadata": {},
   "outputs": [
    {
     "data": {
      "text/html": [
       "        <script type=\"text/javascript\">\n",
       "        window.PlotlyConfig = {MathJaxConfig: 'local'};\n",
       "        if (window.MathJax && window.MathJax.Hub && window.MathJax.Hub.Config) {window.MathJax.Hub.Config({SVG: {font: \"STIX-Web\"}});}\n",
       "        if (typeof require !== 'undefined') {\n",
       "        require.undef(\"plotly\");\n",
       "        requirejs.config({\n",
       "            paths: {\n",
       "                'plotly': ['https://cdn.plot.ly/plotly-2.12.1.min']\n",
       "            }\n",
       "        });\n",
       "        require(['plotly'], function(Plotly) {\n",
       "            window._Plotly = Plotly;\n",
       "        });\n",
       "        }\n",
       "        </script>\n",
       "        "
      ]
     },
     "metadata": {},
     "output_type": "display_data"
    }
   ],
   "source": [
    "import numpy as np\n",
    "import random as rnd\n",
    "import matplotlib.pyplot as plt\n",
    "import math\n",
    "from scipy import stats\n",
    "import pandas as pd\n",
    "import matplotlib as mpl\n",
    "import datetime as dt\n",
    "from pandas_datareader import data as pdr\n",
    "import plotly.offline as plotly\n",
    "import plotly.graph_objects as go\n",
    "from plotly.subplots import make_subplots\n",
    "import yfinance as yf\n",
    "yf.pdr_override()\n",
    "import os\n",
    "plotly.init_notebook_mode(connected=True)\n",
    "pd.options.plotting.backend = 'plotly'\n",
    "import wrds\n",
    "from sklearn.preprocessing import StandardScaler\n",
    "from sklearn.linear_model import LinearRegression\n",
    "import statsmodels.api as sm\n",
    "# plt.style.use(['science', 'notebook'])"
   ]
  },
  {
   "cell_type": "markdown",
   "metadata": {},
   "source": [
    "### Importing DataFrames & changing index to date time"
   ]
  },
  {
   "cell_type": "code",
   "execution_count": 2,
   "metadata": {},
   "outputs": [],
   "source": [
    "df_close_clean = pd.read_csv('data/df_close_clean.csv')\n",
    "df_open_clean = pd.read_csv('data/df_open_clean.csv')\n",
    "df_volume_clean = pd.read_csv('data/df_volume_clean.csv')\n",
    "df_shares_outstanding_clean = pd.read_csv('data/df_shares_outstanding_clean.csv')\n",
    "df_volume_clean_wrds = pd.read_csv('data/df_volume_clean_WRDS.csv')\n",
    "\n",
    "# change index to datetime\n",
    "df_close_clean.index = pd.to_datetime(df_close_clean['Date'])\n",
    "df_open_clean.index = pd.to_datetime(df_open_clean['Date'])\n",
    "df_volume_clean.index = pd.to_datetime(df_volume_clean['Date'])\n",
    "df_shares_outstanding_clean.index = pd.to_datetime(df_shares_outstanding_clean['Date'])\n",
    "df_volume_clean_wrds.index = pd.to_datetime(df_volume_clean_wrds['Date'])\n",
    "\n",
    "# Remove the \"Date\" column as it no longer has any use\n",
    "df_close_clean = df_close_clean.drop(columns=['Date'])\n",
    "df_open_clean = df_open_clean.drop(columns=['Date'])\n",
    "df_volume_clean = df_volume_clean.drop(columns=['Date'])\n",
    "df_shares_outstanding_clean = df_shares_outstanding_clean.drop(columns=['Date'])\n",
    "df_volume_clean_wrds = df_volume_clean_wrds.drop(columns=['Date'])\n",
    "\n",
    "# testing if the index is datetime and the \"Date\" column is removed\n",
    "assert 'Date' not in df_close_clean.columns\n",
    "assert 'Date' not in df_open_clean.columns\n",
    "assert 'Date' not in df_volume_clean.columns\n",
    "assert 'Date' not in df_shares_outstanding_clean.columns\n",
    "assert 'Date' not in df_volume_clean_wrds.columns\n",
    "assert df_close_clean.index.dtype == 'datetime64[ns]'\n",
    "assert df_open_clean.index.dtype == 'datetime64[ns]'\n",
    "assert df_volume_clean.index.dtype == 'datetime64[ns]'\n",
    "assert df_shares_outstanding_clean.index.dtype == 'datetime64[ns]'\n",
    "assert df_volume_clean_wrds.index.dtype == 'datetime64[ns]'"
   ]
  },
  {
   "cell_type": "code",
   "execution_count": 3,
   "metadata": {},
   "outputs": [
    {
     "data": {
      "text/plain": [
       "0"
      ]
     },
     "execution_count": 3,
     "metadata": {},
     "output_type": "execute_result"
    }
   ],
   "source": [
    "flat_vol = np.sort(df_volume_clean.values.flatten())\n",
    "np.count_nonzero(flat_vol == 2)"
   ]
  },
  {
   "cell_type": "code",
   "execution_count": 4,
   "metadata": {},
   "outputs": [
    {
     "name": "stdout",
     "output_type": "stream",
     "text": [
      "5364467.902905552\n",
      "[1.86411778e-05 1.86411778e-05 1.86411778e-05 1.86411778e-05\n",
      " 1.86411778e-05 1.86411778e-05 1.86411778e-05 1.86411778e-05\n",
      " 1.86411778e-05 1.86411778e-05 1.86411778e-05 1.86411778e-05\n",
      " 1.86411778e-05 1.86411778e-05 1.86411778e-05 1.86411778e-05\n",
      " 1.86411778e-05 1.86411778e-05 1.86411778e-05 1.86411778e-05\n",
      " 1.86411778e-05 1.86411778e-05 1.86411778e-05 1.86411778e-05\n",
      " 1.86411778e-05 1.86411778e-05 1.86411778e-05 1.86411778e-05\n",
      " 1.86411778e-05 1.86411778e-05 1.86411778e-05 1.86411778e-05\n",
      " 1.86411778e-05 1.86411778e-05 1.86411778e-05 1.86411778e-05\n",
      " 1.86411778e-05 1.86411778e-05 1.86411778e-05 1.86411778e-05\n",
      " 1.86411778e-05 1.86411778e-05 1.86411778e-05 1.86411778e-05\n",
      " 1.86411778e-05 1.86411778e-05 1.86411778e-05 1.86411778e-05\n",
      " 1.86411778e-05 1.86411778e-05]\n",
      "[108.63250756 109.01006597 109.22022661 109.48903239 110.34399137\n",
      " 110.67386566 110.79078312 111.51376256 112.06069472 112.44433016\n",
      " 113.00229789 113.53468993 113.57592422 114.94532378 118.02818312\n",
      " 118.52195064 119.01154253 119.36438275 120.04187771 120.94865917\n",
      " 123.82186118 124.20601858 124.22081967 124.80000107 126.48068966\n",
      " 128.77415104 128.91090272 130.35827833 131.3421597  131.602055\n",
      " 135.40149986 136.86494416 138.24550979 138.54041322 140.99672394\n",
      " 141.55834535 141.65647251 142.06568364 142.43679221 146.42973249\n",
      " 160.59553633 163.44070202 164.40422722 167.52759384 170.39565089\n",
      " 176.1695693  180.75440427 198.62607425 225.19034914 272.32009333]\n"
     ]
    }
   ],
   "source": [
    "volume_flat = df_volume_clean.values.flatten()\n",
    "volume_flat = volume_flat[np.where(volume_flat != 0)]\n",
    "vol_mean = np.mean(volume_flat)\n",
    "print(vol_mean)\n",
    "vol_sum = np.sum(volume_flat)\n",
    "normalized_vol = volume_flat/vol_mean\n",
    "sorted_vol = np.sort(normalized_vol)\n",
    "print(sorted_vol[0:50])\n",
    "print(sorted_vol[len(sorted_vol)-50:len(sorted_vol)])"
   ]
  },
  {
   "cell_type": "code",
   "execution_count": 5,
   "metadata": {},
   "outputs": [
    {
     "data": {
      "image/png": "[encoded data removed]",
      "text/plain": [
       "<Figure size 432x288 with 1 Axes>"
      ]
     },
     "metadata": {
      "needs_background": "light"
     },
     "output_type": "display_data"
    },
    {
     "name": "stderr",
     "output_type": "stream",
     "text": [
      "No handles with labels found to put in legend.\n"
     ]
    },
    {
     "data": {
      "image/png": "[encoded data removed]",
      "text/plain": [
       "<Figure size 720x720 with 1 Axes>"
      ]
     },
     "metadata": {
      "needs_background": "light"
     },
     "output_type": "display_data"
    }
   ],
   "source": [
    "x = np.arange(0, len(sorted_vol), 1)\n",
    "plt.scatter(x, sorted_vol)\n",
    "plt.show()\n",
    "# non-log plot\n",
    "plt.figure(figsize=(10,10))\n",
    "plt.hist(sorted_vol, bins=10000, cumulative=-1, density=True, log=True, histtype='step')\n",
    "plt.gca().set_xscale(\"log\")\n",
    "plt.legend()\n",
    "plt.show()"
   ]
  },
  {
   "cell_type": "code",
   "execution_count": 6,
   "metadata": {},
   "outputs": [
    {
     "name": "stdout",
     "output_type": "stream",
     "text": [
      "start [1.86609619e-05 1.86609619e-05 1.86609619e-05 1.86609619e-05\n",
      " 1.86609619e-05 1.86609619e-05 1.86609619e-05 1.86609619e-05\n",
      " 1.86609619e-05 1.86609619e-05 1.86609619e-05 1.86609619e-05\n",
      " 1.86609619e-05 1.86609619e-05 1.86609619e-05 1.86609619e-05\n",
      " 1.86609619e-05 1.86609619e-05 1.86609619e-05 1.86609619e-05\n",
      " 1.86609619e-05 1.86609619e-05 1.86609619e-05 1.86609619e-05\n",
      " 1.86609619e-05 1.86609619e-05 1.86609619e-05 1.86609619e-05\n",
      " 1.86609619e-05 1.86609619e-05 1.86609619e-05 1.86609619e-05\n",
      " 1.86609619e-05 1.86609619e-05 1.86609619e-05 1.86609619e-05\n",
      " 1.86609619e-05 1.86609619e-05 1.86609619e-05 1.86609619e-05\n",
      " 1.86609619e-05 1.86609619e-05 1.86609619e-05 1.86609619e-05\n",
      " 1.86609619e-05 1.86609619e-05 1.86609619e-05 1.86609619e-05\n",
      " 1.86609619e-05 1.86609619e-05]\n",
      "end [108.74780037 109.12575949 109.33614318 109.60523425 110.4611006\n",
      " 110.79132498 110.90836654 111.63211328 112.1796259  112.5636685\n",
      " 113.12222841 113.65518548 113.69646353 115.06731645 118.15344766\n",
      " 118.64773922 119.13785073 119.49106541 120.16927941 121.07702324\n",
      " 123.95327462 124.33783972 124.35265652 124.93245261 126.61492493\n",
      " 128.91082039 129.04771721 130.49662893 131.4815545  131.74172563\n",
      " 135.54520288 137.01020036 138.39223119 138.68744761 141.14636523\n",
      " 141.70858269 141.806814   142.21645943 142.58796186 146.5851399\n",
      " 160.76597805 163.61416334 164.57871114 167.70539262 170.57649357\n",
      " 176.3565399  180.9462408  198.83687817 225.429346   272.60910949]\n"
     ]
    }
   ],
   "source": [
    "vol_mean = np.mean(df_volume_clean.values.flatten())\n",
    "df_vol_sum = df_volume_clean.sum().sum()\n",
    "df_normalized_vol = df_volume_clean/vol_mean\n",
    "sorted_vol = np.sort(df_normalized_vol.values.flatten())\n",
    "sorted_vol = sorted_vol[np.where(sorted_vol != 0)]\n",
    "print('start', sorted_vol[0:50])\n",
    "print('end', sorted_vol[len(sorted_vol)-50:len(sorted_vol)])"
   ]
  },
  {
   "cell_type": "code",
   "execution_count": 7,
   "metadata": {},
   "outputs": [
    {
     "data": {
      "text/plain": [
       "6247448590788"
      ]
     },
     "execution_count": 7,
     "metadata": {},
     "output_type": "execute_result"
    }
   ],
   "source": [
    "df_volume_clean.sum().sum()"
   ]
  },
  {
   "cell_type": "markdown",
   "metadata": {},
   "source": [
    "### Velocity calculation\n",
    "\n",
    "We do the velocity calculation on the real data a fashion similar as Feng et. al's 2012 paper, in the following steps:\n",
    "1. Divide the total number of shares traded on the market(volume) by the number of outstanding shares of each stock every day\n",
    "2. Resample the dataframe into a yearly timeframe\n",
    "3. Sum up the yearly velocity per stock and divide it by the amount of years used in the dataframe which results in the mean velocity per stock\n",
    "4. Take the mean of all the mean of the different stocks"
   ]
  },
  {
   "cell_type": "code",
   "execution_count": 8,
   "metadata": {},
   "outputs": [],
   "source": [
    "# Step 1\n",
    "velocity_df_daily = df_volume_clean_wrds/df_shares_outstanding_clean\n",
    "\n",
    "# Step 2\n",
    "velocity_yearly_df = velocity_df_daily.resample('Y').sum()\n",
    "\n",
    "# Step 3 + 4\n",
    "sum_velocity_yearly_df = velocity_yearly_df.apply(lambda x: x.sum())/velocity_yearly_df.shape[0] # .shape[0] = amount of rows \n",
    "V = sum_velocity_yearly_df.mean()"
   ]
  },
  {
   "cell_type": "code",
   "execution_count": 9,
   "metadata": {},
   "outputs": [],
   "source": [
    "def probability_of_trading(V_f:float, V:float) -> float:\n",
    "    \"\"\"returns the probability of trading for a given velocity of fundamental traders and total market velocity V\"\"\"\n",
    "    # V is total market velocity, V_f is the velocity of fundamental traders, V_c is the velocity of technical traders\n",
    "    # We assume that the proportion of shares held by fundamental traders is the same as in the period 1997-2006, namely 83% on average. \n",
    "    # This might be a bit strong, but we continue with this assumption for now.\n",
    "    # thus the velocity of technical traders is V_C is given by:\n",
    "    V_c = (V - 0.83*V_f)/(1-0.83)\n",
    "    # because there are around 250 trading days in a year, we arrive at probability of trading p as follows:\n",
    "    p = V_c/(250*2)\n",
    "    return p\n"
   ]
  },
  {
   "cell_type": "code",
   "execution_count": 10,
   "metadata": {},
   "outputs": [
    {
     "name": "stdout",
     "output_type": "stream",
     "text": [
      "The V value is 2.183549851113631\n",
      "V_f: 0.2 gives a p value of 0.02373588060133683\n",
      "V_f: 0.4 gives a p value of 0.02178293942486624\n",
      "V_f: 0.6 gives a p value of 0.019829998248395653\n",
      "V_f: 0.8 gives a p value of 0.01787705707192506\n"
     ]
    }
   ],
   "source": [
    "# multiple choices of V_F, in the paper they chose V_f = 0.4 as an arbirtrary choice which achieved best fit\n",
    "V_f_list = [0.2, 0.4, 0.6, 0.8]\n",
    "\n",
    "print(\"The V value is\", V)\n",
    "for V_f in V_f_list:\n",
    "    p = probability_of_trading(V_f, V)\n",
    "    print('V_f: ' + str(V_f), 'gives a p value of', p)\n"
   ]
  },
  {
   "cell_type": "markdown",
   "metadata": {},
   "source": [
    "# Model parameters"
   ]
  },
  {
   "cell_type": "code",
   "execution_count": 11,
   "metadata": {},
   "outputs": [],
   "source": [
    "# other parameters\n",
    "n = 2**10\n",
    "t = 10000\n",
    "p = 0.02178\n",
    "omega = 1\n",
    "b = 1.5\n",
    "size = 1\n",
    "k = 1\n",
    "M = 500\n",
    "d = 1.12"
   ]
  },
  {
   "cell_type": "markdown",
   "metadata": {},
   "source": [
    "# Model definition: ABM"
   ]
  },
  {
   "cell_type": "code",
   "execution_count": 12,
   "metadata": {},
   "outputs": [],
   "source": [
    "# agent behaviors for buying, selling and holding based on the probability of trading p\n",
    "def buy_sell_hold(p, amount_times):\n",
    "    assert p <= 0.5, \"p should be smaller than 0.5\"\n",
    "    psis = np.zeros(amount_times)\n",
    "    dice_rolls = np.random.uniform(0, 1, amount_times)\n",
    "    indices = np.nonzero(dice_rolls <= 2*p)\n",
    "    for index in indices[0]:\n",
    "        if np.random.randint(0,2) == 0:\n",
    "            psis[index] = 1\n",
    "        else:\n",
    "            psis[index] = -1\n",
    "    return psis"
   ]
  },
  {
   "cell_type": "code",
   "execution_count": 13,
   "metadata": {},
   "outputs": [],
   "source": [
    "assert len(buy_sell_hold(0.2,10)) == 10"
   ]
  },
  {
   "cell_type": "code",
   "execution_count": 14,
   "metadata": {},
   "outputs": [],
   "source": [
    "# agent behaviors for buying, selling and holding based on the probability of trading p\n",
    "def buy_sell_hold(p, amount_times):\n",
    "    assert p <= 0.5, \"p should be smaller than 0.5\"\n",
    "    psis = np.zeros(amount_times)\n",
    "    dice_rolls = np.random.uniform(0, 1, amount_times)\n",
    "    indices = np.nonzero(dice_rolls <= 2*p)\n",
    "\n",
    "    for index in indices[0]:\n",
    "        if np.random.randint(0,2) == 0:\n",
    "            psis[index] = 1\n",
    "        else:\n",
    "            psis[index] = -1\n",
    "    return psis\n",
    "\n",
    "# Agent model w noise\n",
    "\n",
    "class Model:\n",
    "    def __init__(self, p: float, n: int, size: int, k: int, omega: int, b: int) -> None:\n",
    "        self.n = n\n",
    "        self.p = p\n",
    "        self.daily_return = 1\n",
    "        self.trading_volume = 0\n",
    "        self.k = k\n",
    "        self.omega = omega\n",
    "        self.daily_returns = []\n",
    "        self.count = 0\n",
    "        self.b = b\n",
    "\n",
    "        self.daily_trading_volumes = []\n",
    "\n",
    "        \n",
    "    def distribute_opinion_groups(self) -> int:\n",
    "        if self.b == 0:\n",
    "            # number of opinion groups\n",
    "            c = (self.n / abs(self.daily_return)) ** self.omega\n",
    "                \n",
    "\n",
    "        else:\n",
    "            mean = (self.n / abs(self.daily_return)) ** self.omega\n",
    "\n",
    "            \n",
    "            c = np.random.normal(loc = mean, scale = math.sqrt(mean * self.b))\n",
    "            c = int(np.round(c))\n",
    "            # because logically there can only be a minimum of 1 opinion group, i.e. all agents have the same opinion, we set the minimum c to be 1.\n",
    "            if c <= 0:\n",
    "                c = 1\n",
    "            if abs(self.daily_return) >= self.n:\n",
    "                c = 1\n",
    "        # rounding, as we can only have whole number of opinion groups\n",
    "        c = int(np.round(c))\n",
    "\n",
    "        # number of opnion groups can maximally be the number of agents\n",
    "        c = np.min([c, self.n])\n",
    "            \n",
    "    \n",
    "        return c\n",
    "\n",
    "    def step(self):\n",
    "        self.count += 1\n",
    "        c = self.distribute_opinion_groups()\n",
    "        psis = buy_sell_hold(self.p, c)\n",
    "        average_agents_per_group = int(np.round(self.n/c))\n",
    "        return_matrix = psis * average_agents_per_group\n",
    "        trading_volume = np.sum(np.abs(return_matrix))\n",
    "        self.daily_return = np.sum(return_matrix) #* k\n",
    "         # following the boundry conditions on returns from Feng et al. 2012 appendix 5:\n",
    "        minimum_return = self.n**((self.omega-1)/self.omega)\n",
    "        if np.abs(self.daily_return) < minimum_return:\n",
    "            sign = -1 if self.daily_return < 0 else 1\n",
    "            self.daily_return = sign*minimum_return\n",
    "        maximum_return = self.n\n",
    "        if np.abs(self.daily_return) > maximum_return:\n",
    "            self.daily_return = np.sign(self.daily_return)*maximum_return\n",
    "        self.daily_returns.append(self.daily_return)\n",
    "        self.daily_trading_volumes.append(trading_volume)\n",
    "        return self.count"
   ]
  },
  {
   "cell_type": "markdown",
   "metadata": {},
   "source": [
    "# ABM test run"
   ]
  },
  {
   "cell_type": "code",
   "execution_count": 15,
   "metadata": {},
   "outputs": [],
   "source": [
    "# ABM simulation\n",
    "model_test = Model(p, n, size, k, omega, b)\n",
    "for i in range(t):\n",
    "    model_test.step()\n"
   ]
  },
  {
   "cell_type": "code",
   "execution_count": 16,
   "metadata": {},
   "outputs": [
    {
     "data": {
      "text/plain": [
       "[1.0,\n",
       " 4.0,\n",
       " 8.0,\n",
       " -27.0,\n",
       " -38.0,\n",
       " -41.0,\n",
       " -152.0,\n",
       " 1.0,\n",
       " 4.0,\n",
       " 28.0,\n",
       " 90.0,\n",
       " -158.0,\n",
       " 1.0,\n",
       " -10.0,\n",
       " 36.0,\n",
       " 1.0,\n",
       " -3.0,\n",
       " 6.0,\n",
       " 36.0,\n",
       " -41.0,\n",
       " 32.0,\n",
       " -32.0,\n",
       " 78.0,\n",
       " 1.0,\n",
       " -1.0,\n",
       " -2.0,\n",
       " 2.0,\n",
       " 8.0,\n",
       " -8.0,\n",
       " -9.0,\n",
       " -12.0,\n",
       " -22.0,\n",
       " 23.0,\n",
       " 1.0,\n",
       " 12.0,\n",
       " 15.0,\n",
       " 17.0,\n",
       " 1.0,\n",
       " 1.0,\n",
       " -1.0,\n",
       " -1.0,\n",
       " 2.0,\n",
       " -2.0,\n",
       " -6.0,\n",
       " -42.0,\n",
       " -49.0,\n",
       " 1.0,\n",
       " 8.0,\n",
       " 18.0,\n",
       " -20.0,\n",
       " 1.0,\n",
       " 15.0,\n",
       " 1.0,\n",
       " -1.0,\n",
       " 4.0,\n",
       " 12.0,\n",
       " -26.0,\n",
       " -20.0,\n",
       " -17.0,\n",
       " -12.0,\n",
       " -22.0,\n",
       " -28.0,\n",
       " -74.0,\n",
       " 1.0,\n",
       " -17.0,\n",
       " 17.0,\n",
       " 40.0,\n",
       " 1.0,\n",
       " 3.0,\n",
       " 33.0,\n",
       " 162.0,\n",
       " 1.0,\n",
       " -5.0,\n",
       " -5.0,\n",
       " 1.0,\n",
       " 3.0,\n",
       " 6.0,\n",
       " 10.0,\n",
       " 9.0,\n",
       " 10.0,\n",
       " 9.0,\n",
       " -22.0,\n",
       " 1.0,\n",
       " 6.0,\n",
       " 1.0,\n",
       " 14.0,\n",
       " -24.0,\n",
       " 1.0,\n",
       " -14.0,\n",
       " -14.0,\n",
       " 45.0,\n",
       " 1.0,\n",
       " -10.0,\n",
       " -30.0,\n",
       " 24.0,\n",
       " -20.0,\n",
       " -56.0,\n",
       " 1.0,\n",
       " -5.0,\n",
       " 1.0,\n",
       " 2.0,\n",
       " 2.0,\n",
       " -6.0,\n",
       " -7.0,\n",
       " -24.0,\n",
       " 1.0,\n",
       " -4.0,\n",
       " 12.0,\n",
       " -22.0,\n",
       " -19.0,\n",
       " 1.0,\n",
       " -6.0,\n",
       " -24.0,\n",
       " -27.0,\n",
       " -75.0,\n",
       " -85.0,\n",
       " 1.0,\n",
       " 1.0,\n",
       " -10.0,\n",
       " -12.0,\n",
       " 11.0,\n",
       " 1.0,\n",
       " -2.0,\n",
       " -4.0,\n",
       " 1.0,\n",
       " 1.0,\n",
       " 6.0,\n",
       " -25.0,\n",
       " 70.0,\n",
       " 1.0,\n",
       " -9.0,\n",
       " 24.0,\n",
       " 36.0,\n",
       " 41.0,\n",
       " -39.0,\n",
       " 1.0,\n",
       " -9.0,\n",
       " 1.0,\n",
       " 1.0,\n",
       " -3.0,\n",
       " 6.0,\n",
       " -15.0,\n",
       " -13.0,\n",
       " -26.0,\n",
       " -28.0,\n",
       " 43.0,\n",
       " 31.0,\n",
       " -114.0,\n",
       " -186.0,\n",
       " 1.0,\n",
       " -6.0,\n",
       " 1.0,\n",
       " -3.0,\n",
       " 9.0,\n",
       " 16.0,\n",
       " -45.0,\n",
       " 1.0,\n",
       " -11.0,\n",
       " 45.0,\n",
       " 1.0,\n",
       " 12.0,\n",
       " 12.0,\n",
       " 24.0,\n",
       " 42.0,\n",
       " 1.0,\n",
       " 1.0,\n",
       " 3.0,\n",
       " 15.0,\n",
       " -39.0,\n",
       " 57.0,\n",
       " 1.0,\n",
       " 6.0,\n",
       " -6.0,\n",
       " 1.0,\n",
       " -4.0,\n",
       " 1.0,\n",
       " -1.0,\n",
       " -3.0,\n",
       " 3.0,\n",
       " 6.0,\n",
       " -14.0,\n",
       " -54.0,\n",
       " 1.0,\n",
       " -14.0,\n",
       " 12.0,\n",
       " -12.0,\n",
       " -12.0,\n",
       " 45.0,\n",
       " 1.0,\n",
       " 6.0,\n",
       " 6.0,\n",
       " -10.0,\n",
       " -30.0,\n",
       " -23.0,\n",
       " 1.0,\n",
       " 1.0,\n",
       " -4.0,\n",
       " 15.0,\n",
       " 15.0,\n",
       " -13.0,\n",
       " 48.0,\n",
       " 1.0,\n",
       " -5.0,\n",
       " -25.0,\n",
       " -20.0,\n",
       " 24.0,\n",
       " 1.0,\n",
       " -9.0,\n",
       " 1.0,\n",
       " -3.0,\n",
       " -9.0,\n",
       " -18.0,\n",
       " -15.0,\n",
       " -14.0,\n",
       " 17.0,\n",
       " 30.0,\n",
       " -60.0,\n",
       " -49.0,\n",
       " -57.0,\n",
       " 38.0,\n",
       " -27.0,\n",
       " -42.0,\n",
       " -41.0,\n",
       " -90.0,\n",
       " 1.0,\n",
       " 4.0,\n",
       " 4.0,\n",
       " -28.0,\n",
       " -24.0,\n",
       " 23.0,\n",
       " -29.0,\n",
       " -28.0,\n",
       " 62.0,\n",
       " -73.0,\n",
       " 1.0,\n",
       " -2.0,\n",
       " -6.0,\n",
       " -5.0,\n",
       " -6.0,\n",
       " -24.0,\n",
       " -42.0,\n",
       " -45.0,\n",
       " 1.0,\n",
       " 4.0,\n",
       " -16.0,\n",
       " -12.0,\n",
       " 48.0,\n",
       " 1.0,\n",
       " -7.0,\n",
       " 24.0,\n",
       " 30.0,\n",
       " -32.0,\n",
       " 1.0,\n",
       " 2.0,\n",
       " -4.0,\n",
       " 4.0,\n",
       " -8.0,\n",
       " -28.0,\n",
       " -32.0,\n",
       " 37.0,\n",
       " 1.0,\n",
       " -11.0,\n",
       " -12.0,\n",
       " 1.0,\n",
       " -1.0,\n",
       " 4.0,\n",
       " 8.0,\n",
       " 7.0,\n",
       " 16.0,\n",
       " 1.0,\n",
       " 6.0,\n",
       " 1.0,\n",
       " 2.0,\n",
       " -2.0,\n",
       " 2.0,\n",
       " -4.0,\n",
       " 12.0,\n",
       " 1.0,\n",
       " -3.0,\n",
       " 6.0,\n",
       " -5.0,\n",
       " 1.0,\n",
       " 5.0,\n",
       " 15.0,\n",
       " 19.0,\n",
       " -18.0,\n",
       " 34.0,\n",
       " 1.0,\n",
       " -8.0,\n",
       " -9.0,\n",
       " -12.0,\n",
       " 14.0,\n",
       " 19.0,\n",
       " -18.0,\n",
       " 1.0,\n",
       " -3.0,\n",
       " -18.0,\n",
       " 15.0,\n",
       " 24.0,\n",
       " -46.0,\n",
       " 1.0,\n",
       " 1.0,\n",
       " 2.0,\n",
       " 18.0,\n",
       " -13.0,\n",
       " 30.0,\n",
       " 32.0,\n",
       " 78.0,\n",
       " -68.0,\n",
       " 73.0,\n",
       " 1.0,\n",
       " 14.0,\n",
       " -28.0,\n",
       " 1.0,\n",
       " 1.0,\n",
       " -8.0,\n",
       " 18.0,\n",
       " 16.0,\n",
       " -30.0,\n",
       " 1.0,\n",
       " 5.0,\n",
       " -8.0,\n",
       " 1.0,\n",
       " -13.0,\n",
       " -22.0,\n",
       " -44.0,\n",
       " -39.0,\n",
       " 31.0,\n",
       " -68.0,\n",
       " 49.0,\n",
       " 1.0,\n",
       " 1.0,\n",
       " -4.0,\n",
       " 16.0,\n",
       " 30.0,\n",
       " -32.0,\n",
       " 1.0,\n",
       " -3.0,\n",
       " 24.0,\n",
       " -38.0,\n",
       " -58.0,\n",
       " 1.0,\n",
       " 7.0,\n",
       " 6.0,\n",
       " 6.0,\n",
       " 12.0,\n",
       " 1.0,\n",
       " 8.0,\n",
       " 1.0,\n",
       " 4.0,\n",
       " -4.0,\n",
       " 8.0,\n",
       " 30.0,\n",
       " 33.0,\n",
       " 43.0,\n",
       " 135.0,\n",
       " 1.0,\n",
       " 2.0,\n",
       " 2.0,\n",
       " 12.0,\n",
       " -22.0,\n",
       " 1.0,\n",
       " -12.0,\n",
       " -30.0,\n",
       " -21.0,\n",
       " -18.0,\n",
       " -32.0,\n",
       " -27.0,\n",
       " 1.0,\n",
       " 3.0,\n",
       " 21.0,\n",
       " 1.0,\n",
       " -3.0,\n",
       " -3.0,\n",
       " 6.0,\n",
       " -12.0,\n",
       " 11.0,\n",
       " -30.0,\n",
       " 34.0,\n",
       " -35.0,\n",
       " 29.0,\n",
       " 19.0,\n",
       " -24.0,\n",
       " -22.0,\n",
       " -48.0,\n",
       " 1.0,\n",
       " 2.0,\n",
       " 6.0,\n",
       " 42.0,\n",
       " 1.0,\n",
       " 6.0,\n",
       " -6.0,\n",
       " -25.0,\n",
       " 23.0,\n",
       " 26.0,\n",
       " 24.0,\n",
       " 36.0,\n",
       " 1.0,\n",
       " 1.0,\n",
       " 1.0,\n",
       " -8.0,\n",
       " -24.0,\n",
       " 1.0,\n",
       " 3.0,\n",
       " -15.0,\n",
       " -14.0,\n",
       " -14.0,\n",
       " 1.0,\n",
       " 2.0,\n",
       " 22.0,\n",
       " -52.0,\n",
       " 1.0,\n",
       " 5.0,\n",
       " 18.0,\n",
       " 1.0,\n",
       " -5.0,\n",
       " -15.0,\n",
       " -15.0,\n",
       " 18.0,\n",
       " 1.0,\n",
       " 20.0,\n",
       " 1.0,\n",
       " -7.0,\n",
       " -7.0,\n",
       " 1.0,\n",
       " -2.0,\n",
       " 2.0,\n",
       " -8.0,\n",
       " 16.0,\n",
       " 1.0,\n",
       " -2.0,\n",
       " 2.0,\n",
       " 18.0,\n",
       " 21.0,\n",
       " 51.0,\n",
       " 1.0,\n",
       " 3.0,\n",
       " -27.0,\n",
       " -24.0,\n",
       " 1.0,\n",
       " -6.0,\n",
       " 18.0,\n",
       " 1.0,\n",
       " -1.0,\n",
       " 1.0,\n",
       " 13.0,\n",
       " 13.0,\n",
       " -12.0,\n",
       " 1.0,\n",
       " 2.0,\n",
       " -4.0,\n",
       " -24.0,\n",
       " 1.0,\n",
       " -1.0,\n",
       " -1.0,\n",
       " 3.0,\n",
       " 3.0,\n",
       " 6.0,\n",
       " 30.0,\n",
       " 1.0,\n",
       " -2.0,\n",
       " -2.0,\n",
       " -12.0,\n",
       " -22.0,\n",
       " -44.0,\n",
       " 1.0,\n",
       " 1.0,\n",
       " -1.0,\n",
       " -2.0,\n",
       " -2.0,\n",
       " 2.0,\n",
       " -10.0,\n",
       " 20.0,\n",
       " -56.0,\n",
       " 1.0,\n",
       " 5.0,\n",
       " 1.0,\n",
       " 9.0,\n",
       " -8.0,\n",
       " -8.0,\n",
       " 16.0,\n",
       " -17.0,\n",
       " -26.0,\n",
       " 1.0,\n",
       " 5.0,\n",
       " 18.0,\n",
       " -15.0,\n",
       " 1.0,\n",
       " 4.0,\n",
       " -30.0,\n",
       " -38.0,\n",
       " 90.0,\n",
       " -93.0,\n",
       " 1.0,\n",
       " -7.0,\n",
       " 24.0,\n",
       " 1.0,\n",
       " 2.0,\n",
       " 2.0,\n",
       " -18.0,\n",
       " 32.0,\n",
       " 1.0,\n",
       " -6.0,\n",
       " -6.0,\n",
       " -30.0,\n",
       " 54.0,\n",
       " 1.0,\n",
       " -9.0,\n",
       " -8.0,\n",
       " 9.0,\n",
       " -45.0,\n",
       " -45.0,\n",
       " 43.0,\n",
       " -31.0,\n",
       " -50.0,\n",
       " -54.0,\n",
       " -64.0,\n",
       " -68.0,\n",
       " -136.0,\n",
       " 1.0,\n",
       " 7.0,\n",
       " 27.0,\n",
       " -70.0,\n",
       " 1.0,\n",
       " 6.0,\n",
       " 12.0,\n",
       " -39.0,\n",
       " 1.0,\n",
       " 5.0,\n",
       " -6.0,\n",
       " -6.0,\n",
       " 36.0,\n",
       " 35.0,\n",
       " -38.0,\n",
       " -26.0,\n",
       " 1.0,\n",
       " -12.0,\n",
       " 1.0,\n",
       " 2.0,\n",
       " -6.0,\n",
       " 6.0,\n",
       " 1.0,\n",
       " -9.0,\n",
       " 26.0,\n",
       " 1.0,\n",
       " 1.0,\n",
       " 8.0,\n",
       " 16.0,\n",
       " 18.0,\n",
       " 26.0,\n",
       " -23.0,\n",
       " 1.0,\n",
       " -12.0,\n",
       " -11.0,\n",
       " -10.0,\n",
       " 22.0,\n",
       " -16.0,\n",
       " 1.0,\n",
       " 1.0,\n",
       " -8.0,\n",
       " 8.0,\n",
       " 18.0,\n",
       " -42.0,\n",
       " 1.0,\n",
       " 5.0,\n",
       " 10.0,\n",
       " -16.0,\n",
       " -32.0,\n",
       " 1.0,\n",
       " 1.0,\n",
       " 8.0,\n",
       " 21.0,\n",
       " -40.0,\n",
       " 1.0,\n",
       " 9.0,\n",
       " 24.0,\n",
       " -26.0,\n",
       " 1.0,\n",
       " 1.0,\n",
       " 2.0,\n",
       " 4.0,\n",
       " 24.0,\n",
       " 1.0,\n",
       " 1.0,\n",
       " 2.0,\n",
       " 2.0,\n",
       " 12.0,\n",
       " 15.0,\n",
       " 28.0,\n",
       " 1.0,\n",
       " 9.0,\n",
       " -20.0,\n",
       " -63.0,\n",
       " 1.0,\n",
       " 2.0,\n",
       " 1.0,\n",
       " -3.0,\n",
       " -30.0,\n",
       " -26.0,\n",
       " 1.0,\n",
       " 2.0,\n",
       " -4.0,\n",
       " -8.0,\n",
       " -24.0,\n",
       " 28.0,\n",
       " 1.0,\n",
       " -1.0,\n",
       " -7.0,\n",
       " -7.0,\n",
       " 1.0,\n",
       " 5.0,\n",
       " 1.0,\n",
       " 3.0,\n",
       " -12.0,\n",
       " -33.0,\n",
       " 1.0,\n",
       " 10.0,\n",
       " 1.0,\n",
       " -3.0,\n",
       " 6.0,\n",
       " -6.0,\n",
       " -14.0,\n",
       " 16.0,\n",
       " 36.0,\n",
       " -74.0,\n",
       " -73.0,\n",
       " 1.0,\n",
       " -6.0,\n",
       " 7.0,\n",
       " 14.0,\n",
       " 17.0,\n",
       " 1.0,\n",
       " -9.0,\n",
       " -20.0,\n",
       " 1.0,\n",
       " 2.0,\n",
       " 8.0,\n",
       " -14.0,\n",
       " 1.0,\n",
       " 3.0,\n",
       " 15.0,\n",
       " -18.0,\n",
       " -38.0,\n",
       " 1.0,\n",
       " -10.0,\n",
       " 1.0,\n",
       " -3.0,\n",
       " 3.0,\n",
       " -3.0,\n",
       " -9.0,\n",
       " 36.0,\n",
       " 1.0,\n",
       " -1.0,\n",
       " -4.0,\n",
       " -12.0,\n",
       " -33.0,\n",
       " 1.0,\n",
       " -12.0,\n",
       " 36.0,\n",
       " 1.0,\n",
       " 9.0,\n",
       " -18.0,\n",
       " 57.0,\n",
       " 49.0,\n",
       " 1.0,\n",
       " -1.0,\n",
       " 8.0,\n",
       " -14.0,\n",
       " 1.0,\n",
       " 1.0,\n",
       " 1.0,\n",
       " -1.0,\n",
       " 18.0,\n",
       " 19.0,\n",
       " -30.0,\n",
       " 31.0,\n",
       " 1.0,\n",
       " 6.0,\n",
       " 15.0,\n",
       " 1.0,\n",
       " -2.0,\n",
       " -18.0,\n",
       " -40.0,\n",
       " 1.0,\n",
       " 1.0,\n",
       " 5.0,\n",
       " 10.0,\n",
       " -32.0,\n",
       " -76.0,\n",
       " 1.0,\n",
       " -6.0,\n",
       " -6.0,\n",
       " -28.0,\n",
       " -26.0,\n",
       " -32.0,\n",
       " -70.0,\n",
       " 49.0,\n",
       " 1.0,\n",
       " 1.0,\n",
       " 1.0,\n",
       " 19.0,\n",
       " 1.0,\n",
       " 9.0,\n",
       " -32.0,\n",
       " 29.0,\n",
       " 1.0,\n",
       " 2.0,\n",
       " -2.0,\n",
       " -6.0,\n",
       " 14.0,\n",
       " -14.0,\n",
       " 1.0,\n",
       " -4.0,\n",
       " 4.0,\n",
       " 1.0,\n",
       " 3.0,\n",
       " 15.0,\n",
       " 1.0,\n",
       " 2.0,\n",
       " -6.0,\n",
       " -14.0,\n",
       " 1.0,\n",
       " -3.0,\n",
       " 15.0,\n",
       " 1.0,\n",
       " -6.0,\n",
       " 30.0,\n",
       " 41.0,\n",
       " 102.0,\n",
       " 1.0,\n",
       " 4.0,\n",
       " 15.0,\n",
       " 13.0,\n",
       " 1.0,\n",
       " 1.0,\n",
       " -4.0,\n",
       " 8.0,\n",
       " 14.0,\n",
       " -19.0,\n",
       " -21.0,\n",
       " -22.0,\n",
       " -18.0,\n",
       " 18.0,\n",
       " -108.0,\n",
       " -114.0,\n",
       " -136.0,\n",
       " 256.0,\n",
       " 1.0,\n",
       " -4.0,\n",
       " -4.0,\n",
       " 28.0,\n",
       " 26.0,\n",
       " -32.0,\n",
       " 128.0,\n",
       " 1.0,\n",
       " 12.0,\n",
       " -22.0,\n",
       " 22.0,\n",
       " -42.0,\n",
       " -57.0,\n",
       " 73.0,\n",
       " 1.0,\n",
       " 4.0,\n",
       " 12.0,\n",
       " 24.0,\n",
       " 1.0,\n",
       " -2.0,\n",
       " 8.0,\n",
       " 1.0,\n",
       " -9.0,\n",
       " -18.0,\n",
       " -19.0,\n",
       " 19.0,\n",
       " -17.0,\n",
       " 22.0,\n",
       " 1.0,\n",
       " -16.0,\n",
       " 1.0,\n",
       " 3.0,\n",
       " -6.0,\n",
       " -6.0,\n",
       " -21.0,\n",
       " 1.0,\n",
       " 3.0,\n",
       " 3.0,\n",
       " -6.0,\n",
       " 14.0,\n",
       " 16.0,\n",
       " 26.0,\n",
       " 1.0,\n",
       " 9.0,\n",
       " 1.0,\n",
       " 3.0,\n",
       " 12.0,\n",
       " 44.0,\n",
       " 1.0,\n",
       " 2.0,\n",
       " -8.0,\n",
       " 9.0,\n",
       " 20.0,\n",
       " 25.0,\n",
       " 50.0,\n",
       " -51.0,\n",
       " 129.0,\n",
       " 1.0,\n",
       " 1.0,\n",
       " 1.0,\n",
       " -5.0,\n",
       " -40.0,\n",
       " 1.0,\n",
       " 9.0,\n",
       " -10.0,\n",
       " -45.0,\n",
       " -51.0,\n",
       " 79.0,\n",
       " 1.0,\n",
       " 5.0,\n",
       " -6.0,\n",
       " 12.0,\n",
       " 20.0,\n",
       " 20.0,\n",
       " -88.0,\n",
       " 1.0,\n",
       " -8.0,\n",
       " -32.0,\n",
       " 29.0,\n",
       " 1.0,\n",
       " 18.0,\n",
       " 1.0,\n",
       " 1.0,\n",
       " 3.0,\n",
       " 6.0,\n",
       " -6.0,\n",
       " 18.0,\n",
       " 13.0,\n",
       " 26.0,\n",
       " 21.0,\n",
       " -28.0,\n",
       " 1.0,\n",
       " -1.0,\n",
       " -8.0,\n",
       " -18.0,\n",
       " 1.0,\n",
       " 7.0,\n",
       " -6.0,\n",
       " -10.0,\n",
       " -12.0,\n",
       " 13.0,\n",
       " 11.0,\n",
       " 1.0,\n",
       " -6.0,\n",
       " -6.0,\n",
       " 6.0,\n",
       " -5.0,\n",
       " -15.0,\n",
       " -15.0,\n",
       " 30.0,\n",
       " 33.0,\n",
       " 34.0,\n",
       " 29.0,\n",
       " 26.0,\n",
       " -20.0,\n",
       " -42.0,\n",
       " 1.0,\n",
       " -2.0,\n",
       " -4.0,\n",
       " -4.0,\n",
       " -12.0,\n",
       " 18.0,\n",
       " 1.0,\n",
       " 2.0,\n",
       " -10.0,\n",
       " -10.0,\n",
       " 40.0,\n",
       " -41.0,\n",
       " -68.0,\n",
       " 1.0,\n",
       " -12.0,\n",
       " -9.0,\n",
       " 9.0,\n",
       " -12.0,\n",
       " -38.0,\n",
       " 102.0,\n",
       " 1.0,\n",
       " 4.0,\n",
       " 16.0,\n",
       " 19.0,\n",
       " 1.0,\n",
       " -7.0,\n",
       " -14.0,\n",
       " 1.0,\n",
       " -14.0,\n",
       " 1.0,\n",
       " 5.0,\n",
       " 15.0,\n",
       " 36.0,\n",
       " -43.0,\n",
       " 1.0,\n",
       " -5.0,\n",
       " -12.0,\n",
       " -22.0,\n",
       " 1.0,\n",
       " 6.0,\n",
       " 30.0,\n",
       " 87.0,\n",
       " -68.0,\n",
       " -35.0,\n",
       " -34.0,\n",
       " 1.0,\n",
       " -2.0,\n",
       " -10.0,\n",
       " -12.0,\n",
       " 10.0,\n",
       " 22.0,\n",
       " 24.0,\n",
       " 23.0,\n",
       " 20.0,\n",
       " -18.0,\n",
       " 40.0,\n",
       " -34.0,\n",
       " -24.0,\n",
       " -64.0,\n",
       " 1.0,\n",
       " -3.0,\n",
       " -9.0,\n",
       " 40.0,\n",
       " 1.0,\n",
       " 6.0,\n",
       " 18.0,\n",
       " -18.0,\n",
       " 42.0,\n",
       " 1.0,\n",
       " -1.0,\n",
       " 4.0,\n",
       " 1.0,\n",
       " -2.0,\n",
       " -6.0,\n",
       " -21.0,\n",
       " -18.0,\n",
       " 1.0,\n",
       " 11.0,\n",
       " 26.0,\n",
       " -140.0,\n",
       " 1.0,\n",
       " 7.0,\n",
       " 1.0,\n",
       " -10.0,\n",
       " 8.0,\n",
       " -24.0,\n",
       " 66.0,\n",
       " 1.0,\n",
       " 7.0,\n",
       " 12.0,\n",
       " 1.0,\n",
       " -4.0,\n",
       " 1.0,\n",
       " 1.0,\n",
       " -5.0,\n",
       " -10.0,\n",
       " 8.0,\n",
       " -27.0,\n",
       " 1.0,\n",
       " 4.0,\n",
       " 16.0,\n",
       " 1.0,\n",
       " -4.0,\n",
       " 4.0,\n",
       " -8.0,\n",
       " 9.0,\n",
       " 30.0,\n",
       " 1.0,\n",
       " 1.0,\n",
       " 9.0,\n",
       " 11.0,\n",
       " -11.0,\n",
       " -10.0,\n",
       " 1.0,\n",
       " 3.0,\n",
       " 6.0,\n",
       " 6.0,\n",
       " -12.0,\n",
       " -40.0,\n",
       " 34.0,\n",
       " -45.0,\n",
       " 1.0,\n",
       " 18.0,\n",
       " -17.0,\n",
       " 22.0,\n",
       " -44.0,\n",
       " 1.0,\n",
       " 1.0,\n",
       " -5.0,\n",
       " 15.0,\n",
       " 54.0,\n",
       " 1.0,\n",
       " 1.0,\n",
       " -5.0,\n",
       " 1.0,\n",
       " 4.0,\n",
       " -8.0,\n",
       " ...]"
      ]
     },
     "execution_count": 16,
     "metadata": {},
     "output_type": "execute_result"
    }
   ],
   "source": [
    "model_test.daily_returns"
   ]
  },
  {
   "cell_type": "code",
   "execution_count": 17,
   "metadata": {},
   "outputs": [],
   "source": [
    "# Nitai's variabe transformations:\n",
    "# converting data to array, taking asolute value, and normalizing with standard scaler to zero mean and unit variance, using sklearn StandardScaler. reference: https://scikit-learn.org/stable/modules/generated/sklearn.preprocessing.StandardScaler.html\n",
    "array_AMB_returns = np.array(model_test.daily_returns)\n",
    "abs_AMB_returns = np.abs(array_AMB_returns)\n",
    "# checking if abs transformation worked\n",
    "assert abs_AMB_returns.min() == 1\n",
    "scaler = StandardScaler()\n",
    "scaled_abs_ABM_returns = scaler.fit_transform(abs_AMB_returns.reshape(-1, 1))\n",
    "# checking if standard scaling worked\n",
    "assert abs_AMB_returns.max() > scaled_abs_ABM_returns.max()"
   ]
  },
  {
   "cell_type": "code",
   "execution_count": 18,
   "metadata": {},
   "outputs": [
    {
     "name": "stderr",
     "output_type": "stream",
     "text": [
      "C:\\Users\\iChin\\AppData\\Local\\Temp/ipykernel_37092/1685117646.py:1: RuntimeWarning:\n",
      "\n",
      "invalid value encountered in log\n",
      "\n"
     ]
    }
   ],
   "source": [
    "log_scaled_abs_AMB_returns = np.log(scaled_abs_ABM_returns)"
   ]
  },
  {
   "cell_type": "code",
   "execution_count": 19,
   "metadata": {},
   "outputs": [
    {
     "data": {
      "image/png": "[encoded data removed]",
      "text/plain": [
       "<Figure size 432x288 with 1 Axes>"
      ]
     },
     "metadata": {
      "needs_background": "light"
     },
     "output_type": "display_data"
    },
    {
     "data": {
      "image/png": "[encoded data removed]",
      "text/plain": [
       "<Figure size 432x288 with 1 Axes>"
      ]
     },
     "metadata": {
      "needs_background": "light"
     },
     "output_type": "display_data"
    }
   ],
   "source": [
    "# logarithmic bins\n",
    "bin=np.logspace(start=0, stop=np.log(5), num=t)\n",
    "\n",
    "\n",
    "\n",
    "plt.plot(scaled_abs_ABM_returns)\n",
    "plt.title(\"ABM simulation of daily returns\")\n",
    "plt.xlabel(\"Time\")\n",
    "plt.ylabel(\"Daily returns\")\n",
    "plt.show()\n",
    "\n",
    "plt.figure(1)\n",
    "plt.hist(scaled_abs_ABM_returns, bin, cumulative=-1, density=True, log=True, histtype='step')\n",
    "plt.title(\"Probability distribution of absolute returns (log-log)\")\n",
    "plt.xlabel(\"Absolute daily returns\")\n",
    "plt.ylabel(\"P(|absolute returns| > x)\")\n",
    "plt.gca().set_xscale(\"log\")\n",
    "plt.show()\n"
   ]
  },
  {
   "cell_type": "markdown",
   "metadata": {},
   "source": [
    "# Model definition: Stochastic model"
   ]
  },
  {
   "cell_type": "code",
   "execution_count": 20,
   "metadata": {},
   "outputs": [],
   "source": [
    "class Stochastic_Model:\n",
    "    def __init__(self, n: int, p: float, init: int, time_horizon: bool, M, d):\n",
    "        self.returns = [init]\n",
    "        self.n = n\n",
    "        self.p = p\n",
    "        self.time_horizon = time_horizon\n",
    "        self.M = M\n",
    "        self.d = d\n",
    "\n",
    "    def time_horizons(self):\n",
    "        time_horizons = []\n",
    "        alpha = []\n",
    "\n",
    "        # distribution of agents in different time horizons\n",
    "        # agents are allocated to each time horizon (with exponential decay as we go back in time), until we reach the limit M\n",
    "        # or until we reach the beginning of the simulation (if current timestep t < M)\n",
    "        for i in range(1, self.M + 1):\n",
    "            if len(self.returns) == 1:\n",
    "                value = (i ** -self.d) * abs(self.returns[-1])\n",
    "                alpha_val = (i ** -self.d)\n",
    "                time_horizons.append(value)\n",
    "                alpha.append(alpha_val)\n",
    "\n",
    "            elif i >= len(self.returns):\n",
    "                value = (i ** -self.d) * abs(self.returns[-1] - self.returns[0])\n",
    "                alpha_val = (i ** -self.d)\n",
    "                time_horizons.append(value)\n",
    "                alpha.append(alpha_val)\n",
    "\n",
    "            else:\n",
    "                value = (i ** -self.d) * abs(self.returns[-1] - self.returns[-1-i])\n",
    "                alpha_val = (i ** -self.d)\n",
    "                time_horizons.append(value)\n",
    "                alpha.append(alpha_val)\n",
    "\n",
    "        return sum(time_horizons) * (sum(alpha) ** -1)\n",
    "\n",
    "    def step(self):\n",
    "\n",
    "        # Agents only factor in the returns at the previous timestep\n",
    "        if self.time_horizon == False:\n",
    "            variance  = 2 * p * n * abs(self.returns[-1])\n",
    "            std = math.sqrt(variance)\n",
    "            value = std * np.random.normal(0.0, 1.0)\n",
    "            self.returns.append(value)\n",
    "        \n",
    "        # Agents look back M timesteps\n",
    "        if self.time_horizon == True:\n",
    "            horizons = self.time_horizons()\n",
    "            variance  = 2 * p * n * horizons\n",
    "            std = math.sqrt(variance)\n",
    "            value = std * np.random.normal(0.0, 1.0)\n",
    "            self.returns.append(value)  "
   ]
  },
  {
   "cell_type": "markdown",
   "metadata": {},
   "source": [
    "# Stochastic model test run"
   ]
  },
  {
   "cell_type": "code",
   "execution_count": 21,
   "metadata": {},
   "outputs": [],
   "source": [
    "# Stochastic simulation\n",
    "\n",
    "stochastic = Stochastic_Model(n, p, 10, time_horizon=False, M=10, d=1.12)\n",
    "stochastic_horizons = Stochastic_Model(n, p, 10, time_horizon=True, M=10, d=1.12)\n",
    "\n",
    "for i in range(t):\n",
    "    stochastic.step()\n",
    "    stochastic_horizons.step()"
   ]
  },
  {
   "cell_type": "code",
   "execution_count": 22,
   "metadata": {},
   "outputs": [],
   "source": [
    "# Nitai's variabe transformations:\n",
    "# changing datatype to array\n",
    "stochastic_returns_array = np.array(stochastic.returns)\n",
    "stochastic_returns_horizons_array = np.array(stochastic_horizons.returns)\n",
    "# taking absolute value\n",
    "stochastic_returns_abs = np.abs(stochastic_returns_array)\n",
    "stochastic_returns_horizons_abs = np.abs(stochastic_returns_horizons_array)\n",
    "# normalizing with standard scaler\n",
    "scaler = StandardScaler()\n",
    "scaled_stochastic_returns = scaler.fit_transform(stochastic_returns_abs.reshape(-1, 1))\n",
    "scaled_stochastic_returns_horizons = scaler.fit_transform(stochastic_returns_horizons_abs.reshape(-1, 1))\n"
   ]
  },
  {
   "cell_type": "code",
   "execution_count": 23,
   "metadata": {},
   "outputs": [
    {
     "data": {
      "image/png": "[encoded data removed]",
      "text/plain": [
       "<Figure size 432x288 with 1 Axes>"
      ]
     },
     "metadata": {
      "needs_background": "light"
     },
     "output_type": "display_data"
    },
    {
     "data": {
      "image/png": "[encoded data removed]",
      "text/plain": [
       "<Figure size 432x288 with 1 Axes>"
      ]
     },
     "metadata": {
      "needs_background": "light"
     },
     "output_type": "display_data"
    },
    {
     "data": {
      "image/png": "[encoded data removed]",
      "text/plain": [
       "<Figure size 432x288 with 1 Axes>"
      ]
     },
     "metadata": {
      "needs_background": "light"
     },
     "output_type": "display_data"
    }
   ],
   "source": [
    "#stochastic simulation return plots\n",
    "\n",
    "plt.title(\"Stochastic simulation of daily returns without time horizon\")\n",
    "plt.plot(range(t + 1), scaled_stochastic_returns)\n",
    "plt.xlabel(\"Time\")\n",
    "plt.ylabel(\"Returns\")\n",
    "plt.show()\n",
    "\n",
    "plt.title(\"Stochastic simulation of daily returns with time horizon\")\n",
    "plt.plot(range(t+1), scaled_stochastic_returns_horizons, color='orange')\n",
    "plt.xlabel(\"Time\")\n",
    "plt.ylabel(\"Returns\")\n",
    "plt.show()\n",
    "\n",
    "# Nitai's code: returns normalized previously\n",
    "abs_returns = scaled_stochastic_returns\n",
    "abs_returns_horizons = scaled_stochastic_returns_horizons\n",
    "\n",
    "\n",
    "bin=np.logspace(start=0, stop=np.log(10), num=200)\n",
    "\n",
    "plt.hist(abs_returns, bins=bin, cumulative=-1, density=True, log=True, histtype='step', label='without time horizon')\n",
    "plt.hist(abs_returns_horizons, bin, cumulative=-1, density=True, log=True, histtype='step', color = 'orange', label='with time horizon')\n",
    "bins_heights = plt.hist(abs_returns_horizons, bin, cumulative=-1, density=True, log=True, histtype='step', color = 'orange')[0]\n",
    "plt.gca().set_xscale(\"log\")\n",
    "plt.title('Stochastic simulation with time & WITHOUT horizon (log-log)')\t\n",
    "plt.xlabel('abs returns')\n",
    "plt.ylabel('P(|abs returns| > x)')\n",
    "plt.show()"
   ]
  },
  {
   "cell_type": "markdown",
   "metadata": {},
   "source": [
    "# Simulation functions"
   ]
  },
  {
   "cell_type": "code",
   "execution_count": 24,
   "metadata": {},
   "outputs": [],
   "source": [
    "# (self, n: int, p: float, init: int, time_horizon: bool, M, d)"
   ]
  },
  {
   "cell_type": "code",
   "execution_count": 25,
   "metadata": {},
   "outputs": [],
   "source": [
    "def run_ABM(p, n, size, k, omega, b, t, runs):\n",
    "    ''' Runs the ABM model for a given number of runs and time steps. Returns a list of lists of daily returns and a list of lists of trading volume.'''\n",
    "    ABM_sim_results_returns = []\n",
    "    ABM_sim_results_volume = []\n",
    "    for run in range(runs):\n",
    "        model = Model(p, n, size, k, omega, b)\n",
    "        for i in range(t):\n",
    "            model.step()\n",
    "        ABM_sim_results_returns.append(model.daily_returns)\n",
    "        ABM_sim_results_volume.append(model.daily_trading_volumes)    \n",
    "    ABM_sim_results_returns_array = np.array(ABM_sim_results_returns)\n",
    "    ABM_sim_results_volume_array = np.array(ABM_sim_results_volume)\n",
    "    return ABM_sim_results_returns_array, ABM_sim_results_volume_array\n",
    "        "
   ]
  },
  {
   "cell_type": "code",
   "execution_count": 26,
   "metadata": {},
   "outputs": [],
   "source": [
    "def run_Stochastic_Model(n: int, p: float, init: int, time_horizon: bool, M, d, t, runs):\n",
    "    ''' Runs the stochastic model for a given number of runs and time steps, outputs a list of lists of daily returns and a list of lists of trading volume.'''\n",
    "    Stochastic_Model_sim_results_returns = []\n",
    "    Stochastic_Model_sim_results_volume = []\n",
    "    for run in range(runs):\n",
    "        model = Stochastic_Model(n=n, p=p, init=10, time_horizon=time_horizon, M=M, d=d)\n",
    "        # model = Stochastic_Model(n, p, init, time_horizon, M, d)\n",
    "        for i in range(t):\n",
    "            model.step()\n",
    "        Stochastic_Model_sim_results_returns.append(model.returns)\n",
    "    Stochastic_Model_sim_results_return_array = np.array(Stochastic_Model_sim_results_returns)\n",
    "    return Stochastic_Model_sim_results_return_array"
   ]
  },
  {
   "cell_type": "markdown",
   "metadata": {},
   "source": [
    "# Hill estimator function"
   ]
  },
  {
   "cell_type": "code",
   "execution_count": 27,
   "metadata": {},
   "outputs": [],
   "source": [
    "# The following Hill estimator coded according description in https://cran.r-project.org/web/packages/ptsuite/vignettes/ptsuite_vignette.pdf\n",
    "def Hill_estimator(data, tail_percentage):\n",
    "    \"\"\"\n",
    "    Returns the Hill Estimators for some 1D data set.\n",
    "    \"\"\"  \n",
    "    # sort data in such way that the smallest value is first and the largest value comes last:\n",
    "    Y = np.sort(data)\n",
    "    n = len(Y)\n",
    "    k = int(np.round((tail_percentage * n)/100))\n",
    "    log_x_n_minus_k = np.log(Y[n-k-1])\n",
    "    log_x_n_minus_j_plus_1 = np.log(Y[-k:])\n",
    "\n",
    "    alpha_est = k *(np.sum(log_x_n_minus_j_plus_1 - log_x_n_minus_k))**(-1)\n",
    "\n",
    "    return alpha_est"
   ]
  },
  {
   "cell_type": "markdown",
   "metadata": {},
   "source": [
    "# Running 10 ABM simulation runs:"
   ]
  },
  {
   "cell_type": "markdown",
   "metadata": {},
   "source": [
    "### Parameters:"
   ]
  },
  {
   "cell_type": "code",
   "execution_count": 28,
   "metadata": {},
   "outputs": [
    {
     "name": "stdout",
     "output_type": "stream",
     "text": [
      "The V value is 2.183549851113631\n",
      "V_f: 0.2 gives a p value of 0.02373588060133683\n",
      "V_f: 0.4 gives a p value of 0.02178293942486624\n",
      "V_f: 0.6 gives a p value of 0.019829998248395653\n",
      "V_f: 0.8 gives a p value of 0.01787705707192506\n"
     ]
    }
   ],
   "source": [
    "V_f_list = [0.2, 0.4, 0.6, 0.8]\n",
    "\n",
    "print(\"The V value is\", V)\n",
    "for V_f in V_f_list:\n",
    "    p = probability_of_trading(V_f, V)\n",
    "    print('V_f: ' + str(V_f), 'gives a p value of', p)"
   ]
  },
  {
   "cell_type": "code",
   "execution_count": 29,
   "metadata": {},
   "outputs": [],
   "source": [
    "# other parameters\n",
    "n = 2**10\n",
    "t = 10**6\n",
    "p = 0.02178\n",
    "omega = 1\n",
    "b = 1.0\n",
    "size = 1\n",
    "k = 1\n",
    "M = 500\n",
    "d = 1.12\n",
    "runs = 10"
   ]
  },
  {
   "cell_type": "code",
   "execution_count": 30,
   "metadata": {},
   "outputs": [],
   "source": [
    "n0_list = [2**8, 2**10, 2**12, 2**14]\n",
    "V_f_list = [0.2, 0.4, 0.6, 0.8]"
   ]
  },
  {
   "cell_type": "code",
   "execution_count": 31,
   "metadata": {},
   "outputs": [],
   "source": [
    "# ABM returns for different V_f's (so in effect different p) across 10 runs"
   ]
  },
  {
   "cell_type": "markdown",
   "metadata": {},
   "source": [
    "# ABM returns for different omega's across 10 runs"
   ]
  },
  {
   "cell_type": "code",
   "execution_count": 50,
   "metadata": {},
   "outputs": [],
   "source": [
    "# other parameters\n",
    "n = 2**10\n",
    "t = 10**6\n",
    "p = 0.02178\n",
    "omega = 1\n",
    "b = 1.0\n",
    "size = 1\n",
    "k = 1\n",
    "runs = 10"
   ]
  },
  {
   "cell_type": "code",
   "execution_count": 33,
   "metadata": {},
   "outputs": [],
   "source": [
    "# same omega list as in the paper: Feng et al. 2012\n",
    "omega_list = [0.5, 0.6,\t0.7, 0.8, 0.9, 1.0,\t1.1, 1.2, 1.4, 1.5, 2.0]"
   ]
  },
  {
   "cell_type": "code",
   "execution_count": 34,
   "metadata": {},
   "outputs": [],
   "source": [
    "# 10 runs, for different values of omega , using Vf = 0.4, n0 = 2**10, b = 1.0\n",
    "results_ABM_10_runs_for_different_omega = []\n",
    "for omega in omega_list:\n",
    "    run_results = run_ABM(p, n, size, k, omega, b, t, runs)\n",
    "    results_ABM_10_runs_for_different_omega.append(run_results)"
   ]
  },
  {
   "cell_type": "code",
   "execution_count": 35,
   "metadata": {},
   "outputs": [
    {
     "data": {
      "image/png": "[encoded data removed]",
      "text/plain": [
       "<Figure size 432x288 with 1 Axes>"
      ]
     },
     "metadata": {
      "needs_background": "light"
     },
     "output_type": "display_data"
    },
    {
     "data": {
      "image/png": "[encoded data removed]",
      "text/plain": [
       "<Figure size 432x288 with 1 Axes>"
      ]
     },
     "metadata": {
      "needs_background": "light"
     },
     "output_type": "display_data"
    },
    {
     "data": {
      "image/png": "[encoded data removed]",
      "text/plain": [
       "<Figure size 432x288 with 1 Axes>"
      ]
     },
     "metadata": {
      "needs_background": "light"
     },
     "output_type": "display_data"
    },
    {
     "data": {
      "image/png": "[encoded data removed]",
      "text/plain": [
       "<Figure size 432x288 with 1 Axes>"
      ]
     },
     "metadata": {
      "needs_background": "light"
     },
     "output_type": "display_data"
    },
    {
     "data": {
      "image/png": "[encoded data removed]",
      "text/plain": [
       "<Figure size 432x288 with 1 Axes>"
      ]
     },
     "metadata": {
      "needs_background": "light"
     },
     "output_type": "display_data"
    },
    {
     "data": {
      "image/png": "[encoded data removed]",
      "text/plain": [
       "<Figure size 432x288 with 1 Axes>"
      ]
     },
     "metadata": {
      "needs_background": "light"
     },
     "output_type": "display_data"
    },
    {
     "data": {
      "image/png": "[encoded data removed]",
      "text/plain": [
       "<Figure size 432x288 with 1 Axes>"
      ]
     },
     "metadata": {
      "needs_background": "light"
     },
     "output_type": "display_data"
    },
    {
     "data": {
      "image/png": "[encoded data removed]",
      "text/plain": [
       "<Figure size 432x288 with 1 Axes>"
      ]
     },
     "metadata": {
      "needs_background": "light"
     },
     "output_type": "display_data"
    },
    {
     "data": {
      "image/png": "[encoded data removed]",
      "text/plain": [
       "<Figure size 432x288 with 1 Axes>"
      ]
     },
     "metadata": {
      "needs_background": "light"
     },
     "output_type": "display_data"
    },
    {
     "data": {
      "image/png": "[encoded data removed]",
      "text/plain": [
       "<Figure size 432x288 with 1 Axes>"
      ]
     },
     "metadata": {
      "needs_background": "light"
     },
     "output_type": "display_data"
    },
    {
     "data": {
      "image/png": "[encoded data removed]",
      "text/plain": [
       "<Figure size 432x288 with 1 Axes>"
      ]
     },
     "metadata": {
      "needs_background": "light"
     },
     "output_type": "display_data"
    }
   ],
   "source": [
    "bins = np.logspace(-4,3, 100)\n",
    "for omega in range(len(omega_list)):\n",
    "    for run in range(10):\n",
    "        plt.hist(results_ABM_10_runs_for_different_omega[omega][0][run].flatten(), bins=bins, alpha=0.5, cumulative=-1, log = True, histtype='step',label='V_f = ' + str(run),density=1)\n",
    "        plt.gca().set_xscale(\"log\")\n",
    "        plt.title(f'Histogram of returns omega: {str(omega_list[omega])} across 10 runs')\n",
    "        plt.xlabel('Returns')\n",
    "        plt.ylabel('CDF')\n",
    "        plt.legend()\n",
    "    plt.show()"
   ]
  },
  {
   "cell_type": "code",
   "execution_count": 36,
   "metadata": {},
   "outputs": [
    {
     "name": "stderr",
     "output_type": "stream",
     "text": [
      "C:\\Users\\iChin\\AppData\\Local\\Temp/ipykernel_37092/4134767997.py:13: RuntimeWarning:\n",
      "\n",
      "divide by zero encountered in double_scalars\n",
      "\n"
     ]
    }
   ],
   "source": [
    "dict_of_results_for_different_omega = {}\n",
    "for omega in range(len(omega_list)):\n",
    "    HE_list_omega = []\n",
    "    for run in range(10):\n",
    "        HE_list_omega.append(Hill_estimator(results_ABM_10_runs_for_different_omega[omega][0][run].flatten(),1))\n",
    "    dict_of_results_for_different_omega[omega_list[omega]] = np.mean(HE_list_omega), np.min(HE_list_omega), np.max(HE_list_omega)"
   ]
  },
  {
   "cell_type": "code",
   "execution_count": 37,
   "metadata": {},
   "outputs": [
    {
     "data": {
      "text/html": [
       "<div>\n",
       "<style scoped>\n",
       "    .dataframe tbody tr th:only-of-type {\n",
       "        vertical-align: middle;\n",
       "    }\n",
       "\n",
       "    .dataframe tbody tr th {\n",
       "        vertical-align: top;\n",
       "    }\n",
       "\n",
       "    .dataframe thead th {\n",
       "        text-align: right;\n",
       "    }\n",
       "</style>\n",
       "<table border=\"1\" class=\"dataframe\">\n",
       "  <thead>\n",
       "    <tr style=\"text-align: right;\">\n",
       "      <th></th>\n",
       "      <th>0.5</th>\n",
       "      <th>0.6</th>\n",
       "      <th>0.7</th>\n",
       "      <th>0.8</th>\n",
       "      <th>0.9</th>\n",
       "      <th>1.0</th>\n",
       "      <th>1.1</th>\n",
       "      <th>1.2</th>\n",
       "      <th>1.4</th>\n",
       "      <th>1.5</th>\n",
       "      <th>2.0</th>\n",
       "    </tr>\n",
       "  </thead>\n",
       "  <tbody>\n",
       "    <tr>\n",
       "      <th>mean</th>\n",
       "      <td>2.182009</td>\n",
       "      <td>2.042880</td>\n",
       "      <td>2.548184</td>\n",
       "      <td>2.581477</td>\n",
       "      <td>2.926605</td>\n",
       "      <td>3.342349</td>\n",
       "      <td>3.846675</td>\n",
       "      <td>4.170856</td>\n",
       "      <td>4.442508</td>\n",
       "      <td>5.951085</td>\n",
       "      <td>inf</td>\n",
       "    </tr>\n",
       "    <tr>\n",
       "      <th>min</th>\n",
       "      <td>2.138635</td>\n",
       "      <td>1.992482</td>\n",
       "      <td>2.376033</td>\n",
       "      <td>2.536507</td>\n",
       "      <td>2.717027</td>\n",
       "      <td>3.293931</td>\n",
       "      <td>3.773468</td>\n",
       "      <td>4.039824</td>\n",
       "      <td>3.922810</td>\n",
       "      <td>5.807212</td>\n",
       "      <td>8.306764e+04</td>\n",
       "    </tr>\n",
       "    <tr>\n",
       "      <th>max</th>\n",
       "      <td>2.258593</td>\n",
       "      <td>2.203967</td>\n",
       "      <td>2.628738</td>\n",
       "      <td>2.653260</td>\n",
       "      <td>3.141331</td>\n",
       "      <td>3.398668</td>\n",
       "      <td>3.967279</td>\n",
       "      <td>4.306978</td>\n",
       "      <td>5.013182</td>\n",
       "      <td>6.106836</td>\n",
       "      <td>inf</td>\n",
       "    </tr>\n",
       "  </tbody>\n",
       "</table>\n",
       "</div>"
      ],
      "text/plain": [
       "           0.5       0.6       0.7       0.8       0.9       1.0       1.1  \\\n",
       "mean  2.182009  2.042880  2.548184  2.581477  2.926605  3.342349  3.846675   \n",
       "min   2.138635  1.992482  2.376033  2.536507  2.717027  3.293931  3.773468   \n",
       "max   2.258593  2.203967  2.628738  2.653260  3.141331  3.398668  3.967279   \n",
       "\n",
       "           1.2       1.4       1.5           2.0  \n",
       "mean  4.170856  4.442508  5.951085           inf  \n",
       "min   4.039824  3.922810  5.807212  8.306764e+04  \n",
       "max   4.306978  5.013182  6.106836           inf  "
      ]
     },
     "execution_count": 37,
     "metadata": {},
     "output_type": "execute_result"
    }
   ],
   "source": [
    "# making a dataframe with the mean, min and max of the Hill estimator for different values of V_f\n",
    "df_ABM_return_results_for_different_omega = pd.DataFrame(dict_of_results_for_different_omega)\n",
    "df_ABM_return_results_for_different_omega.index = [ 'mean', 'min', 'max']\n",
    "df_ABM_return_results_for_different_omega "
   ]
  },
  {
   "cell_type": "code",
   "execution_count": 38,
   "metadata": {},
   "outputs": [],
   "source": [
    "# saving the dataframe as a csv file\n",
    "df_ABM_return_results_for_different_omega.to_csv('df_ABM_return_results_for_different_omega.csv')"
   ]
  },
  {
   "cell_type": "code",
   "execution_count": 48,
   "metadata": {},
   "outputs": [
    {
     "data": {
      "image/png": "[encoded data removed]",
      "text/plain": [
       "<Figure size 432x288 with 1 Axes>"
      ]
     },
     "metadata": {
      "needs_background": "light"
     },
     "output_type": "display_data"
    },
    {
     "name": "stdout",
     "output_type": "stream",
     "text": [
      "R^2: 0.9232980091616532)\n",
      "intercept: 0.001334841933713804\n",
      "coefficient: [3.50734845]\n",
      "Null hypothesis: the coefficient is zero\n",
      "Alternative hypothesis: the coefficient is not zero\n",
      "If p value is less than 0.05, we reject the null hypothesis\n",
      "p value: 9.08419823293013e-11\n",
      "Thus, we reject the null hypothesis in favor of the alternative hypothesis\n"
     ]
    }
   ],
   "source": [
    "# regress the Hill estimator of returns on omega\n",
    "# Removing the 2.0 value as it's inf\n",
    "X = np.array(omega_list[0:10]).reshape(-1,1)\n",
    "y = df_ABM_return_results_for_different_omega.loc['mean'].values[0:10]\n",
    "reg = LinearRegression().fit(X, y)\n",
    "plt.scatter(X, y)\n",
    "plt.plot(X, reg.predict(X), color='red')\n",
    "plt.title('Hill estimator of returns on omega')\n",
    "plt.xlabel('omega')\n",
    "plt.ylabel('Hill estimator of returns')\n",
    "plt.show()\n",
    "print(f'R^2: {str(reg.score(X, y))})')\n",
    "print(f'intercept: {str(reg.intercept_)}')\n",
    "print(f'coefficient: {str(reg.coef_)}')\n",
    "\n",
    "# getting p value from statsmodels library:\n",
    "\n",
    "model = sm.OLS(y, X).fit()\n",
    "\n",
    "# Get the p-value of the regression coefficients\n",
    "p_value = model.pvalues[0]\n",
    "\n",
    "print('Null hypothesis: the coefficient is zero')\n",
    "print('Alternative hypothesis: the coefficient is not zero')\n",
    "print('If p value is less than 0.05, we reject the null hypothesis')\n",
    "print(f'p value: {str(p_value)}')\n",
    "if p_value < 0.05:\n",
    "    print('Thus, we reject the null hypothesis in favor of the alternative hypothesis')\n",
    "else:\n",
    "    print('Thus, we fail to reject the null hypothesis')"
   ]
  },
  {
   "cell_type": "markdown",
   "metadata": {},
   "source": [
    "# ABM returns for different V_f's (so in effect different p) across 10 runs\n",
    "\n"
   ]
  },
  {
   "cell_type": "code",
   "execution_count": 51,
   "metadata": {},
   "outputs": [
    {
     "ename": "KeyboardInterrupt",
     "evalue": "",
     "output_type": "error",
     "traceback": [
      "\u001b[1;31m---------------------------------------------------------------------------\u001b[0m",
      "\u001b[1;31mKeyboardInterrupt\u001b[0m                         Traceback (most recent call last)",
      "\u001b[1;32m~\\AppData\\Local\\Temp/ipykernel_37092/720437682.py\u001b[0m in \u001b[0;36m<module>\u001b[1;34m\u001b[0m\n\u001b[1;32m----> 1\u001b[1;33m \u001b[0mrun_ABM\u001b[0m\u001b[1;33m(\u001b[0m\u001b[0mp\u001b[0m\u001b[1;33m,\u001b[0m \u001b[0mn\u001b[0m\u001b[1;33m,\u001b[0m \u001b[0msize\u001b[0m\u001b[1;33m,\u001b[0m \u001b[0mk\u001b[0m\u001b[1;33m,\u001b[0m \u001b[0momega\u001b[0m\u001b[1;33m,\u001b[0m \u001b[0mb\u001b[0m\u001b[1;33m,\u001b[0m \u001b[0mt\u001b[0m\u001b[1;33m,\u001b[0m \u001b[0mruns\u001b[0m\u001b[1;33m)\u001b[0m\u001b[1;33m\u001b[0m\u001b[1;33m\u001b[0m\u001b[0m\n\u001b[0m",
      "\u001b[1;32m~\\AppData\\Local\\Temp/ipykernel_37092/2681456691.py\u001b[0m in \u001b[0;36mrun_ABM\u001b[1;34m(p, n, size, k, omega, b, t, runs)\u001b[0m\n\u001b[0;32m      6\u001b[0m         \u001b[0mmodel\u001b[0m \u001b[1;33m=\u001b[0m \u001b[0mModel\u001b[0m\u001b[1;33m(\u001b[0m\u001b[0mp\u001b[0m\u001b[1;33m,\u001b[0m \u001b[0mn\u001b[0m\u001b[1;33m,\u001b[0m \u001b[0msize\u001b[0m\u001b[1;33m,\u001b[0m \u001b[0mk\u001b[0m\u001b[1;33m,\u001b[0m \u001b[0momega\u001b[0m\u001b[1;33m,\u001b[0m \u001b[0mb\u001b[0m\u001b[1;33m)\u001b[0m\u001b[1;33m\u001b[0m\u001b[1;33m\u001b[0m\u001b[0m\n\u001b[0;32m      7\u001b[0m         \u001b[1;32mfor\u001b[0m \u001b[0mi\u001b[0m \u001b[1;32min\u001b[0m \u001b[0mrange\u001b[0m\u001b[1;33m(\u001b[0m\u001b[0mt\u001b[0m\u001b[1;33m)\u001b[0m\u001b[1;33m:\u001b[0m\u001b[1;33m\u001b[0m\u001b[1;33m\u001b[0m\u001b[0m\n\u001b[1;32m----> 8\u001b[1;33m             \u001b[0mmodel\u001b[0m\u001b[1;33m.\u001b[0m\u001b[0mstep\u001b[0m\u001b[1;33m(\u001b[0m\u001b[1;33m)\u001b[0m\u001b[1;33m\u001b[0m\u001b[1;33m\u001b[0m\u001b[0m\n\u001b[0m\u001b[0;32m      9\u001b[0m         \u001b[0mABM_sim_results_returns\u001b[0m\u001b[1;33m.\u001b[0m\u001b[0mappend\u001b[0m\u001b[1;33m(\u001b[0m\u001b[0mmodel\u001b[0m\u001b[1;33m.\u001b[0m\u001b[0mdaily_returns\u001b[0m\u001b[1;33m)\u001b[0m\u001b[1;33m\u001b[0m\u001b[1;33m\u001b[0m\u001b[0m\n\u001b[0;32m     10\u001b[0m         \u001b[0mABM_sim_results_volume\u001b[0m\u001b[1;33m.\u001b[0m\u001b[0mappend\u001b[0m\u001b[1;33m(\u001b[0m\u001b[0mmodel\u001b[0m\u001b[1;33m.\u001b[0m\u001b[0mdaily_trading_volumes\u001b[0m\u001b[1;33m)\u001b[0m\u001b[1;33m\u001b[0m\u001b[1;33m\u001b[0m\u001b[0m\n",
      "\u001b[1;32m~\\AppData\\Local\\Temp/ipykernel_37092/691386505.py\u001b[0m in \u001b[0;36mstep\u001b[1;34m(self)\u001b[0m\n\u001b[0;32m     59\u001b[0m         \u001b[0mself\u001b[0m\u001b[1;33m.\u001b[0m\u001b[0mcount\u001b[0m \u001b[1;33m+=\u001b[0m \u001b[1;36m1\u001b[0m\u001b[1;33m\u001b[0m\u001b[1;33m\u001b[0m\u001b[0m\n\u001b[0;32m     60\u001b[0m         \u001b[0mc\u001b[0m \u001b[1;33m=\u001b[0m \u001b[0mself\u001b[0m\u001b[1;33m.\u001b[0m\u001b[0mdistribute_opinion_groups\u001b[0m\u001b[1;33m(\u001b[0m\u001b[1;33m)\u001b[0m\u001b[1;33m\u001b[0m\u001b[1;33m\u001b[0m\u001b[0m\n\u001b[1;32m---> 61\u001b[1;33m         \u001b[0mpsis\u001b[0m \u001b[1;33m=\u001b[0m \u001b[0mbuy_sell_hold\u001b[0m\u001b[1;33m(\u001b[0m\u001b[0mself\u001b[0m\u001b[1;33m.\u001b[0m\u001b[0mp\u001b[0m\u001b[1;33m,\u001b[0m \u001b[0mc\u001b[0m\u001b[1;33m)\u001b[0m\u001b[1;33m\u001b[0m\u001b[1;33m\u001b[0m\u001b[0m\n\u001b[0m\u001b[0;32m     62\u001b[0m         \u001b[0maverage_agents_per_group\u001b[0m \u001b[1;33m=\u001b[0m \u001b[0mint\u001b[0m\u001b[1;33m(\u001b[0m\u001b[0mnp\u001b[0m\u001b[1;33m.\u001b[0m\u001b[0mround\u001b[0m\u001b[1;33m(\u001b[0m\u001b[0mself\u001b[0m\u001b[1;33m.\u001b[0m\u001b[0mn\u001b[0m\u001b[1;33m/\u001b[0m\u001b[0mc\u001b[0m\u001b[1;33m)\u001b[0m\u001b[1;33m)\u001b[0m\u001b[1;33m\u001b[0m\u001b[1;33m\u001b[0m\u001b[0m\n\u001b[0;32m     63\u001b[0m         \u001b[0mreturn_matrix\u001b[0m \u001b[1;33m=\u001b[0m \u001b[0mpsis\u001b[0m \u001b[1;33m*\u001b[0m \u001b[0maverage_agents_per_group\u001b[0m\u001b[1;33m\u001b[0m\u001b[1;33m\u001b[0m\u001b[0m\n",
      "\u001b[1;32m~\\AppData\\Local\\Temp/ipykernel_37092/691386505.py\u001b[0m in \u001b[0;36mbuy_sell_hold\u001b[1;34m(p, amount_times)\u001b[0m\n\u001b[0;32m      3\u001b[0m     \u001b[1;32massert\u001b[0m \u001b[0mp\u001b[0m \u001b[1;33m<=\u001b[0m \u001b[1;36m0.5\u001b[0m\u001b[1;33m,\u001b[0m \u001b[1;34m\"p should be smaller than 0.5\"\u001b[0m\u001b[1;33m\u001b[0m\u001b[1;33m\u001b[0m\u001b[0m\n\u001b[0;32m      4\u001b[0m     \u001b[0mpsis\u001b[0m \u001b[1;33m=\u001b[0m \u001b[0mnp\u001b[0m\u001b[1;33m.\u001b[0m\u001b[0mzeros\u001b[0m\u001b[1;33m(\u001b[0m\u001b[0mamount_times\u001b[0m\u001b[1;33m)\u001b[0m\u001b[1;33m\u001b[0m\u001b[1;33m\u001b[0m\u001b[0m\n\u001b[1;32m----> 5\u001b[1;33m     \u001b[0mdice_rolls\u001b[0m \u001b[1;33m=\u001b[0m \u001b[0mnp\u001b[0m\u001b[1;33m.\u001b[0m\u001b[0mrandom\u001b[0m\u001b[1;33m.\u001b[0m\u001b[0muniform\u001b[0m\u001b[1;33m(\u001b[0m\u001b[1;36m0\u001b[0m\u001b[1;33m,\u001b[0m \u001b[1;36m1\u001b[0m\u001b[1;33m,\u001b[0m \u001b[0mamount_times\u001b[0m\u001b[1;33m)\u001b[0m\u001b[1;33m\u001b[0m\u001b[1;33m\u001b[0m\u001b[0m\n\u001b[0m\u001b[0;32m      6\u001b[0m     \u001b[0mindices\u001b[0m \u001b[1;33m=\u001b[0m \u001b[0mnp\u001b[0m\u001b[1;33m.\u001b[0m\u001b[0mnonzero\u001b[0m\u001b[1;33m(\u001b[0m\u001b[0mdice_rolls\u001b[0m \u001b[1;33m<=\u001b[0m \u001b[1;36m2\u001b[0m\u001b[1;33m*\u001b[0m\u001b[0mp\u001b[0m\u001b[1;33m)\u001b[0m\u001b[1;33m\u001b[0m\u001b[1;33m\u001b[0m\u001b[0m\n\u001b[0;32m      7\u001b[0m \u001b[1;33m\u001b[0m\u001b[0m\n",
      "\u001b[1;31mKeyboardInterrupt\u001b[0m: "
     ]
    }
   ],
   "source": [
    "run_ABM(p, n, size, k, omega, b, t, runs)"
   ]
  },
  {
   "cell_type": "code",
   "execution_count": 52,
   "metadata": {},
   "outputs": [
    {
     "name": "stdout",
     "output_type": "stream",
     "text": [
      "0.02178\n",
      "0.02373588060133683\n",
      "0.02178293942486624\n",
      "0.019829998248395653\n"
     ]
    }
   ],
   "source": [
    "# 10 runs, for different values of V_f , using n0 = 2**10\n",
    "n0 = 2**10\n",
    "results_ABM_10_runs_for_different_V_f = []\n",
    "for V_f in V_f_list:\n",
    "    print(p)\n",
    "    p = probability_of_trading(V_f, V)\n",
    "    run_results = run_ABM(p, n0, size, k, omega, b, t, runs)\n",
    "    results_ABM_10_runs_for_different_V_f.append(run_results)"
   ]
  },
  {
   "cell_type": "code",
   "execution_count": 53,
   "metadata": {},
   "outputs": [
    {
     "data": {
      "image/png": "[encoded data removed]",
      "text/plain": [
       "<Figure size 432x288 with 1 Axes>"
      ]
     },
     "metadata": {
      "needs_background": "light"
     },
     "output_type": "display_data"
    },
    {
     "data": {
      "image/png": "[encoded data removed]",
      "text/plain": [
       "<Figure size 432x288 with 1 Axes>"
      ]
     },
     "metadata": {
      "needs_background": "light"
     },
     "output_type": "display_data"
    },
    {
     "data": {
      "image/png": "[encoded data removed]",
      "text/plain": [
       "<Figure size 432x288 with 1 Axes>"
      ]
     },
     "metadata": {
      "needs_background": "light"
     },
     "output_type": "display_data"
    },
    {
     "data": {
      "image/png": "[encoded data removed]",
      "text/plain": [
       "<Figure size 432x288 with 1 Axes>"
      ]
     },
     "metadata": {
      "needs_background": "light"
     },
     "output_type": "display_data"
    }
   ],
   "source": [
    "# plot all runs for different values of V_f on hitograms\n",
    "bins = np.logspace(-4,3, 100)\n",
    "for V_f in range(len(V_f_list)):\n",
    "    for run in range(10):\n",
    "        plt.hist(results_ABM_10_runs_for_different_V_f[V_f][0][run].flatten(), bins=100, alpha=0.5, cumulative=-1, log = True, histtype='step',label='V_f = ' + str(run),density=1)\n",
    "        plt.gca().set_xscale(\"log\")\n",
    "        plt.title(f'Histogram of returns V_f: {str(V_f_list[V_f])} across 10 runs')\n",
    "        plt.xlabel('Returns')\n",
    "        plt.ylabel('CDF')\n",
    "        plt.legend()\n",
    "    plt.show()"
   ]
  },
  {
   "cell_type": "code",
   "execution_count": 54,
   "metadata": {},
   "outputs": [],
   "source": [
    "# making a dictionary with the mean, min and max of the Hill estimator of distribution of returns for different values of V_f\n",
    "dict_of_results_for_different_V_f = {}\n",
    "for V_f in range(len(V_f_list)):\n",
    "    HE_list_V_f = []\n",
    "    for run in range(10):\n",
    "        HE_list_V_f.append(Hill_estimator(results_ABM_10_runs_for_different_V_f[V_f][0][run].flatten(),1))\n",
    "    dict_of_results_for_different_V_f[V_f_list[V_f]] = np.mean(HE_list_V_f), np.min(HE_list_V_f), np.max(HE_list_V_f)"
   ]
  },
  {
   "cell_type": "code",
   "execution_count": 55,
   "metadata": {},
   "outputs": [
    {
     "data": {
      "text/plain": [
       "{0.2: (3.4246621338806214, 3.3581116872559305, 3.532036494155733),\n",
       " 0.4: (3.3829165338242353, 3.2981122317803604, 3.5856409705640013),\n",
       " 0.6: (3.4137320636758317, 3.2979895498982645, 3.486059964327368),\n",
       " 0.8: (3.447700444882436, 3.3767299973791043, 3.5255749536208647)}"
      ]
     },
     "execution_count": 55,
     "metadata": {},
     "output_type": "execute_result"
    }
   ],
   "source": [
    "dict_of_results_for_different_V_f"
   ]
  },
  {
   "cell_type": "code",
   "execution_count": 56,
   "metadata": {},
   "outputs": [
    {
     "data": {
      "text/html": [
       "<div>\n",
       "<style scoped>\n",
       "    .dataframe tbody tr th:only-of-type {\n",
       "        vertical-align: middle;\n",
       "    }\n",
       "\n",
       "    .dataframe tbody tr th {\n",
       "        vertical-align: top;\n",
       "    }\n",
       "\n",
       "    .dataframe thead th {\n",
       "        text-align: right;\n",
       "    }\n",
       "</style>\n",
       "<table border=\"1\" class=\"dataframe\">\n",
       "  <thead>\n",
       "    <tr style=\"text-align: right;\">\n",
       "      <th></th>\n",
       "      <th>0.2</th>\n",
       "      <th>0.4</th>\n",
       "      <th>0.6</th>\n",
       "      <th>0.8</th>\n",
       "    </tr>\n",
       "  </thead>\n",
       "  <tbody>\n",
       "    <tr>\n",
       "      <th>mean</th>\n",
       "      <td>3.424662</td>\n",
       "      <td>3.382917</td>\n",
       "      <td>3.413732</td>\n",
       "      <td>3.447700</td>\n",
       "    </tr>\n",
       "    <tr>\n",
       "      <th>min</th>\n",
       "      <td>3.358112</td>\n",
       "      <td>3.298112</td>\n",
       "      <td>3.297990</td>\n",
       "      <td>3.376730</td>\n",
       "    </tr>\n",
       "    <tr>\n",
       "      <th>max</th>\n",
       "      <td>3.532036</td>\n",
       "      <td>3.585641</td>\n",
       "      <td>3.486060</td>\n",
       "      <td>3.525575</td>\n",
       "    </tr>\n",
       "  </tbody>\n",
       "</table>\n",
       "</div>"
      ],
      "text/plain": [
       "           0.2       0.4       0.6       0.8\n",
       "mean  3.424662  3.382917  3.413732  3.447700\n",
       "min   3.358112  3.298112  3.297990  3.376730\n",
       "max   3.532036  3.585641  3.486060  3.525575"
      ]
     },
     "execution_count": 56,
     "metadata": {},
     "output_type": "execute_result"
    }
   ],
   "source": [
    "# making a dataframe with the mean, min and max of the Hill estimator of distribution of returns for different values of V_f\n",
    "df_ABM_results_for_different_V_F = pd.DataFrame(dict_of_results_for_different_V_f)\n",
    "df_ABM_results_for_different_V_F.index = [ 'mean', 'min', 'max']\n",
    "df_ABM_results_for_different_V_F "
   ]
  },
  {
   "cell_type": "code",
   "execution_count": 57,
   "metadata": {},
   "outputs": [],
   "source": [
    "# saving the dataframe as a csv file\n",
    "df_ABM_results_for_different_V_F.to_csv('df_ABM_results_for_different_V_F.csv')"
   ]
  },
  {
   "cell_type": "code",
   "execution_count": 58,
   "metadata": {},
   "outputs": [
    {
     "data": {
      "text/plain": [
       "{0.2: (3.4246621338806214, 3.3581116872559305, 3.532036494155733),\n",
       " 0.4: (3.3829165338242353, 3.2981122317803604, 3.5856409705640013),\n",
       " 0.6: (3.4137320636758317, 3.2979895498982645, 3.486059964327368),\n",
       " 0.8: (3.447700444882436, 3.3767299973791043, 3.5255749536208647)}"
      ]
     },
     "execution_count": 58,
     "metadata": {},
     "output_type": "execute_result"
    }
   ],
   "source": [
    "dict_of_results_for_different_V_f"
   ]
  },
  {
   "cell_type": "code",
   "execution_count": 59,
   "metadata": {},
   "outputs": [
    {
     "data": {
      "text/html": [
       "<div>\n",
       "<style scoped>\n",
       "    .dataframe tbody tr th:only-of-type {\n",
       "        vertical-align: middle;\n",
       "    }\n",
       "\n",
       "    .dataframe tbody tr th {\n",
       "        vertical-align: top;\n",
       "    }\n",
       "\n",
       "    .dataframe thead th {\n",
       "        text-align: right;\n",
       "    }\n",
       "</style>\n",
       "<table border=\"1\" class=\"dataframe\">\n",
       "  <thead>\n",
       "    <tr style=\"text-align: right;\">\n",
       "      <th></th>\n",
       "      <th>0.2</th>\n",
       "      <th>0.4</th>\n",
       "      <th>0.6</th>\n",
       "      <th>0.8</th>\n",
       "    </tr>\n",
       "  </thead>\n",
       "  <tbody>\n",
       "    <tr>\n",
       "      <th>mean</th>\n",
       "      <td>3.424662</td>\n",
       "      <td>3.382917</td>\n",
       "      <td>3.413732</td>\n",
       "      <td>3.447700</td>\n",
       "    </tr>\n",
       "    <tr>\n",
       "      <th>min</th>\n",
       "      <td>3.358112</td>\n",
       "      <td>3.298112</td>\n",
       "      <td>3.297990</td>\n",
       "      <td>3.376730</td>\n",
       "    </tr>\n",
       "    <tr>\n",
       "      <th>max</th>\n",
       "      <td>3.532036</td>\n",
       "      <td>3.585641</td>\n",
       "      <td>3.486060</td>\n",
       "      <td>3.525575</td>\n",
       "    </tr>\n",
       "  </tbody>\n",
       "</table>\n",
       "</div>"
      ],
      "text/plain": [
       "           0.2       0.4       0.6       0.8\n",
       "mean  3.424662  3.382917  3.413732  3.447700\n",
       "min   3.358112  3.298112  3.297990  3.376730\n",
       "max   3.532036  3.585641  3.486060  3.525575"
      ]
     },
     "execution_count": 59,
     "metadata": {},
     "output_type": "execute_result"
    }
   ],
   "source": [
    "# making a dataframe with the mean, min and max of the Hill estimator for different values of V_f\n",
    "df_ABM_return_results_for_different_V_F = pd.DataFrame(dict_of_results_for_different_V_f)\n",
    "df_ABM_return_results_for_different_V_F.index = [ 'mean', 'min', 'max']\n",
    "df_ABM_return_results_for_different_V_F "
   ]
  },
  {
   "cell_type": "code",
   "execution_count": 60,
   "metadata": {},
   "outputs": [],
   "source": [
    "# saving the dataframe as a csv file\n",
    "df_ABM_return_results_for_different_V_F.to_csv('df_ABM_results_for_different_V_F.csv')"
   ]
  },
  {
   "cell_type": "code",
   "execution_count": 61,
   "metadata": {},
   "outputs": [
    {
     "data": {
      "image/png": "[encoded data removed]",
      "text/plain": [
       "<Figure size 432x288 with 1 Axes>"
      ]
     },
     "metadata": {
      "needs_background": "light"
     },
     "output_type": "display_data"
    },
    {
     "name": "stdout",
     "output_type": "stream",
     "text": [
      "R^2: 0.2297416386638762)\n",
      "intercept: 3.392270178351521\n",
      "coefficient: [0.04996523]\n",
      "Null hypothesis: the coefficient is zero\n",
      "Alternative hypothesis: the coefficient is not zero\n",
      "If p value is less than 0.05, we reject the null hypothesis\n",
      "p value: 0.029786008750016905\n",
      "Thus, we reject the null hypothesis in favor of the alternative hypothesis\n",
      "However, the sample size is very small (only 4) so the results are not very reliable\n"
     ]
    }
   ],
   "source": [
    "# regress the Hill estimator of returns on V_f\n",
    "X = np.array(V_f_list).reshape(-1,1)\n",
    "y = df_ABM_return_results_for_different_V_F.loc['mean'].values\n",
    "reg = LinearRegression().fit(X, y)\n",
    "plt.scatter(X, y)\n",
    "plt.plot(X, reg.predict(X), color='red')\n",
    "plt.title('Hill estimator of returns on of V_f')\n",
    "plt.xlabel('V_f')\n",
    "plt.ylabel('Hill estimator of returns')\n",
    "plt.show()\n",
    "print(f'R^2: {str(reg.score(X, y))})')\n",
    "print(f'intercept: {str(reg.intercept_)}')\n",
    "print(f'coefficient: {str(reg.coef_)}')\n",
    "\n",
    "# getting p value from statsmodels library:\n",
    "\n",
    "model = sm.OLS(y, X).fit()\n",
    "\n",
    "# Get the p-value of the regression coefficients\n",
    "p_value = model.pvalues[0]\n",
    "\n",
    "print('Null hypothesis: the coefficient is zero')\n",
    "print('Alternative hypothesis: the coefficient is not zero')\n",
    "print('If p value is less than 0.05, we reject the null hypothesis')\n",
    "print(f'p value: {str(p_value)}')\n",
    "if p_value < 0.05:\n",
    "    print('Thus, we reject the null hypothesis in favor of the alternative hypothesis')\n",
    "    print('However, the sample size is very small (only 4) so the results are not very reliable')\n",
    "else:\n",
    "    print('Thus, we fail to reject the null hypothesis')"
   ]
  },
  {
   "cell_type": "markdown",
   "metadata": {},
   "source": [
    "# ABM absolute returns for different V_f's across 10 runs"
   ]
  },
  {
   "cell_type": "code",
   "execution_count": 62,
   "metadata": {},
   "outputs": [],
   "source": [
    "# taking abs returns for each run (different V_f)\n",
    "abs_returns_ABM_results_for_different_V_f = []\n",
    "for V_f in range(len(V_f_list)):\n",
    "    abs_returns_ABM_results_for_single_V_f = []\n",
    "    for run in range(10):\n",
    "        abs_returns_ABM_results_for_single_V_f.append(np.abs(results_ABM_10_runs_for_different_V_f[V_f][0][run]))\n",
    "    abs_returns_ABM_results_for_different_V_f.append(abs_returns_ABM_results_for_single_V_f)\n",
    "    "
   ]
  },
  {
   "cell_type": "code",
   "execution_count": 63,
   "metadata": {},
   "outputs": [
    {
     "data": {
      "image/png": "[encoded data removed]",
      "text/plain": [
       "<Figure size 432x288 with 1 Axes>"
      ]
     },
     "metadata": {
      "needs_background": "light"
     },
     "output_type": "display_data"
    },
    {
     "data": {
      "image/png": "[encoded data removed]",
      "text/plain": [
       "<Figure size 432x288 with 1 Axes>"
      ]
     },
     "metadata": {
      "needs_background": "light"
     },
     "output_type": "display_data"
    },
    {
     "data": {
      "image/png": "[encoded data removed]",
      "text/plain": [
       "<Figure size 432x288 with 1 Axes>"
      ]
     },
     "metadata": {
      "needs_background": "light"
     },
     "output_type": "display_data"
    },
    {
     "data": {
      "image/png": "[encoded data removed]",
      "text/plain": [
       "<Figure size 432x288 with 1 Axes>"
      ]
     },
     "metadata": {
      "needs_background": "light"
     },
     "output_type": "display_data"
    }
   ],
   "source": [
    "# plot all runs abs returns for different values of V_f on seperate histograms\n",
    "bins = np.logspace(-4,3, 100)\n",
    "for V_f in range(len(V_f_list)):\n",
    "    for run in range(10):\n",
    "        plt.hist(abs_returns_ABM_results_for_different_V_f[V_f][run].flatten(), bins=100, alpha=0.5, cumulative=-1, log = True, histtype='step',label='run: ' + str(run), density = 1)\n",
    "        plt.gca().set_xscale(\"log\")\n",
    "        plt.title(f'Histogram of abs returns V_f: {str(V_f_list[V_f])} across 10 runs')\n",
    "        plt.xlabel('Returns')\n",
    "        plt.ylabel('CDF')\n",
    "        plt.legend()\n",
    "    plt.show()"
   ]
  },
  {
   "cell_type": "code",
   "execution_count": 64,
   "metadata": {},
   "outputs": [],
   "source": [
    "# making a dictionary with the mean, min and max of the Hill estimator of abs return distribution for different values of V_f\n",
    "dict_of_results_for_different_V_f = {}\n",
    "for V_f in range(len(V_f_list)):\n",
    "    HE_list_V_f = []\n",
    "    for run in range(10):\n",
    "        HE_list_V_f.append(Hill_estimator(abs_returns_ABM_results_for_different_V_f[V_f][run].flatten(),1))\n",
    "    dict_of_results_for_different_V_f[V_f_list[V_f]] = np.mean(HE_list_V_f), np.min(HE_list_V_f), np.max(HE_list_V_f)"
   ]
  },
  {
   "cell_type": "code",
   "execution_count": 65,
   "metadata": {},
   "outputs": [
    {
     "data": {
      "text/plain": [
       "{0.2: (3.9117978284128005, 3.813831656796653, 3.9955076078339062),\n",
       " 0.4: (3.5904565769149683, 3.5155529902227043, 3.67786840370643),\n",
       " 0.6: (3.664764382246368, 3.6099042231351, 3.742626059707236),\n",
       " 0.8: (3.79562506872861, 3.6558291799781664, 3.8886542355874902)}"
      ]
     },
     "execution_count": 65,
     "metadata": {},
     "output_type": "execute_result"
    }
   ],
   "source": [
    "dict_of_results_for_different_V_f"
   ]
  },
  {
   "cell_type": "code",
   "execution_count": 66,
   "metadata": {},
   "outputs": [
    {
     "data": {
      "text/html": [
       "<div>\n",
       "<style scoped>\n",
       "    .dataframe tbody tr th:only-of-type {\n",
       "        vertical-align: middle;\n",
       "    }\n",
       "\n",
       "    .dataframe tbody tr th {\n",
       "        vertical-align: top;\n",
       "    }\n",
       "\n",
       "    .dataframe thead th {\n",
       "        text-align: right;\n",
       "    }\n",
       "</style>\n",
       "<table border=\"1\" class=\"dataframe\">\n",
       "  <thead>\n",
       "    <tr style=\"text-align: right;\">\n",
       "      <th></th>\n",
       "      <th>0.2</th>\n",
       "      <th>0.4</th>\n",
       "      <th>0.6</th>\n",
       "      <th>0.8</th>\n",
       "    </tr>\n",
       "  </thead>\n",
       "  <tbody>\n",
       "    <tr>\n",
       "      <th>mean</th>\n",
       "      <td>3.911798</td>\n",
       "      <td>3.590457</td>\n",
       "      <td>3.664764</td>\n",
       "      <td>3.795625</td>\n",
       "    </tr>\n",
       "    <tr>\n",
       "      <th>min</th>\n",
       "      <td>3.813832</td>\n",
       "      <td>3.515553</td>\n",
       "      <td>3.609904</td>\n",
       "      <td>3.655829</td>\n",
       "    </tr>\n",
       "    <tr>\n",
       "      <th>max</th>\n",
       "      <td>3.995508</td>\n",
       "      <td>3.677868</td>\n",
       "      <td>3.742626</td>\n",
       "      <td>3.888654</td>\n",
       "    </tr>\n",
       "  </tbody>\n",
       "</table>\n",
       "</div>"
      ],
      "text/plain": [
       "           0.2       0.4       0.6       0.8\n",
       "mean  3.911798  3.590457  3.664764  3.795625\n",
       "min   3.813832  3.515553  3.609904  3.655829\n",
       "max   3.995508  3.677868  3.742626  3.888654"
      ]
     },
     "execution_count": 66,
     "metadata": {},
     "output_type": "execute_result"
    }
   ],
   "source": [
    "# making a dataframe with the mean, min and max of the Hill estimator of abs return distribution for different values of V_f\n",
    "df_ABM_abs_return_results_for_different_V_F = pd.DataFrame(dict_of_results_for_different_V_f)\n",
    "df_ABM_abs_return_results_for_different_V_F.index = [ 'mean', 'min', 'max']\n",
    "df_ABM_abs_return_results_for_different_V_F"
   ]
  },
  {
   "cell_type": "code",
   "execution_count": 67,
   "metadata": {},
   "outputs": [],
   "source": [
    "# saving the dataframe as a csv file\n",
    "df_ABM_abs_return_results_for_different_V_F.to_csv('df_ABM_results_for_different_V_F.csv')\n"
   ]
  },
  {
   "cell_type": "code",
   "execution_count": 68,
   "metadata": {},
   "outputs": [
    {
     "data": {
      "image/png": "[encoded data removed]",
      "text/plain": [
       "<Figure size 432x288 with 1 Axes>"
      ]
     },
     "metadata": {
      "needs_background": "light"
     },
     "output_type": "display_data"
    },
    {
     "name": "stdout",
     "output_type": "stream",
     "text": [
      "R^2: 0.06200785820416077)\n",
      "intercept: 3.809213582505979\n",
      "coefficient: [-0.13710524]\n",
      "Null hypothesis: the coefficient is zero\n",
      "Alternative hypothesis: the coefficient is not zero\n",
      "If p value is less than 0.05, we reject the null hypothesis\n",
      "p value: 0.032482147916777275\n",
      "Thus, we reject the null hypothesis in favor of the alternative hypothesis\n",
      "However, the sample size is very small (only 4) so the results are not very reliable\n"
     ]
    }
   ],
   "source": [
    "# regress the Hill estimator of abs returns on log V_f\n",
    "X = np.array(V_f_list).reshape(-1,1)\n",
    "y = df_ABM_abs_return_results_for_different_V_F.loc['mean'].values\n",
    "reg = LinearRegression().fit(X, y)\n",
    "plt.scatter(X, y)\n",
    "plt.plot(X, reg.predict(X), color='red')\n",
    "plt.title('Hill estimator of returns on log of V_f')\n",
    "plt.xlabel('V_f')\n",
    "plt.ylabel('Hill estimator of abs returns')\n",
    "plt.show()\n",
    "print(f'R^2: {str(reg.score(X, y))})')\n",
    "print(f'intercept: {str(reg.intercept_)}')\n",
    "print(f'coefficient: {str(reg.coef_)}')\n",
    "\n",
    "# getting p value from statsmodels library:\n",
    "\n",
    "model = sm.OLS(y, X).fit()\n",
    "\n",
    "# Get the p-value of the regression coefficients\n",
    "p_value = model.pvalues[0]\n",
    "\n",
    "print('Null hypothesis: the coefficient is zero')\n",
    "print('Alternative hypothesis: the coefficient is not zero')\n",
    "print('If p value is less than 0.05, we reject the null hypothesis')\n",
    "print(f'p value: {str(p_value)}')\n",
    "if p_value < 0.05:\n",
    "    print('Thus, we reject the null hypothesis in favor of the alternative hypothesis')\n",
    "    print('However, the sample size is very small (only 4) so the results are not very reliable')\n",
    "else:\n",
    "    print('Thus, we fail to reject the null hypothesis')\n",
    "    "
   ]
  },
  {
   "cell_type": "code",
   "execution_count": 69,
   "metadata": {},
   "outputs": [
    {
     "data": {
      "image/png": "[encoded data removed]",
      "text/plain": [
       "<Figure size 432x288 with 1 Axes>"
      ]
     },
     "metadata": {
      "needs_background": "light"
     },
     "output_type": "display_data"
    },
    {
     "name": "stdout",
     "output_type": "stream",
     "text": [
      "R^2: 0.1884398763941757)\n",
      "intercept: 3.6570057086543453\n",
      "coefficient: [-0.102654]\n",
      "Null hypothesis: the coefficient is zero\n",
      "Alternative hypothesis: the coefficient is not zero\n",
      "If p value is less than 0.05, we reject the null hypothesis\n",
      "p value: 0.06818950868534282\n",
      "Thus, we fail to reject the null hypothesis\n"
     ]
    }
   ],
   "source": [
    "# regress the Hill estimator of abs returns on log V_f\n",
    "X = np.log((np.array(V_f_list))).reshape(-1,1)\n",
    "y = df_ABM_abs_return_results_for_different_V_F.loc['mean'].values\n",
    "reg = LinearRegression().fit(X, y)\n",
    "plt.scatter(X, y)\n",
    "plt.plot(X, reg.predict(X), color='red')\n",
    "plt.title('Hill estimator of returns on log of V_f')\n",
    "plt.xlabel('log of V_f')\n",
    "plt.ylabel('Hill estimator of abs returns')\n",
    "plt.show()\n",
    "print(f'R^2: {str(reg.score(X, y))})')\n",
    "print(f'intercept: {str(reg.intercept_)}')\n",
    "print(f'coefficient: {str(reg.coef_)}')\n",
    "\n",
    "# getting p value from statsmodels library:\n",
    "\n",
    "model = sm.OLS(y, X).fit()\n",
    "\n",
    "# Get the p-value of the regression coefficients\n",
    "p_value = model.pvalues[0]\n",
    "\n",
    "print('Null hypothesis: the coefficient is zero')\n",
    "print('Alternative hypothesis: the coefficient is not zero')\n",
    "print('If p value is less than 0.05, we reject the null hypothesis')\n",
    "print(f'p value: {str(p_value)}')\n",
    "if p_value < 0.05:\n",
    "    print('Thus, we reject the null hypothesis in favor of the alternative hypothesis')\n",
    "    print('However, the sample size is very small (only 4) so the results are not very reliable')\n",
    "else:\n",
    "    print('Thus, we fail to reject the null hypothesis')\n",
    "    \n"
   ]
  },
  {
   "cell_type": "markdown",
   "metadata": {},
   "source": [
    "Kind of looks like a polynomial"
   ]
  },
  {
   "cell_type": "code",
   "execution_count": 70,
   "metadata": {},
   "outputs": [],
   "source": [
    "# ABM absolute normalized returns different V_f's across 10 runs"
   ]
  },
  {
   "cell_type": "code",
   "execution_count": 71,
   "metadata": {},
   "outputs": [
    {
     "data": {
      "text/html": [
       "<div>\n",
       "<style scoped>\n",
       "    .dataframe tbody tr th:only-of-type {\n",
       "        vertical-align: middle;\n",
       "    }\n",
       "\n",
       "    .dataframe tbody tr th {\n",
       "        vertical-align: top;\n",
       "    }\n",
       "\n",
       "    .dataframe thead th {\n",
       "        text-align: right;\n",
       "    }\n",
       "</style>\n",
       "<table border=\"1\" class=\"dataframe\">\n",
       "  <thead>\n",
       "    <tr style=\"text-align: right;\">\n",
       "      <th></th>\n",
       "      <th>0.2</th>\n",
       "      <th>0.4</th>\n",
       "      <th>0.6</th>\n",
       "      <th>0.8</th>\n",
       "    </tr>\n",
       "  </thead>\n",
       "  <tbody>\n",
       "    <tr>\n",
       "      <th>mean</th>\n",
       "      <td>3.911798</td>\n",
       "      <td>3.590457</td>\n",
       "      <td>3.664764</td>\n",
       "      <td>3.795625</td>\n",
       "    </tr>\n",
       "    <tr>\n",
       "      <th>min</th>\n",
       "      <td>3.813832</td>\n",
       "      <td>3.515553</td>\n",
       "      <td>3.609904</td>\n",
       "      <td>3.655829</td>\n",
       "    </tr>\n",
       "    <tr>\n",
       "      <th>max</th>\n",
       "      <td>3.995508</td>\n",
       "      <td>3.677868</td>\n",
       "      <td>3.742626</td>\n",
       "      <td>3.888654</td>\n",
       "    </tr>\n",
       "  </tbody>\n",
       "</table>\n",
       "</div>"
      ],
      "text/plain": [
       "           0.2       0.4       0.6       0.8\n",
       "mean  3.911798  3.590457  3.664764  3.795625\n",
       "min   3.813832  3.515553  3.609904  3.655829\n",
       "max   3.995508  3.677868  3.742626  3.888654"
      ]
     },
     "execution_count": 71,
     "metadata": {},
     "output_type": "execute_result"
    }
   ],
   "source": [
    "# making a dataframe with the mean, min and max of the Hill estimator of distribution of returns for different values of V_f\n",
    "df_ABM_results_for_different_V_F = pd.DataFrame(dict_of_results_for_different_V_f)\n",
    "df_ABM_results_for_different_V_F.index = [ 'mean', 'min', 'max']\n",
    "df_ABM_results_for_different_V_F "
   ]
  },
  {
   "cell_type": "code",
   "execution_count": 72,
   "metadata": {},
   "outputs": [],
   "source": [
    "# saving the dataframe as a csv file\n",
    "df_ABM_results_for_different_V_F.to_csv('df_ABM_results_for_different_V_F.csv')"
   ]
  },
  {
   "cell_type": "code",
   "execution_count": 73,
   "metadata": {},
   "outputs": [
    {
     "data": {
      "text/plain": [
       "{0.2: (3.9117978284128005, 3.813831656796653, 3.9955076078339062),\n",
       " 0.4: (3.5904565769149683, 3.5155529902227043, 3.67786840370643),\n",
       " 0.6: (3.664764382246368, 3.6099042231351, 3.742626059707236),\n",
       " 0.8: (3.79562506872861, 3.6558291799781664, 3.8886542355874902)}"
      ]
     },
     "execution_count": 73,
     "metadata": {},
     "output_type": "execute_result"
    }
   ],
   "source": [
    "dict_of_results_for_different_V_f"
   ]
  },
  {
   "cell_type": "code",
   "execution_count": 74,
   "metadata": {},
   "outputs": [
    {
     "data": {
      "text/html": [
       "<div>\n",
       "<style scoped>\n",
       "    .dataframe tbody tr th:only-of-type {\n",
       "        vertical-align: middle;\n",
       "    }\n",
       "\n",
       "    .dataframe tbody tr th {\n",
       "        vertical-align: top;\n",
       "    }\n",
       "\n",
       "    .dataframe thead th {\n",
       "        text-align: right;\n",
       "    }\n",
       "</style>\n",
       "<table border=\"1\" class=\"dataframe\">\n",
       "  <thead>\n",
       "    <tr style=\"text-align: right;\">\n",
       "      <th></th>\n",
       "      <th>0.2</th>\n",
       "      <th>0.4</th>\n",
       "      <th>0.6</th>\n",
       "      <th>0.8</th>\n",
       "    </tr>\n",
       "  </thead>\n",
       "  <tbody>\n",
       "    <tr>\n",
       "      <th>mean</th>\n",
       "      <td>3.911798</td>\n",
       "      <td>3.590457</td>\n",
       "      <td>3.664764</td>\n",
       "      <td>3.795625</td>\n",
       "    </tr>\n",
       "    <tr>\n",
       "      <th>min</th>\n",
       "      <td>3.813832</td>\n",
       "      <td>3.515553</td>\n",
       "      <td>3.609904</td>\n",
       "      <td>3.655829</td>\n",
       "    </tr>\n",
       "    <tr>\n",
       "      <th>max</th>\n",
       "      <td>3.995508</td>\n",
       "      <td>3.677868</td>\n",
       "      <td>3.742626</td>\n",
       "      <td>3.888654</td>\n",
       "    </tr>\n",
       "  </tbody>\n",
       "</table>\n",
       "</div>"
      ],
      "text/plain": [
       "           0.2       0.4       0.6       0.8\n",
       "mean  3.911798  3.590457  3.664764  3.795625\n",
       "min   3.813832  3.515553  3.609904  3.655829\n",
       "max   3.995508  3.677868  3.742626  3.888654"
      ]
     },
     "execution_count": 74,
     "metadata": {},
     "output_type": "execute_result"
    }
   ],
   "source": [
    "# making a dataframe with the mean, min and max of the Hill estimator for different values of V_f\n",
    "df_ABM_return_results_for_different_V_F = pd.DataFrame(dict_of_results_for_different_V_f)\n",
    "df_ABM_return_results_for_different_V_F.index = [ 'mean', 'min', 'max']\n",
    "df_ABM_return_results_for_different_V_F "
   ]
  },
  {
   "cell_type": "code",
   "execution_count": 75,
   "metadata": {},
   "outputs": [],
   "source": [
    "# saving the dataframe as a csv file\n",
    "df_ABM_return_results_for_different_V_F.to_csv('df_ABM_results_for_different_V_F.csv')"
   ]
  },
  {
   "cell_type": "code",
   "execution_count": 76,
   "metadata": {},
   "outputs": [
    {
     "data": {
      "image/png": "[encoded data removed]",
      "text/plain": [
       "<Figure size 432x288 with 1 Axes>"
      ]
     },
     "metadata": {
      "needs_background": "light"
     },
     "output_type": "display_data"
    },
    {
     "name": "stdout",
     "output_type": "stream",
     "text": [
      "R^2: 0.06200785820416077)\n",
      "intercept: 3.809213582505979\n",
      "coefficient: [-0.13710524]\n",
      "Null hypothesis: the coefficient is zero\n",
      "Alternative hypothesis: the coefficient is not zero\n",
      "If p value is less than 0.05, we reject the null hypothesis\n",
      "p value: 0.032482147916777275\n",
      "Thus, we reject the null hypothesis in favor of the alternative hypothesis\n",
      "However, the sample size is very small (only 4) so the results are not very reliable\n"
     ]
    }
   ],
   "source": [
    "# regress the Hill estimator of returns on V_f\n",
    "X = np.array(V_f_list).reshape(-1,1)\n",
    "y = df_ABM_return_results_for_different_V_F.loc['mean'].values\n",
    "reg = LinearRegression().fit(X, y)\n",
    "plt.scatter(X, y)\n",
    "plt.plot(X, reg.predict(X), color='red')\n",
    "plt.title('Hill estimator of returns on of V_f')\n",
    "plt.xlabel('V_f')\n",
    "plt.ylabel('Hill estimator of returns')\n",
    "plt.show()\n",
    "print(f'R^2: {str(reg.score(X, y))})')\n",
    "print(f'intercept: {str(reg.intercept_)}')\n",
    "print(f'coefficient: {str(reg.coef_)}')\n",
    "\n",
    "# getting p value from statsmodels library:\n",
    "\n",
    "model = sm.OLS(y, X).fit()\n",
    "\n",
    "# Get the p-value of the regression coefficients\n",
    "p_value = model.pvalues[0]\n",
    "\n",
    "print('Null hypothesis: the coefficient is zero')\n",
    "print('Alternative hypothesis: the coefficient is not zero')\n",
    "print('If p value is less than 0.05, we reject the null hypothesis')\n",
    "print(f'p value: {str(p_value)}')\n",
    "if p_value < 0.05:\n",
    "    print('Thus, we reject the null hypothesis in favor of the alternative hypothesis')\n",
    "    print('However, the sample size is very small (only 4) so the results are not very reliable')\n",
    "else:\n",
    "    print('Thus, we fail to reject the null hypothesis')"
   ]
  },
  {
   "cell_type": "markdown",
   "metadata": {},
   "source": [
    "# ABM normalized absolute returns different V_f's across 10 runs"
   ]
  },
  {
   "cell_type": "code",
   "execution_count": 86,
   "metadata": {},
   "outputs": [],
   "source": [
    "# normalizing abs returns for each run\n",
    "normalized_abs_returns_ABM_results_for_different_V_f = []\n",
    "for n0 in range(len(n0_list)):\n",
    "    normalized_abs_returns_ABM_results_for_same_V_f = []\n",
    "    for run in range(10):\n",
    "        normalized_abs_returns_ABM_results_for_same_V_f.append((abs_returns_ABM_results_for_different_V_f[V_f][run] - np.mean(abs_returns_ABM_results_for_different_V_f[V_f][run]))/np.std(abs_returns_ABM_results_for_different_V_f[V_f][run]))\n",
    "    normalized_abs_returns_ABM_results_for_different_V_f.append(normalized_abs_returns_ABM_results_for_same_V_f)\n"
   ]
  },
  {
   "cell_type": "code",
   "execution_count": 78,
   "metadata": {},
   "outputs": [
    {
     "ename": "NameError",
     "evalue": "name 'normalized_abs_returns_ABM_results_for_different_n0' is not defined",
     "output_type": "error",
     "traceback": [
      "\u001b[1;31m---------------------------------------------------------------------------\u001b[0m",
      "\u001b[1;31mNameError\u001b[0m                                 Traceback (most recent call last)",
      "\u001b[1;32m~\\AppData\\Local\\Temp/ipykernel_37092/3343600885.py\u001b[0m in \u001b[0;36m<module>\u001b[1;34m\u001b[0m\n\u001b[0;32m      3\u001b[0m \u001b[1;32mfor\u001b[0m \u001b[0mn0\u001b[0m \u001b[1;32min\u001b[0m \u001b[0mrange\u001b[0m\u001b[1;33m(\u001b[0m\u001b[0mlen\u001b[0m\u001b[1;33m(\u001b[0m\u001b[0mn0_list\u001b[0m\u001b[1;33m)\u001b[0m\u001b[1;33m)\u001b[0m\u001b[1;33m:\u001b[0m\u001b[1;33m\u001b[0m\u001b[1;33m\u001b[0m\u001b[0m\n\u001b[0;32m      4\u001b[0m     \u001b[1;32mfor\u001b[0m \u001b[0mrun\u001b[0m \u001b[1;32min\u001b[0m \u001b[0mrange\u001b[0m\u001b[1;33m(\u001b[0m\u001b[1;36m10\u001b[0m\u001b[1;33m)\u001b[0m\u001b[1;33m:\u001b[0m\u001b[1;33m\u001b[0m\u001b[1;33m\u001b[0m\u001b[0m\n\u001b[1;32m----> 5\u001b[1;33m         \u001b[0mplt\u001b[0m\u001b[1;33m.\u001b[0m\u001b[0mhist\u001b[0m\u001b[1;33m(\u001b[0m\u001b[0mnormalized_abs_returns_ABM_results_for_different_n0\u001b[0m\u001b[1;33m[\u001b[0m\u001b[0mn0\u001b[0m\u001b[1;33m]\u001b[0m\u001b[1;33m[\u001b[0m\u001b[0mrun\u001b[0m\u001b[1;33m]\u001b[0m\u001b[1;33m.\u001b[0m\u001b[0mflatten\u001b[0m\u001b[1;33m(\u001b[0m\u001b[1;33m)\u001b[0m\u001b[1;33m,\u001b[0m \u001b[0mbins\u001b[0m\u001b[1;33m=\u001b[0m\u001b[1;36m100\u001b[0m\u001b[1;33m,\u001b[0m \u001b[0malpha\u001b[0m\u001b[1;33m=\u001b[0m\u001b[1;36m0.5\u001b[0m\u001b[1;33m,\u001b[0m \u001b[0mcumulative\u001b[0m\u001b[1;33m=\u001b[0m\u001b[1;33m-\u001b[0m\u001b[1;36m1\u001b[0m\u001b[1;33m,\u001b[0m \u001b[0mlog\u001b[0m \u001b[1;33m=\u001b[0m \u001b[1;32mTrue\u001b[0m\u001b[1;33m,\u001b[0m \u001b[0mhisttype\u001b[0m\u001b[1;33m=\u001b[0m\u001b[1;34m'step'\u001b[0m\u001b[1;33m,\u001b[0m\u001b[0mlabel\u001b[0m\u001b[1;33m=\u001b[0m \u001b[1;34m'run: '\u001b[0m \u001b[1;33m+\u001b[0m \u001b[0mstr\u001b[0m\u001b[1;33m(\u001b[0m\u001b[0mrun\u001b[0m\u001b[1;33m)\u001b[0m\u001b[1;33m,\u001b[0m \u001b[0mdensity\u001b[0m \u001b[1;33m=\u001b[0m \u001b[1;36m1\u001b[0m\u001b[1;33m)\u001b[0m\u001b[1;33m\u001b[0m\u001b[1;33m\u001b[0m\u001b[0m\n\u001b[0m\u001b[0;32m      6\u001b[0m         \u001b[0mplt\u001b[0m\u001b[1;33m.\u001b[0m\u001b[0mgca\u001b[0m\u001b[1;33m(\u001b[0m\u001b[1;33m)\u001b[0m\u001b[1;33m.\u001b[0m\u001b[0mset_xscale\u001b[0m\u001b[1;33m(\u001b[0m\u001b[1;34m\"log\"\u001b[0m\u001b[1;33m)\u001b[0m\u001b[1;33m\u001b[0m\u001b[1;33m\u001b[0m\u001b[0m\n\u001b[0;32m      7\u001b[0m         \u001b[0mplt\u001b[0m\u001b[1;33m.\u001b[0m\u001b[0mtitle\u001b[0m\u001b[1;33m(\u001b[0m\u001b[1;34mf'Histogram of abs returns for n0: {str(n0_list[n0])} across 10 runs'\u001b[0m\u001b[1;33m)\u001b[0m\u001b[1;33m\u001b[0m\u001b[1;33m\u001b[0m\u001b[0m\n",
      "\u001b[1;31mNameError\u001b[0m: name 'normalized_abs_returns_ABM_results_for_different_n0' is not defined"
     ]
    }
   ],
   "source": [
    "# plot all runs abs returns for different values of V_f on seperate histograms\n",
    "bins = np.logspace(-4,3, 100)\n",
    "for n0 in range(len(n0_list)):\n",
    "    for run in range(10):\n",
    "        plt.hist(normalized_abs_returns_ABM_results_for_different_V_f[n0][run].flatten(), bins=100, alpha=0.5, cumulative=-1, log = True, histtype='step',label= 'run: ' + str(run), density = 1)\n",
    "        plt.gca().set_xscale(\"log\")\n",
    "        plt.title(f'Histogram of abs returns for n0: {str(n0_list[n0])} across 10 runs')\n",
    "        plt.xlabel('Returns')\n",
    "        plt.ylabel('CDF')\n",
    "        plt.legend()\n",
    "    plt.show()"
   ]
  },
  {
   "cell_type": "code",
   "execution_count": null,
   "metadata": {},
   "outputs": [],
   "source": [
    "dict_of_results_for_different_n0 = {}\n",
    "for n0 in range(len(n0_list)):\n",
    "    HE_list_n0= []\n",
    "    for run in range(10):\n",
    "        HE_list_n0.append(Hill_estimator(normalized_abs_returns_ABM_results_for_different_n0[n0][run].flatten(),1))\n",
    "    dict_of_results_for_different_n0[n0_list[n0]] = np.mean(HE_list_n0), np.min(HE_list_n0), np.max(HE_list_n0)"
   ]
  },
  {
   "cell_type": "code",
   "execution_count": null,
   "metadata": {},
   "outputs": [],
   "source": [
    "dict_of_results_for_different_n0"
   ]
  },
  {
   "cell_type": "code",
   "execution_count": null,
   "metadata": {},
   "outputs": [],
   "source": [
    "# making a dataframe with the mean, min and max of the Hill estimator of abs return distribution for different values of V_f\n",
    "df_ABM_normalized_abs_return_results_for_different_n0 = pd.DataFrame(dict_of_results_for_different_n0)\n",
    "df_ABM_normalized_abs_return_results_for_different_n0.index = [ 'mean', 'min', 'max']\n",
    "df_ABM_normalized_abs_return_results_for_different_n0"
   ]
  },
  {
   "cell_type": "code",
   "execution_count": null,
   "metadata": {},
   "outputs": [],
   "source": [
    "# saving the dataframe as a csv file\n",
    "df_ABM_normalized_abs_return_results_for_different_n0.to_csv('df_ABM_normalized_abs_return_results_for_different_n0.csv')"
   ]
  },
  {
   "cell_type": "code",
   "execution_count": null,
   "metadata": {},
   "outputs": [],
   "source": [
    "# regress the Hill estimator of  normalized abs returns on n0\n",
    "X = (np.array(n0_list)).reshape(-1,1)\n",
    "y = df_ABM_normalized_abs_return_results_for_different_n0.loc['mean'].values\n",
    "reg = LinearRegression().fit(X, y)\n",
    "plt.scatter(X, y)\n",
    "plt.plot(X, reg.predict(X), color='red')\n",
    "plt.title('Hill estimator of normalized returns on n0')\n",
    "plt.xlabel('n0')\n",
    "plt.ylabel('Hill estimator of returns normalized')\n",
    "plt.show()\n",
    "print(f'R^2: {str(reg.score(X, y))})')\n",
    "print(f'intercept: {str(reg.intercept_)}')\n",
    "print(f'coefficient: {str(reg.coef_)}')\n",
    "\n",
    "# getting p value from statsmodels library:\n",
    "\n",
    "model = sm.OLS(y, X).fit()\n",
    "\n",
    "# Get the p-value of the regression coefficients\n",
    "p_value = model.pvalues[0]\n",
    "\n",
    "print('Null hypothesis: the coefficient is zero')\n",
    "print('Alternative hypothesis: the coefficient is not zero')\n",
    "print('If p value is less than 0.05, we reject the null hypothesis')\n",
    "print(f'p value: {str(p_value)}')\n",
    "if p_value < 0.05:\n",
    "    print('Thus, we reject the null hypothesis in favor of the alternative hypothesis')\n",
    "    print('However, the sample size is very small (only 4) so the results are not very reliable')\n",
    "else:\n",
    "    print('Thus, we fail to reject the null hypothesis')"
   ]
  },
  {
   "cell_type": "markdown",
   "metadata": {},
   "source": [
    "# ABM absolute normalized returns different V_f's across 10 runs"
   ]
  },
  {
   "cell_type": "code",
   "execution_count": null,
   "metadata": {},
   "outputs": [],
   "source": [
    "# normalizing abs returns for each run (different n0)\n",
    "abs_normalized_returns_ABM_results_for_different_V_f = []\n",
    "for V_f in range(len(V_f_list)):\n",
    "    abs_normalized_returns_ABM_results_for_same_V_f = []\n",
    "    for run in range(10):\n",
    "        abs_normalized_returns_ABM_results_for_same_V_f.append(np.abs((results_ABM_10_runs_for_different_V_f[V_f][0][run] - np.mean(results_ABM_10_runs_for_different_V_f[V_f][0][run]))/np.std(results_ABM_10_runs_for_different_V_f[V_f][0][run])))\n",
    "    abs_normalized_returns_ABM_results_for_different_V_f.append(results_ABM_10_runs_for_different_V_f)\n"
   ]
  },
  {
   "cell_type": "code",
   "execution_count": null,
   "metadata": {},
   "outputs": [],
   "source": [
    "# plot all runs abs returns for different values of V_f on seperate histograms\n",
    "bins = np.logspace(-4,3, 100)\n",
    "for V_f in range(len(V_f_list)):\n",
    "    for run in range(10):\n",
    "        plt.hist(abs_returns_ABM_results_for_different_V_f[V_f][run].flatten(), bins=100, alpha=0.5, cumulative=-1, log = True, histtype='step',label='run: ' + str(run), density = 1)\n",
    "        plt.gca().set_xscale(\"log\")\n",
    "        plt.title(f'Histogram of abs returns V_f: {str(V_f_list[V_f])} across 10 runs')\n",
    "        plt.xlabel('Returns')\n",
    "        plt.ylabel('CDF')\n",
    "        plt.legend()\n",
    "    plt.show()"
   ]
  },
  {
   "cell_type": "code",
   "execution_count": null,
   "metadata": {},
   "outputs": [],
   "source": [
    "# making a dictionary with the mean, min and max of the Hill estimator of abs return distribution for different values of V_f\n",
    "dict_of_results_for_different_V_f = {}\n",
    "for V_f in range(len(V_f_list)):\n",
    "    HE_list_V_f = []\n",
    "    for run in range(10):\n",
    "        HE_list_V_f.append(Hill_estimator(abs_returns_ABM_results_for_different_V_f[V_f][run].flatten(),1))\n",
    "    dict_of_results_for_different_V_f[V_f_list[V_f]] = np.mean(HE_list_V_f), np.min(HE_list_V_f), np.max(HE_list_V_f)"
   ]
  },
  {
   "cell_type": "code",
   "execution_count": null,
   "metadata": {},
   "outputs": [],
   "source": [
    "dict_of_results_for_different_V_f"
   ]
  },
  {
   "cell_type": "code",
   "execution_count": null,
   "metadata": {},
   "outputs": [],
   "source": [
    "# making a dataframe with the mean, min and max of the Hill estimator of abs return distribution for different values of V_f\n",
    "df_ABM_abs_return_results_for_different_V_F = pd.DataFrame(dict_of_results_for_different_V_f)\n",
    "df_ABM_abs_return_results_for_different_V_F.index = [ 'mean', 'min', 'max']\n",
    "df_ABM_abs_return_results_for_different_V_F"
   ]
  },
  {
   "cell_type": "code",
   "execution_count": null,
   "metadata": {},
   "outputs": [],
   "source": [
    "# saving the dataframe as a csv file\n",
    "df_ABM_abs_return_results_for_different_V_F.to_csv('df_ABM_results_for_different_V_F.csv')\n"
   ]
  },
  {
   "cell_type": "code",
   "execution_count": null,
   "metadata": {},
   "outputs": [],
   "source": [
    "# regress the Hill estimator of abs returns on log V_f\n",
    "X = np.array(V_f_list).reshape(-1,1)\n",
    "y = df_ABM_abs_return_results_for_different_V_F.loc['mean'].values\n",
    "reg = LinearRegression().fit(X, y)\n",
    "plt.scatter(X, y)\n",
    "plt.plot(X, reg.predict(X), color='red')\n",
    "plt.title('Hill estimator of returns on log of V_f')\n",
    "plt.xlabel('V_f')\n",
    "plt.ylabel('Hill estimator of abs returns')\n",
    "plt.show()\n",
    "print(f'R^2: {str(reg.score(X, y))})')\n",
    "print(f'intercept: {str(reg.intercept_)}')\n",
    "print(f'coefficient: {str(reg.coef_)}')\n",
    "\n",
    "# getting p value from statsmodels library:\n",
    "\n",
    "model = sm.OLS(y, X).fit()\n",
    "\n",
    "# Get the p-value of the regression coefficients\n",
    "p_value = model.pvalues[0]\n",
    "\n",
    "print('Null hypothesis: the coefficient is zero')\n",
    "print('Alternative hypothesis: the coefficient is not zero')\n",
    "print('If p value is less than 0.05, we reject the null hypothesis')\n",
    "print(f'p value: {str(p_value)}')\n",
    "if p_value < 0.05:\n",
    "    print('Thus, we reject the null hypothesis in favor of the alternative hypothesis')\n",
    "    print('However, the sample size is very small (only 4) so the results are not very reliable')\n",
    "else:\n",
    "    print('Thus, we fail to reject the null hypothesis')\n",
    "    "
   ]
  },
  {
   "cell_type": "code",
   "execution_count": null,
   "metadata": {},
   "outputs": [],
   "source": [
    "# regress the Hill estimator of abs returns on log V_f\n",
    "X = np.log((np.array(V_f_list))).reshape(-1,1)\n",
    "y = df_ABM_abs_return_results_for_different_V_F.loc['mean'].values\n",
    "reg = LinearRegression().fit(X, y)\n",
    "plt.scatter(X, y)\n",
    "plt.plot(X, reg.predict(X), color='red')\n",
    "plt.title('Hill estimator of returns on log of V_f')\n",
    "plt.xlabel('log of V_f')\n",
    "plt.ylabel('Hill estimator of abs returns')\n",
    "plt.show()\n",
    "print(f'R^2: {str(reg.score(X, y))})')\n",
    "print(f'intercept: {str(reg.intercept_)}')\n",
    "print(f'coefficient: {str(reg.coef_)}')\n",
    "\n",
    "# getting p value from statsmodels library:\n",
    "\n",
    "model = sm.OLS(y, X).fit()\n",
    "\n",
    "# Get the p-value of the regression coefficients\n",
    "p_value = model.pvalues[0]\n",
    "\n",
    "print('Null hypothesis: the coefficient is zero')\n",
    "print('Alternative hypothesis: the coefficient is not zero')\n",
    "print('If p value is less than 0.05, we reject the null hypothesis')\n",
    "print(f'p value: {str(p_value)}')\n",
    "if p_value < 0.05:\n",
    "    print('Thus, we reject the null hypothesis in favor of the alternative hypothesis')\n",
    "    print('However, the sample size is very small (only 4) so the results are not very reliable')\n",
    "else:\n",
    "    print('Thus, we fail to reject the null hypothesis')\n",
    "    \n"
   ]
  },
  {
   "cell_type": "markdown",
   "metadata": {},
   "source": [
    "Kind of looks like a polynomial"
   ]
  },
  {
   "cell_type": "code",
   "execution_count": null,
   "metadata": {},
   "outputs": [],
   "source": []
  },
  {
   "cell_type": "code",
   "execution_count": null,
   "metadata": {},
   "outputs": [],
   "source": [
    "# normalizing abs returns for each run (different n0)\n",
    "abs_normalized_returns_ABM_results_for_different_n0 = []\n",
    "for n0 in range(len(n0_list)):\n",
    "    abs_normalized_returns_ABM_results_for_same_n0 = []\n",
    "    for run in range(10):\n",
    "        abs_normalized_returns_ABM_results_for_same_n0.append(np.abs((results_ABM_10_runs_for_different_n0[n0][0][run] - np.mean(results_ABM_10_runs_for_different_n0[n0][0][run]))/np.std(results_ABM_10_runs_for_different_n0[n0][0][run])))\n",
    "    abs_normalized_returns_ABM_results_for_different_n0.append(normalized_abs_returns_ABM_results_for_same_n0)\n"
   ]
  },
  {
   "cell_type": "markdown",
   "metadata": {},
   "source": [
    "# ABM return results for different n0's across 10 runs"
   ]
  },
  {
   "cell_type": "code",
   "execution_count": null,
   "metadata": {},
   "outputs": [],
   "source": [
    "# 10 runs, for different values of n0 (number of agents), using V_f = 0.4\n",
    "results_ABM_10_runs_for_different_n0 = []\n",
    "p = probability_of_trading(0.4, V)\n",
    "for n0 in n0_list:\n",
    "    print(n0)\n",
    "    results_ABM_10_runs_for_different_n0.append(run_ABM(p, n0, size, k, omega, b, t, runs))"
   ]
  },
  {
   "cell_type": "code",
   "execution_count": null,
   "metadata": {},
   "outputs": [],
   "source": [
    "# plot all runs for different values of n0's on histograms\n",
    "bins = np.logspace(-4,3, 100)\n",
    "for n0 in range(len(n0_list)):\n",
    "    for run in range(10):\n",
    "        plt.hist(results_ABM_10_runs_for_different_n0[n0][0][run].flatten(), bins=100, alpha=0.5, cumulative=-1, log = True, histtype='step',label= 'run: ' + str(run), density = 1)\n",
    "        plt.gca().set_xscale(\"log\")\n",
    "        plt.title(f'Histogram of returns n0: {str(n0_list[n0])} across 10 runs')\n",
    "        plt.xlabel('Returns')\n",
    "        plt.ylabel('CDF')\n",
    "        plt.legend()\n",
    "    plt.show()"
   ]
  },
  {
   "cell_type": "code",
   "execution_count": null,
   "metadata": {},
   "outputs": [],
   "source": [
    "dict_of_results_for_different_n0 = {}\n",
    "for n0 in range(len(n0_list)):\n",
    "    HE_list_n0= []\n",
    "    for run in range(10):\n",
    "        HE_list_n0.append(Hill_estimator(results_ABM_10_runs_for_different_n0[n0][0][run].flatten(),1))\n",
    "    dict_of_results_for_different_n0[n0_list[n0]] = np.mean(HE_list_n0), np.min(HE_list_n0), np.max(HE_list_n0)"
   ]
  },
  {
   "cell_type": "code",
   "execution_count": null,
   "metadata": {},
   "outputs": [],
   "source": [
    "dict_of_results_for_different_n0"
   ]
  },
  {
   "cell_type": "code",
   "execution_count": null,
   "metadata": {},
   "outputs": [],
   "source": [
    "df_ABM_results_for_different_n0 = pd.DataFrame(dict_of_results_for_different_n0)\n",
    "df_ABM_results_for_different_n0.index = [ 'mean', 'min', 'max']\n",
    "df_ABM_results_for_different_n0"
   ]
  },
  {
   "cell_type": "code",
   "execution_count": null,
   "metadata": {},
   "outputs": [],
   "source": [
    "df_ABM_results_for_different_n0.to_csv('df_ABM_results_for_different_n0.csv')"
   ]
  },
  {
   "cell_type": "code",
   "execution_count": null,
   "metadata": {},
   "outputs": [],
   "source": [
    "# regress the Hill estimator of returns on of n0\n",
    "X = (np.array(n0_list)).reshape(-1,1)\n",
    "y = df_ABM_results_for_different_n0.loc['mean'].values\n",
    "reg = LinearRegression().fit(X, y)\n",
    "plt.scatter(X, y)\n",
    "plt.plot(X, reg.predict(X), color='red')\n",
    "plt.title('Hill estimator of returns on n0')\n",
    "plt.xlabel('n0')\n",
    "plt.ylabel('Hill estimator of returns')\n",
    "plt.show()\n",
    "print(f'R^2: {str(reg.score(X, y))})')\n",
    "print(f'intercept: {str(reg.intercept_)}')\n",
    "print(f'coefficient: {str(reg.coef_)}')\n",
    "\n",
    "# getting p value from statsmodels library:\n",
    "\n",
    "model = sm.OLS(y, X).fit()\n",
    "\n",
    "# Get the p-value of the regression coefficients\n",
    "p_value = model.pvalues[0]\n",
    "\n",
    "print('Null hypothesis: the coefficient is zero')\n",
    "print('Alternative hypothesis: the coefficient is not zero')\n",
    "print('If p value is less than 0.05, we reject the null hypothesis')\n",
    "print(f'p value: {str(p_value)}')\n",
    "if p_value < 0.05:\n",
    "    print('Thus, we reject the null hypothesis in favor of the alternative hypothesis')\n",
    "    print('However, the sample size is very small (only 4) so the results are not very reliable')\n",
    "else:\n",
    "    print('Thus, we fail to reject the null hypothesis')\n",
    "    "
   ]
  },
  {
   "cell_type": "code",
   "execution_count": null,
   "metadata": {},
   "outputs": [],
   "source": [
    "# regress the Hill estimator of returns on log of n0\n",
    "X = np.log((np.array(n0_list))).reshape(-1,1)\n",
    "y = df_ABM_results_for_different_n0.loc['mean'].values\n",
    "reg = LinearRegression().fit(X, y)\n",
    "plt.scatter(X, y)\n",
    "plt.plot(X, reg.predict(X), color='red')\n",
    "plt.title('Hill estimator of returns on log of n0')\n",
    "plt.xlabel('log of n0')\n",
    "plt.ylabel('Hill estimator of returns')\n",
    "plt.show()\n",
    "print(f'R^2: {str(reg.score(X, y))})')\n",
    "print(f'intercept: {str(reg.intercept_)}')\n",
    "print(f'coefficient: {str(reg.coef_)}')\n",
    "\n",
    "# getting p value from statsmodels library:\n",
    "\n",
    "model = sm.OLS(y, X).fit()\n",
    "\n",
    "# Get the p-value of the regression coefficients\n",
    "p_value = model.pvalues[0]\n",
    "\n",
    "print('Null hypothesis: the coefficient is zero')\n",
    "print('Alternative hypothesis: the coefficient is not zero')\n",
    "print('If p value is less than 0.05, we reject the null hypothesis')\n",
    "print(f'p value: {str(p_value)}')\n",
    "if p_value < 0.05:\n",
    "    print('Thus, we reject the null hypothesis in favor of the alternative hypothesis')\n",
    "    print('However, the sample size is very small (only 4) so the results are not very reliable')\n",
    "else:\n",
    "    print('Thus, we fail to reject the null hypothesis')\n",
    "    \n"
   ]
  },
  {
   "cell_type": "markdown",
   "metadata": {},
   "source": [
    "# ABM absolute return results for different n0's across 10 runs"
   ]
  },
  {
   "cell_type": "code",
   "execution_count": null,
   "metadata": {},
   "outputs": [],
   "source": [
    "# taking abs returns for each run (different n0)\n",
    "abs_returns_ABM_results_for_different_n0 = []\n",
    "for n0 in range(len(n0_list)):\n",
    "    abs_returns_ABM_results_for_same_n0 = []\n",
    "    for run in range(10):\n",
    "        abs_returns_ABM_results_for_same_n0.append(np.abs(results_ABM_10_runs_for_different_n0[n0][0][run]))\n",
    "    abs_returns_ABM_results_for_different_n0.append(abs_returns_ABM_results_for_same_n0)\n",
    "    "
   ]
  },
  {
   "cell_type": "code",
   "execution_count": null,
   "metadata": {},
   "outputs": [],
   "source": [
    "# plot all runs abs returns for different values of no's on seperate histograms\n",
    "bins = np.logspace(-4,3, 100)\n",
    "for n0 in range(len(n0_list)):\n",
    "    for run in range(10):\n",
    "        plt.hist(abs_returns_ABM_results_for_different_n0[n0][run].flatten(), bins=100, alpha=0.5, cumulative=-1, log = True, histtype='step',label= 'run: ' + str(run), density = 1)\n",
    "        plt.gca().set_xscale(\"log\")\n",
    "        plt.title(f'Histogram of abs returns for n0: {str(n0_list[n0])} across 10 runs')\n",
    "        plt.xlabel('Returns')\n",
    "        plt.ylabel('CDF')\n",
    "        plt.legend()\n",
    "    plt.show()"
   ]
  },
  {
   "cell_type": "code",
   "execution_count": null,
   "metadata": {},
   "outputs": [],
   "source": [
    "dict_of_results_for_different_n0 = {}\n",
    "for n0 in range(len(n0_list)):\n",
    "    HE_list_n0= []\n",
    "    for run in range(10):\n",
    "        HE_list_n0.append(Hill_estimator(abs_returns_ABM_results_for_different_n0[n0][run].flatten(),1))\n",
    "    dict_of_results_for_different_n0[n0_list[n0]] = np.mean(HE_list_n0), np.min(HE_list_n0), np.max(HE_list_n0)"
   ]
  },
  {
   "cell_type": "code",
   "execution_count": null,
   "metadata": {},
   "outputs": [],
   "source": [
    "dict_of_results_for_different_n0"
   ]
  },
  {
   "cell_type": "code",
   "execution_count": null,
   "metadata": {},
   "outputs": [],
   "source": [
    "df_ABM_results_for_different_n0_abs_returns = pd.DataFrame(dict_of_results_for_different_n0)\n",
    "df_ABM_results_for_different_n0_abs_returns.index = [ 'mean', 'min', 'max']\n",
    "df_ABM_results_for_different_n0_abs_returns"
   ]
  },
  {
   "cell_type": "code",
   "execution_count": null,
   "metadata": {},
   "outputs": [],
   "source": [
    "df_ABM_results_for_different_n0_abs_returns.to_csv('df_ABM_results_for_different_n0_abs_returns.csv')"
   ]
  },
  {
   "cell_type": "code",
   "execution_count": null,
   "metadata": {},
   "outputs": [],
   "source": [
    "# regress the Hill estimator of abs returns on of n0\n",
    "X = (np.array(n0_list)).reshape(-1,1)\n",
    "y = df_ABM_results_for_different_n0_abs_returns.loc['mean'].values\n",
    "reg = LinearRegression().fit(X, y)\n",
    "plt.scatter(X, y)\n",
    "plt.plot(X, reg.predict(X), color='red')\n",
    "plt.title('Hill estimator of abs returns on n0')\n",
    "plt.xlabel('n0')\n",
    "plt.ylabel('Hill estimator of abs returns')\n",
    "plt.show()\n",
    "print(f'R^2: {str(reg.score(X, y))})')\n",
    "print(f'intercept: {str(reg.intercept_)}')\n",
    "print(f'coefficient: {str(reg.coef_)}')\n",
    "\n",
    "# getting p value from statsmodels library:\n",
    "\n",
    "model = sm.OLS(y, X).fit()\n",
    "\n",
    "# Get the p-value of the regression coefficients\n",
    "p_value = model.pvalues[0]\n",
    "\n",
    "print('Null hypothesis: the coefficient is zero')\n",
    "print('Alternative hypothesis: the coefficient is not zero')\n",
    "print('If p value is less than 0.05, we reject the null hypothesis')\n",
    "print(f'p value: {str(p_value)}')\n",
    "if p_value < 0.05:\n",
    "    print('Thus, we reject the null hypothesis in favor of the alternative hypothesis')\n",
    "    print('However, the sample size is very small (only 4) so the results are not very reliable')\n",
    "else:\n",
    "    print('Thus, we fail to reject the null hypothesis')"
   ]
  },
  {
   "cell_type": "code",
   "execution_count": null,
   "metadata": {},
   "outputs": [],
   "source": [
    "# regress the Hill estimator of abs returns on log of n0\n",
    "X = np.log(np.array(n0_list)).reshape(-1,1)\n",
    "y = df_ABM_results_for_different_n0_abs_returns.loc['mean'].values\n",
    "reg = LinearRegression().fit(X, y)\n",
    "plt.scatter(X, y)\n",
    "plt.plot(X, reg.predict(X), color='red')\n",
    "plt.title('Hill estimator of abs returns on n0')\n",
    "plt.title('Hill estimator of abs returns on log of n0')\n",
    "plt.xlabel('log of n0')\n",
    "plt.show()\n",
    "print(f'R^2: {str(reg.score(X, y))})')\n",
    "print(f'intercept: {str(reg.intercept_)}')\n",
    "print(f'coefficient: {str(reg.coef_)}')\n",
    "\n",
    "# getting p value from statsmodels library:\n",
    "\n",
    "model = sm.OLS(y, X).fit()\n",
    "\n",
    "# Get the p-value of the regression coefficients\n",
    "p_value = model.pvalues[0]\n",
    "\n",
    "print('Null hypothesis: the coefficient is zero')\n",
    "print('Alternative hypothesis: the coefficient is not zero')\n",
    "print('If p value is less than 0.05, we reject the null hypothesis')\n",
    "print(f'p value: {str(p_value)}')\n",
    "if p_value < 0.05:\n",
    "    print('Thus, we reject the null hypothesis in favor of the alternative hypothesis')\n",
    "    print('However, the sample size is very small (only 4) so the results are not very reliable')\n",
    "else:\n",
    "    print('Thus, we fail to reject the null hypothesis')\n"
   ]
  },
  {
   "cell_type": "code",
   "execution_count": null,
   "metadata": {},
   "outputs": [],
   "source": [
    "# making a dictionary with the mean, min and max of the Hill estimator of abs return distribution for different values of V_f\n",
    "dict_of_results_for_different_n0 = {}\n",
    "for n0 in range(len(V_f_list)):\n",
    "    HE_list_V_f = []\n",
    "    for run in range(10):\n",
    "        HE_list_V_f.append(Hill_estimator(abs_returns_ABM_results_for_different_V_f[V_f][run].flatten(),1))\n",
    "    dict_of_results_for_different_V_f[V_f_list[V_f]] = np.mean(HE_list_V_f), np.min(HE_list_V_f), np.max(HE_list_V_f)"
   ]
  },
  {
   "cell_type": "code",
   "execution_count": null,
   "metadata": {},
   "outputs": [],
   "source": [
    "dict_of_results_for_different_V_f"
   ]
  },
  {
   "cell_type": "code",
   "execution_count": null,
   "metadata": {},
   "outputs": [],
   "source": [
    "# making a dataframe with the mean, min and max of the Hill estimator of abs return distribution for different values of V_f\n",
    "df_ABM_abs_return_results_for_different_V_F = pd.DataFrame(dict_of_results_for_different_V_f)\n",
    "df_ABM_abs_return_results_for_different_V_F.index = [ 'mean', 'min', 'max']\n",
    "df_ABM_abs_return_results_for_different_V_F"
   ]
  },
  {
   "cell_type": "code",
   "execution_count": null,
   "metadata": {},
   "outputs": [],
   "source": [
    "# saving the dataframe as a csv file\n",
    "df_ABM_abs_return_results_for_different_V_F.to_csv('df_ABM_results_for_different_V_F.csv')\n"
   ]
  },
  {
   "cell_type": "markdown",
   "metadata": {},
   "source": [
    "# ABM normalized returns different n0's across 10 runs"
   ]
  },
  {
   "cell_type": "code",
   "execution_count": null,
   "metadata": {},
   "outputs": [],
   "source": [
    "# normalizing abs returns for each run (different n0)\n",
    "normalized_returns_ABM_results_for_different_n0 = []\n",
    "for n0 in range(len(n0_list)):\n",
    "    normalized_returns_ABM_results_for_same_n0 = []\n",
    "    for run in range(10):\n",
    "        normalized_returns_ABM_results_for_same_n0.append((results_ABM_10_runs_for_different_n0[n0][0][run] - np.mean(results_ABM_10_runs_for_different_n0[n0][0][run]))/np.std(results_ABM_10_runs_for_different_n0[n0][0][run]))\n",
    "    normalized_returns_ABM_results_for_different_n0.append(normalized_returns_ABM_results_for_same_n0)\n"
   ]
  },
  {
   "cell_type": "code",
   "execution_count": null,
   "metadata": {},
   "outputs": [],
   "source": [
    "# plot all runs abs returns for different values of V_f on seperate histograms\n",
    "bins = np.logspace(-4,3, 100)\n",
    "for n0 in range(len(n0_list)):\n",
    "    for run in range(10):\n",
    "        plt.hist(normalized_returns_ABM_results_for_different_n0[n0][run].flatten(), bins=100, alpha=0.5, cumulative=-1, log = True, histtype='step',label= 'run: ' + str(run), density = 1)\n",
    "        plt.gca().set_xscale(\"log\")\n",
    "        plt.title(f'Histogram of returns for n0: {str(n0_list[n0])} across 10 runs')\n",
    "        plt.xlabel('Returns')\n",
    "        plt.ylabel('CDF')\n",
    "        plt.legend()\n",
    "    plt.show()"
   ]
  },
  {
   "cell_type": "code",
   "execution_count": null,
   "metadata": {},
   "outputs": [],
   "source": [
    "dict_of_results_for_different_n0 = {}\n",
    "for n0 in range(len(n0_list)):\n",
    "    HE_list_n0= []\n",
    "    for run in range(10):\n",
    "        HE_list_n0.append(Hill_estimator(normalized_returns_ABM_results_for_different_n0[n0][run].flatten(),1))\n",
    "    dict_of_results_for_different_n0[n0_list[n0]] = np.mean(HE_list_n0), np.min(HE_list_n0), np.max(HE_list_n0)"
   ]
  },
  {
   "cell_type": "code",
   "execution_count": null,
   "metadata": {},
   "outputs": [],
   "source": [
    "dict_of_results_for_different_n0"
   ]
  },
  {
   "cell_type": "code",
   "execution_count": null,
   "metadata": {},
   "outputs": [],
   "source": [
    "# making a dataframe with the mean, min and max of the Hill estimator of abs return distribution for different values of n0\n",
    "df_of_normalized_results_for_different_n0 = pd.DataFrame(dict_of_results_for_different_n0)\n",
    "df_of_normalized_results_for_different_n0.index = [ 'mean', 'min', 'max']\n",
    "df_of_normalized_results_for_different_n0"
   ]
  },
  {
   "cell_type": "code",
   "execution_count": null,
   "metadata": {},
   "outputs": [],
   "source": [
    "# saving the dataframe as a csv file\n",
    "df_of_normalized_results_for_different_n0.to_csv('df_ABM_normalized_abs_return_results_for_different_V_F.csv')"
   ]
  },
  {
   "cell_type": "code",
   "execution_count": null,
   "metadata": {},
   "outputs": [],
   "source": [
    "# regress the Hill estimator of  returns on of n0\n",
    "X = (np.array(n0_list)).reshape(-1,1)\n",
    "y = df_of_normalized_results_for_different_n0.loc['mean'].values\n",
    "reg = LinearRegression().fit(X, y)\n",
    "plt.scatter(X, y)\n",
    "plt.plot(X, reg.predict(X), color='red')\n",
    "plt.title('Hill estimator of normalized returns on n0')\n",
    "plt.xlabel('n0')\n",
    "plt.ylabel('Hill estimator of returns normalized')\n",
    "plt.show()\n",
    "print(f'R^2: {str(reg.score(X, y))})')\n",
    "print(f'intercept: {str(reg.intercept_)}')\n",
    "print(f'coefficient: {str(reg.coef_)}')\n",
    "\n",
    "# getting p value from statsmodels library:\n",
    "\n",
    "model = sm.OLS(y, X).fit()\n",
    "\n",
    "# Get the p-value of the regression coefficients\n",
    "p_value = model.pvalues[0]\n",
    "\n",
    "print('Null hypothesis: the coefficient is zero')\n",
    "print('Alternative hypothesis: the coefficient is not zero')\n",
    "print('If p value is less than 0.05, we reject the null hypothesis')\n",
    "print(f'p value: {str(p_value)}')\n",
    "if p_value < 0.05:\n",
    "    print('Thus, we reject the null hypothesis in favor of the alternative hypothesis')\n",
    "    print('However, the sample size is very small (only 4) so the results are not very reliable')\n",
    "else:\n",
    "    print('Thus, we fail to reject the null hypothesis')"
   ]
  },
  {
   "cell_type": "code",
   "execution_count": null,
   "metadata": {},
   "outputs": [],
   "source": [
    "# regress the Hill estimator of  returns on log of n0\n",
    "X = np.log((np.array(n0_list)).reshape(-1,1))\n",
    "y = df_of_normalized_results_for_different_n0.loc['mean'].values\n",
    "reg = LinearRegression().fit(X, y)\n",
    "plt.scatter(X, y)\n",
    "plt.plot(X, reg.predict(X), color='red')\n",
    "plt.title('Hill estimator of normalized returns on log of n0')\n",
    "plt.xlabel(' log of n0')\n",
    "plt.ylabel('Hill estimator of returns normalized')\n",
    "plt.show()\n",
    "print(f'R^2: {str(reg.score(X, y))})')\n",
    "print(f'intercept: {str(reg.intercept_)}')\n",
    "print(f'coefficient: {str(reg.coef_)}')\n",
    "\n",
    "# getting p value from statsmodels library:\n",
    "\n",
    "model = sm.OLS(y, X).fit()\n",
    "\n",
    "# Get the p-value of the regression coefficients\n",
    "p_value = model.pvalues[0]\n",
    "\n",
    "print('Null hypothesis: the coefficient is zero')\n",
    "print('Alternative hypothesis: the coefficient is not zero')\n",
    "print('If p value is less than 0.05, we reject the null hypothesis')\n",
    "print(f'p value: {str(p_value)}')\n",
    "if p_value < 0.05:\n",
    "    print('Thus, we reject the null hypothesis in favor of the alternative hypothesis')\n",
    "    print('However, the sample size is very small (only 4) so the results are not very reliable')\n",
    "else:\n",
    "    print('Thus, we fail to reject the null hypothesis')"
   ]
  },
  {
   "cell_type": "markdown",
   "metadata": {},
   "source": [
    "# ABM normalized absolute returns different n0's across 10 runs"
   ]
  },
  {
   "cell_type": "code",
   "execution_count": null,
   "metadata": {},
   "outputs": [],
   "source": [
    "# normalizing abs returns for each run (different n0)\n",
    "normalized_abs_returns_ABM_results_for_different_n0 = []\n",
    "for n0 in range(len(n0_list)):\n",
    "    normalized_abs_returns_ABM_results_for_same_n0 = []\n",
    "    for run in range(10):\n",
    "        normalized_abs_returns_ABM_results_for_same_n0.append((abs_returns_ABM_results_for_different_n0[n0][run] - np.mean(abs_returns_ABM_results_for_different_n0[n0][run]))/np.std(abs_returns_ABM_results_for_different_n0[n0][run]))\n",
    "    normalized_abs_returns_ABM_results_for_different_n0.append(normalized_abs_returns_ABM_results_for_same_n0)\n"
   ]
  },
  {
   "cell_type": "code",
   "execution_count": null,
   "metadata": {},
   "outputs": [],
   "source": [
    "# plot all runs abs returns for different values of n0's on seperate histograms\n",
    "bins = np.logspace(-4,3, 100)\n",
    "for n0 in range(len(n0_list)):\n",
    "    for run in range(10):\n",
    "        plt.hist(normalized_abs_returns_ABM_results_for_different_n0[n0][run].flatten(), bins=100, alpha=0.5, cumulative=-1, log = True, histtype='step',label= 'run: ' + str(run), density = 1)\n",
    "        plt.gca().set_xscale(\"log\")\n",
    "        plt.title(f'Histogram of abs returns for n0: {str(n0_list[n0])} across 10 runs')\n",
    "        plt.xlabel('Returns')\n",
    "        plt.ylabel('CDF')\n",
    "        plt.legend()\n",
    "    plt.show()"
   ]
  },
  {
   "cell_type": "code",
   "execution_count": null,
   "metadata": {},
   "outputs": [],
   "source": [
    "dict_of_results_for_different_n0 = {}\n",
    "for n0 in range(len(n0_list)):\n",
    "    HE_list_n0= []\n",
    "    for run in range(10):\n",
    "        HE_list_n0.append(Hill_estimator(normalized_abs_returns_ABM_results_for_different_n0[n0][run].flatten(),1))\n",
    "    dict_of_results_for_different_n0[n0_list[n0]] = np.mean(HE_list_n0), np.min(HE_list_n0), np.max(HE_list_n0)"
   ]
  },
  {
   "cell_type": "code",
   "execution_count": null,
   "metadata": {},
   "outputs": [],
   "source": [
    "dict_of_results_for_different_n0"
   ]
  },
  {
   "cell_type": "code",
   "execution_count": null,
   "metadata": {},
   "outputs": [],
   "source": [
    "# making a dataframe with the mean, min and max of the Hill estimator of abs return distribution for different values of V_f\n",
    "df_ABM_normalized_abs_return_results_for_different_n0 = pd.DataFrame(dict_of_results_for_different_n0)\n",
    "df_ABM_normalized_abs_return_results_for_different_n0.index = [ 'mean', 'min', 'max']\n",
    "df_ABM_normalized_abs_return_results_for_different_n0"
   ]
  },
  {
   "cell_type": "code",
   "execution_count": null,
   "metadata": {},
   "outputs": [],
   "source": [
    "# saving the dataframe as a csv file\n",
    "df_ABM_normalized_abs_return_results_for_different_n0.to_csv('df_ABM_normalized_abs_return_results_for_different_n0.csv')"
   ]
  },
  {
   "cell_type": "code",
   "execution_count": null,
   "metadata": {},
   "outputs": [],
   "source": [
    "# regress the Hill estimator of  normalized abs returns on n0\n",
    "X = (np.array(n0_list)).reshape(-1,1)\n",
    "y = df_ABM_normalized_abs_return_results_for_different_n0.loc['mean'].values\n",
    "reg = LinearRegression().fit(X, y)\n",
    "plt.scatter(X, y)\n",
    "plt.plot(X, reg.predict(X), color='red')\n",
    "plt.title('Hill estimator of normalized returns on n0')\n",
    "plt.xlabel('n0')\n",
    "plt.ylabel('Hill estimator of returns normalized')\n",
    "plt.show()\n",
    "print(f'R^2: {str(reg.score(X, y))})')\n",
    "print(f'intercept: {str(reg.intercept_)}')\n",
    "print(f'coefficient: {str(reg.coef_)}')\n",
    "\n",
    "# getting p value from statsmodels library:\n",
    "\n",
    "model = sm.OLS(y, X).fit()\n",
    "\n",
    "# Get the p-value of the regression coefficients\n",
    "p_value = model.pvalues[0]\n",
    "\n",
    "print('Null hypothesis: the coefficient is zero')\n",
    "print('Alternative hypothesis: the coefficient is not zero')\n",
    "print('If p value is less than 0.05, we reject the null hypothesis')\n",
    "print(f'p value: {str(p_value)}')\n",
    "if p_value < 0.05:\n",
    "    print('Thus, we reject the null hypothesis in favor of the alternative hypothesis')\n",
    "    print('However, the sample size is very small (only 4) so the results are not very reliable')\n",
    "else:\n",
    "    print('Thus, we fail to reject the null hypothesis')"
   ]
  },
  {
   "cell_type": "code",
   "execution_count": null,
   "metadata": {},
   "outputs": [],
   "source": [
    "# regress the Hill estimator of  normalized abs returns on log of n0\n",
    "X = np.log((np.array(n0_list)).reshape(-1,1))\n",
    "y = df_of_normalized_results_for_different_n0.loc['mean'].values\n",
    "reg = LinearRegression().fit(X, y)\n",
    "plt.scatter(X, y)\n",
    "plt.plot(X, reg.predict(X), color='red')\n",
    "plt.title('Hill estimator of normalized returns on log of n0')\n",
    "plt.xlabel('log of n0')\n",
    "plt.ylabel('Hill estimator of returns normalized')\n",
    "plt.show()\n",
    "print(f'R^2: {str(reg.score(X, y))})')\n",
    "print(f'intercept: {str(reg.intercept_)}')\n",
    "print(f'coefficient: {str(reg.coef_)}')\n",
    "\n",
    "# getting p value from statsmodels library:\n",
    "\n",
    "model = sm.OLS(y, X).fit()\n",
    "\n",
    "# Get the p-value of the regression coefficients\n",
    "p_value = model.pvalues[0]\n",
    "\n",
    "print('Null hypothesis: the coefficient is zero')\n",
    "print('Alternative hypothesis: the coefficient is not zero')\n",
    "print('If p value is less than 0.05, we reject the null hypothesis')\n",
    "print(f'p value: {str(p_value)}')\n",
    "if p_value < 0.05:\n",
    "    print('Thus, we reject the null hypothesis in favor of the alternative hypothesis')\n",
    "    print('However, the sample size is very small (only 4) so the results are not very reliable')\n",
    "else:\n",
    "    print('Thus, we fail to reject the null hypothesis')"
   ]
  },
  {
   "cell_type": "markdown",
   "metadata": {},
   "source": [
    "# ABM absolute normalized returns different n0's across 10 runs"
   ]
  },
  {
   "cell_type": "code",
   "execution_count": null,
   "metadata": {},
   "outputs": [],
   "source": [
    "results_ABM_10_runs_for_different_n0"
   ]
  },
  {
   "cell_type": "code",
   "execution_count": null,
   "metadata": {},
   "outputs": [],
   "source": [
    "# normalizing abs returns for each run (different n0)\n",
    "abs_normalized_returns_ABM_results_for_different_n0 = []\n",
    "for n0 in range(len(n0_list)):\n",
    "    abs_normalized_returns_ABM_results_for_same_n0 = []\n",
    "    for run in range(10):\n",
    "        abs_normalized_returns_ABM_results_for_same_n0.append(np.abs((results_ABM_10_runs_for_different_n0[n0][0][run] - np.mean(results_ABM_10_runs_for_different_n0[n0][0][run]))/np.std(results_ABM_10_runs_for_different_n0[n0][0][run])))\n",
    "    abs_normalized_returns_ABM_results_for_different_n0.append(normalized_abs_returns_ABM_results_for_same_n0)\n"
   ]
  },
  {
   "cell_type": "code",
   "execution_count": null,
   "metadata": {},
   "outputs": [],
   "source": [
    "# plot all runs abs returns for different values of V_f on seperate histograms\n",
    "bins = np.logspace(-4,3, 100)\n",
    "for n0 in range(len(n0_list)):\n",
    "    for run in range(10):\n",
    "        plt.hist(abs_normalized_returns_ABM_results_for_different_n0[n0][run].flatten(), bins=100, alpha=0.5, cumulative=-1, log = True, histtype='step',label= 'run: ' + str(run), density = 1)\n",
    "        plt.gca().set_xscale(\"log\")\n",
    "        plt.title(f'Histogram of abs of normalized returns for n0: {str(n0_list[n0])} across 10 runs')\n",
    "        plt.xlabel('Returns')\n",
    "        plt.ylabel('CDF')\n",
    "        plt.legend()\n",
    "    plt.show()"
   ]
  },
  {
   "cell_type": "code",
   "execution_count": null,
   "metadata": {},
   "outputs": [],
   "source": [
    "dict_of_results_for_different_n0 = {}\n",
    "for n0 in range(len(n0_list)):\n",
    "    HE_list_n0= []\n",
    "    for run in range(10):\n",
    "        HE_list_n0.append(Hill_estimator(abs_normalized_returns_ABM_results_for_different_n0[n0][run].flatten(),1))\n",
    "    dict_of_results_for_different_n0[n0_list[n0]] = np.mean(HE_list_n0), np.min(HE_list_n0), np.max(HE_list_n0)"
   ]
  },
  {
   "cell_type": "code",
   "execution_count": null,
   "metadata": {},
   "outputs": [],
   "source": [
    "dict_of_results_for_different_n0"
   ]
  },
  {
   "cell_type": "code",
   "execution_count": null,
   "metadata": {},
   "outputs": [],
   "source": [
    "# making a dataframe with the mean, min and max of the Hill estimator of abs return distribution for different values of V_f\n",
    "df_ABM_normalized_abs_return_results_for_different_n0 = pd.DataFrame(dict_of_results_for_different_n0)\n",
    "df_ABM_normalized_abs_return_results_for_different_n0.index = [ 'mean', 'min', 'max']\n",
    "df_ABM_normalized_abs_return_results_for_different_n0"
   ]
  },
  {
   "cell_type": "code",
   "execution_count": null,
   "metadata": {},
   "outputs": [],
   "source": [
    "# saving the dataframe as a csv file\n",
    "df_ABM_normalized_abs_return_results_for_different_n0.to_csv('df_ABM_normalized_abs_return_results_for_different_V_F.csv')"
   ]
  },
  {
   "cell_type": "code",
   "execution_count": null,
   "metadata": {},
   "outputs": [],
   "source": [
    "# regress the Hill estimator of abs of normalized returns on n0\n",
    "X = np.array(n0_list).reshape(-1,1)\n",
    "y = df_ABM_normalized_abs_return_results_for_different_n0.loc['mean'].values\n",
    "reg = LinearRegression().fit(X, y)\n",
    "plt.scatter(X, y)\n",
    "plt.plot(X, reg.predict(X), color='red')\n",
    "plt.title('Hill estimator of normalized returns on log of n0')\n",
    "plt.xlabel(' log of n0')\n",
    "plt.ylabel('Hill estimator of returns normalized')\n",
    "plt.show()\n",
    "print(f'R^2: {str(reg.score(X, y))})')\n",
    "print(f'intercept: {str(reg.intercept_)}')\n",
    "print(f'coefficient: {str(reg.coef_)}')\n",
    "\n",
    "# getting p value from statsmodels library:\n",
    "\n",
    "model = sm.OLS(y, X).fit()\n",
    "\n",
    "# Get the p-value of the regression coefficients\n",
    "p_value = model.pvalues[0]\n",
    "\n",
    "print('Null hypothesis: the coefficient is zero')\n",
    "print('Alternative hypothesis: the coefficient is not zero')\n",
    "print('If p value is less than 0.05, we reject the null hypothesis')\n",
    "print(f'p value: {str(p_value)}')\n",
    "if p_value < 0.05:\n",
    "    print('Thus, we reject the null hypothesis in favor of the alternative hypothesis')\n",
    "    print('However, the sample size is very small (only 4) so the results are not very reliable')\n",
    "else:\n",
    "    print('Thus, we fail to reject the null hypothesis')"
   ]
  },
  {
   "cell_type": "code",
   "execution_count": null,
   "metadata": {},
   "outputs": [],
   "source": [
    "# regress the Hill estimator of abs of normalized returns on n0\n",
    "X = np.log((np.array(n0_list)).reshape(-1,1))\n",
    "y = df_ABM_normalized_abs_return_results_for_different_n0.loc['mean'].values\n",
    "reg = LinearRegression().fit(X, y)\n",
    "plt.scatter(X, y)\n",
    "plt.plot(X, reg.predict(X), color='red')\n",
    "plt.title('Hill estimator of normalized returns on log of n0')\n",
    "plt.xlabel('log of n0')\n",
    "plt.ylabel('Hill estimator of returns normalized')\n",
    "plt.show()\n",
    "print(f'R^2: {str(reg.score(X, y))})')\n",
    "print(f'intercept: {str(reg.intercept_)}')\n",
    "print(f'coefficient: {str(reg.coef_)}')\n",
    "\n",
    "# getting p value from statsmodels library:\n",
    "\n",
    "model = sm.OLS(y, X).fit()\n",
    "\n",
    "# Get the p-value of the regression coefficients\n",
    "p_value = model.pvalues[0]\n",
    "\n",
    "print('Null hypothesis: the coefficient is zero')\n",
    "print('Alternative hypothesis: the coefficient is not zero')\n",
    "print('If p value is less than 0.05, we reject the null hypothesis')\n",
    "print(f'p value: {str(p_value)}')\n",
    "if p_value < 0.05:\n",
    "    print('Thus, we reject the null hypothesis in favor of the alternative hypothesis')\n",
    "    print('However, the sample size is very small (only 4) so the results are not very reliable')\n",
    "else:\n",
    "    print('Thus, we fail to reject the null hypothesis')"
   ]
  },
  {
   "cell_type": "markdown",
   "metadata": {},
   "source": [
    "# Visualization function"
   ]
  },
  {
   "cell_type": "code",
   "execution_count": null,
   "metadata": {},
   "outputs": [],
   "source": [
    "# def Plot_multiple_sims(results_simulated: list, results_real: list, title: str, x_label: str, y_label: str, log: bool):\n",
    "#     ''' Plots mean and 95 CI of a list of lists of daily returns'''\n",
    "#     results_simulated_array = np.array(results_simulated)\n",
    "#     mean_result = np.mean(results_simulated_array, axis=1)\n",
    "#     CI_95 = np.percentile(results_simulated_array.T, [2.5, 97.5], axis=1)\n",
    "#     plt.plot(range(len(results_real)), results_real, color='black')\n",
    "#     plt.plot(range(len(mean_result)), mean_result, color='red')\n",
    "#     plt.fill_between(range(len(mean_result)), CI_95[0], CI_95[1], color='red', alpha=0.2)\n",
    "#     for i in range(len(results_simulated)):\n",
    "#         plt.plot(range(len(results_simulated[i])), results_simulated[i])\n",
    "#     plt.title(title)\n",
    "#     plt.xlabel(x_label)\n",
    "#     plt.ylabel(y_label)\n",
    "#     if log == True:\n",
    "#         plt.gca().set_yscale(\"log\")\n",
    "#     plt.show()"
   ]
  },
  {
   "cell_type": "code",
   "execution_count": null,
   "metadata": {},
   "outputs": [],
   "source": [
    "def Plot_multiple_sims(results_simulated, results_real, title:str, x_label:str, y_label:str, log:bool):\n",
    "    results_simulated_array = np.array(results_simulated)\n",
    "    results_sorted = np.sort(results_simulated_array, axis = 0)\n",
    "    mean_results_sorted = np.mean(results_sorted, axis = 0)\n",
    "    std_results_sorted = np.std(results_sorted, axis = 0)\n",
    "    n, bins = np.histogram(results_sorted, bins=100)\n",
    "    plt.errorbar(n, bins, std_results_sorted, fmt='o', ecolor='black', capsize=2)\n",
    "\n",
    "    plt.title(title)\n",
    "    plt.xlabel(x_label)\n",
    "    plt.ylabel(y_label)\n",
    "    if log == True:\n",
    "        plt.gca().set_xscale(\"log\")\n",
    "    plt.show()\n"
   ]
  },
  {
   "cell_type": "code",
   "execution_count": null,
   "metadata": {},
   "outputs": [],
   "source": [
    "def Plot_multiple_sims(results_simulated, results_real, title:str, x_label:str, y_label:str, log:bool):\n",
    "    list_of_n = []\n",
    "    for result in results_simulated:\n",
    "        bin_heights = plt.hist(result, bins=bin, cumulative=-1, density=True, log=True, histtype='step', alpha=0.5)[0]\n",
    "        plt.show()\n",
    "    array_of_n = np.array(list_of_n)\n",
    "    plt.hist(list_of_n)\n",
    "    if log == True:\n",
    "        plt.gca().set_xscale(\"log\")\n",
    "    plt.show()"
   ]
  },
  {
   "cell_type": "markdown",
   "metadata": {},
   "source": [
    "# Stochastic model run"
   ]
  },
  {
   "cell_type": "code",
   "execution_count": null,
   "metadata": {},
   "outputs": [],
   "source": [
    "# other parameters\n",
    "n = 2**10\n",
    "t = 10**6\n",
    "k = 1\n",
    "M = 500\n",
    "d = 1.12\n",
    "runs = 10\n",
    "init = 1"
   ]
  },
  {
   "cell_type": "code",
   "execution_count": null,
   "metadata": {},
   "outputs": [],
   "source": [
    "V_f_list = [0.2, 0.4, 0.6, 0.8]\n",
    "\n",
    "print(\"The V value is\", V)\n",
    "for V_f in V_f_list:\n",
    "    p = probability_of_trading(V_f, V)\n",
    "    print('V_f: ' + str(V_f), 'gives a p value of', p)\n"
   ]
  },
  {
   "cell_type": "code",
   "execution_count": null,
   "metadata": {},
   "outputs": [],
   "source": [
    "# stochastic model without time horizon\n",
    "stochastic_model_without_time_horizon_results = []\n",
    "for V_f in V_f_list:\n",
    "    p = probability_of_trading(V_f, V)\n",
    "    result = run_Stochastic_Model(n = n, p = p, init = 1, time_horizon= False, M=M, d=d, t=t, runs=runs)\n",
    "    stochastic_model_without_time_horizon_results.append(result)"
   ]
  },
  {
   "cell_type": "code",
   "execution_count": null,
   "metadata": {},
   "outputs": [],
   "source": [
    "# stochastic model with time horizon\n",
    "stochastic_model_with_time_horizon_results = []\n",
    "for V_f in V_f_list:\n",
    "    p = probability_of_trading(V_f, V)\n",
    "    result = run_Stochastic_Model(n = n, p = p, init = 1, time_horizon= True, M=M, d=d, t=t, runs=runs)\n",
    "    stochastic_model_with_time_horizon_results.append(result)"
   ]
  },
  {
   "cell_type": "code",
   "execution_count": null,
   "metadata": {},
   "outputs": [],
   "source": []
  },
  {
   "cell_type": "code",
   "execution_count": null,
   "metadata": {},
   "outputs": [],
   "source": [
    "    \n",
    "stoch_array_normalized = stoch.returns-np.mean(stoch.returns)/np.std(stoch.returns)\n",
    "stoch_time_horizons_array_normalized = stoch_hoz.returns-np.mean(stoch_hoz.returns)/np.std(stoch_hoz.returns)"
   ]
  },
  {
   "cell_type": "markdown",
   "metadata": {},
   "source": [
    "# Model validation"
   ]
  },
  {
   "cell_type": "markdown",
   "metadata": {},
   "source": [
    "This section consists two parts: \n",
    "1) comparing the simulated daily return data vs. the emperical daily return data + relevant plots & statistical tests\n",
    "2) comparing the simulated daily trading volume data vs. the emperical trading volume data + relevant plots & statistical tests"
   ]
  },
  {
   "cell_type": "markdown",
   "metadata": {},
   "source": [
    "#### Notes on the dataset\n"
   ]
  },
  {
   "cell_type": "markdown",
   "metadata": {},
   "source": [
    "\n",
    "Data is obtained from the period 2013-2022 (10 years), while Feng et al's (2012) compared their simulated results to emperical data from the 10 year period from 1997-2006.\n",
    "\n",
    "Some notable remarks on comparison between the datasets:\n",
    "\n",
    "* Feng et al. considered the S&P 500, but only stocks listed for the entire period, which were 307, in our case we had 463 stocks, a notable increase.\n",
    "* We obtained volume and shares outstanding data from Compustat database via WRDS, while obtaining open and closing data from Yahoo finance while Feng et al obtained all these variables from the compustat database.\n",
    "* Where volume, sharesoutsanding, open or close data was missing for a certain day, we imputed the values using a backfill method. If a stock was unlisted, this caused 0's in the dataset for the days it was unlisted, which might bias the data.\n",
    "\n",
    "\n"
   ]
  },
  {
   "cell_type": "markdown",
   "metadata": {},
   "source": [
    "### 1.  Comparing simulated daily resturn vs. real stock daily return data"
   ]
  },
  {
   "cell_type": "markdown",
   "metadata": {},
   "source": [
    "#### Importing real stock data"
   ]
  },
  {
   "cell_type": "code",
   "execution_count": 79,
   "metadata": {},
   "outputs": [],
   "source": [
    "df_open_clean = pd.read_csv('data/df_open_clean.csv', parse_dates=True, index_col=0)\n",
    "df_close_clean = pd.read_csv('data/df_close_clean.csv', parse_dates=True, index_col=0)"
   ]
  },
  {
   "cell_type": "code",
   "execution_count": 80,
   "metadata": {},
   "outputs": [],
   "source": [
    "assert df_open_clean.index.dtype == 'datetime64[ns]'\n",
    "assert df_close_clean.index.dtype == 'datetime64[ns]'"
   ]
  },
  {
   "cell_type": "code",
   "execution_count": 81,
   "metadata": {},
   "outputs": [],
   "source": [
    "# normalizing the data\n",
    "df_close_normalised = (df_close_clean - df_close_clean.mean()) / df_close_clean.std()\n",
    "df_open_normalised = (df_open_clean - df_open_clean.mean()) / df_open_clean.std()"
   ]
  },
  {
   "cell_type": "code",
   "execution_count": 82,
   "metadata": {},
   "outputs": [],
   "source": [
    "# calculation of returns following feng et al. (2012) method:\n",
    "df_real_returns_log_difference = df_close_normalised.apply(np.log) - df_open_normalised.apply(np.log) \n",
    "\n",
    "# taking absolute of real returns\n",
    "df_real_returns_log_difference_abs = df_real_returns_log_difference.abs()"
   ]
  },
  {
   "cell_type": "code",
   "execution_count": 83,
   "metadata": {},
   "outputs": [],
   "source": [
    "# Flattening dataframes\n",
    "real_returns_log_difference_abs_flattened = df_real_returns_log_difference_abs.values.flatten()"
   ]
  },
  {
   "cell_type": "code",
   "execution_count": 84,
   "metadata": {},
   "outputs": [],
   "source": [
    "sorted_log = sorted(real_returns_log_difference_abs_flattened)"
   ]
  },
  {
   "cell_type": "markdown",
   "metadata": {},
   "source": [
    "### Comparing real vs. simulated return data"
   ]
  },
  {
   "cell_type": "code",
   "execution_count": null,
   "metadata": {},
   "outputs": [],
   "source": [
    "# we will now index the previous simulated results to find the 10 runs that adhere to the paramer settings:\n",
    "# parameter settings v_f = 0.4, \n",
    "# , we will reiterare the relevant indexers for clarity.\n",
    "# slicing syntax for the results object is as follows: results_ABM_10_runs[index of desired V_f value in V_f list][0 for returns, 1 for volume][index of desired run in range(10)]\n",
    "\n",
    "# the 10 runs are for V_f_list carries the following values: [0.2, 0.4, 0.6, 0.8]\n",
    "# n0 = 2**10 is held constant for all V_f runs\n",
    "# b = 1.0 is also held constant across all V_f runs"
   ]
  },
  {
   "cell_type": "code",
   "execution_count": 88,
   "metadata": {},
   "outputs": [
    {
     "data": {
      "text/plain": [
       "4"
      ]
     },
     "execution_count": 88,
     "metadata": {},
     "output_type": "execute_result"
    }
   ],
   "source": [
    "len(normalized_abs_returns_ABM_results_for_different_V_f)"
   ]
  },
  {
   "cell_type": "code",
   "execution_count": 91,
   "metadata": {},
   "outputs": [],
   "source": [
    "# untransformed returns: returns_ABM_results_for_different_V_f[1][0]\n",
    "# abs only: abs_returns_ABM_results_for_different_V_f\n",
    "# normalized then abs: abs_normalized_returns_ABM_results_for_different_V_f[1]\n",
    "# abs then normalized: normalized_abs_returns_ABM_results_for_different_V_f[1]\n",
    "\n",
    "untransformed_ABM_reutrns = results_ABM_10_runs_for_different_V_f[1][0].flatten()\n",
    "abs_ABM_returns = abs_returns_ABM_results_for_different_V_f[1][0].flatten()\n",
    "abs_normalized_ABM_returns = normalized_abs_returns_ABM_results_for_different_V_f[1][0].flatten()"
   ]
  },
  {
   "cell_type": "code",
   "execution_count": 95,
   "metadata": {},
   "outputs": [],
   "source": [
    "# return data, for V_f = 0.4\n",
    "# we take flatten the array, which corresponds to aggregating the 10 runs into one array of returns to get a more reliable estimate of the distribution of returns\n",
    "return_abm_results = np.array(abs_returns_ABM_results_for_different_V_f[1]).flatten()\n",
    "\n",
    "# emperical return data \n",
    "emperical_data_returns = real_returns_log_difference_abs_flattened"
   ]
  },
  {
   "cell_type": "code",
   "execution_count": 96,
   "metadata": {},
   "outputs": [],
   "source": [
    "return_datasets = [return_abm_results, emperical_data_returns]\n",
    "labels = ['ABM returns', 'Emperical data returns']"
   ]
  },
  {
   "cell_type": "code",
   "execution_count": 97,
   "metadata": {},
   "outputs": [
    {
     "data": {
      "text/plain": [
       "array([       nan,        nan,        nan, ..., 0.02919793, 0.03354821,\n",
       "       0.06767414])"
      ]
     },
     "execution_count": 97,
     "metadata": {},
     "output_type": "execute_result"
    }
   ],
   "source": [
    "emperical_data_returns"
   ]
  },
  {
   "cell_type": "code",
   "execution_count": 98,
   "metadata": {},
   "outputs": [
    {
     "data": {
      "image/png": "[encoded data removed]",
      "text/plain": [
       "<Figure size 720x720 with 1 Axes>"
      ]
     },
     "metadata": {
      "needs_background": "light"
     },
     "output_type": "display_data"
    }
   ],
   "source": [
    "bins=np.logspace(start=0, stop=np.log(10), num=1000)\n",
    "plt.figure(figsize=(10,10))\n",
    "for i in range(len(return_datasets)):\n",
    "    plt.hist(return_datasets[i], bins=1000, cumulative=-1, density=True, log=True, histtype='step', label = labels[i], alpha = 0.5)\n",
    "plt.gca().set_xscale(\"log\")\n",
    "plt.title(' Comparing the distribution of returns for the ABM and emperical data')\n",
    "plt.xlabel('Returns')\n",
    "plt.ylabel('CDF')\n",
    "plt.legend()\n",
    "plt.show()"
   ]
  },
  {
   "cell_type": "markdown",
   "metadata": {},
   "source": [
    "# Analysis on the fit"
   ]
  },
  {
   "cell_type": "markdown",
   "metadata": {},
   "source": [
    "### RMSE"
   ]
  },
  {
   "cell_type": "code",
   "execution_count": null,
   "metadata": {},
   "outputs": [],
   "source": [
    "# Get bin heights for each dataset\n",
    "\n",
    "for dataset in return_datasets:\n",
    "    binheights, bin_edges, _ = plt.hist(dataset, bins=bin, alpha=0.5, cumulative=-1, density=True, log = True, histtype='step')\n",
    "    list_of_bin_heights.append(binheights) "
   ]
  },
  {
   "cell_type": "code",
   "execution_count": null,
   "metadata": {},
   "outputs": [],
   "source": [
    "def RMSE(predictions:list[float], targets:list[float]) -> float:\n",
    "    '''Returns the root mean squared error between predictions and target values as a float'''\n",
    "    return math.sqrt(np.mean([(predictions[i] - targets[i]) ** 2 for i in range(len(targets))]))"
   ]
  },
  {
   "cell_type": "code",
   "execution_count": null,
   "metadata": {},
   "outputs": [],
   "source": [
    "model_results = [list_of_bin_heights[0], list_of_bin_heights[1], list_of_bin_heights[2]]\n",
    "\n",
    "for result in model_results:\n",
    "    print(RMSE(result, list_of_bin_heights[-1]))\n"
   ]
  },
  {
   "cell_type": "code",
   "execution_count": null,
   "metadata": {},
   "outputs": [],
   "source": [
    "def residuals(predictions:list[float], targets:list[float]) -> list[float]:\n",
    "    '''Returns the residuals between predictions and target values as a list of floats'''\n",
    "    return np.array(predictions) - np.array(targets)"
   ]
  },
  {
   "cell_type": "code",
   "execution_count": null,
   "metadata": {},
   "outputs": [],
   "source": [
    "# plot residuals as a scatter plot\n",
    "residuals_stoch_horizons = residuals(list_of_bin_heights[0], list_of_bin_heights[-1])\n",
    "residuals_stoch = residuals(list_of_bin_heights[1], list_of_bin_heights[-1])\n",
    "residuals_ABM = residuals(list_of_bin_heights[2], list_of_bin_heights[-1])\n",
    "\n",
    "plt.scatter(range(len(residuals_stoch_horizons)), residuals_stoch_horizons, label = 'Stochastic model with time horizons', alpha = 0.5, s=5)\n",
    "plt.scatter(range(len(residuals_stoch)), residuals_stoch, label = 'Stochastic model without time horizons', alpha = 0.7, s=5)\n",
    "plt.scatter(range(len(residuals_ABM)), residuals_ABM, label = 'Agent based model', alpha = 0.5, s=5)\n",
    "plt.legend()\n",
    "plt.show()"
   ]
  },
  {
   "cell_type": "code",
   "execution_count": null,
   "metadata": {},
   "outputs": [],
   "source": [
    "# code for kolmogorov-smirnov test for similarity of distributions: reference: https://docs.scipy.org/doc/scipy/reference/generated/scipy.stats.kstest.html\n",
    "# assumed samples are independent\n",
    "\n",
    "# making a matrix in which ks test results will be visualised\n",
    "\n",
    "array_for_ks_test_results = np.zeros(((len(return_datasets), len(return_datasets))))\n",
    "for i in range(len(return_datasets)):\n",
    "    for j in range(len(return_datasets)):\n",
    "        # returning the 1st element of ks test result as this is the p-value of the ks test\n",
    "        # print(stats.kstest(return_datasets[i], return_datasets[j])[1])\n",
    "            array_for_ks_test_results[i,j] = stats.kstest(return_datasets[i], return_datasets[j])[1]"
   ]
  },
  {
   "cell_type": "code",
   "execution_count": null,
   "metadata": {},
   "outputs": [],
   "source": [
    "df_of_kstest_results = pd.DataFrame(array_for_ks_test_results)\n",
    "df_of_kstest_results"
   ]
  },
  {
   "cell_type": "code",
   "execution_count": null,
   "metadata": {},
   "outputs": [],
   "source": [
    "color_matrix = np.where(array_for_ks_test_results < 0.05, 0,1)\n",
    "cmap = (mpl.colors.ListedColormap(['red', 'green']))\n",
    "plt.imshow(color_matrix, cmap=cmap, vmin=0, vmax=1)\n",
    "plt.xticks([0,1,2,3], ['Stochastic', 'Stochastic with time horizons', 'ABM', 'Real data'], rotation = 90)\n",
    "plt.yticks([0,1,2,3], ['Stochastic', 'Stochastic with time horizons', 'ABM', 'Real data'])\n",
    "plt.title(\"Visualisation of p-values of ks test for similarity of distributions\")\n",
    "plt.figtext(0.5, -0.5, \"Red: p < 0.05, Green: p > 0.05\", wrap=True, horizontalalignment='center', fontsize=12)\n",
    "plt.show()"
   ]
  },
  {
   "cell_type": "markdown",
   "metadata": {},
   "source": [
    "## 2. Simulated vs. emperical trading volume data"
   ]
  },
  {
   "cell_type": "markdown",
   "metadata": {},
   "source": [
    "#### Importing & Normalizing emperical volume data"
   ]
  },
  {
   "cell_type": "code",
   "execution_count": null,
   "metadata": {},
   "outputs": [],
   "source": [
    "df_volume_clean_wrds = pd.read_csv('data/df_volume_clean_wrds.csv', parse_dates = True, index_col=0)\n",
    "assert df_volume_clean_wrds.index.dtype == 'datetime64[ns]'"
   ]
  },
  {
   "cell_type": "code",
   "execution_count": null,
   "metadata": {},
   "outputs": [],
   "source": [
    "df_volume_clean_wrds"
   ]
  },
  {
   "cell_type": "code",
   "execution_count": null,
   "metadata": {},
   "outputs": [],
   "source": [
    "df_volume_clean_wrds.resample('Y').mean()"
   ]
  },
  {
   "cell_type": "code",
   "execution_count": null,
   "metadata": {},
   "outputs": [],
   "source": [
    "emperical_volume_data = df_volume_clean_wrds"
   ]
  },
  {
   "cell_type": "code",
   "execution_count": null,
   "metadata": {},
   "outputs": [],
   "source": [
    "def normalize_stocks_volume_per_year(df1):\n",
    "    '''Returns a dataframe with the normalized volume of stocks per year'''\n",
    "    yearly_mean_volume = df1.resample('Y').mean()\n",
    "    for i in yearly_mean_volume.index:\n",
    "        for j in yearly_mean_volume.columns:\n",
    "            year = i.year\n",
    "            mask = df1.index.year == year\n",
    "            df1.loc[mask,j] = df1.loc[mask,j]/yearly_mean_volume.loc[i,j]\n",
    "    return df1"
   ]
  },
  {
   "cell_type": "code",
   "execution_count": null,
   "metadata": {},
   "outputs": [],
   "source": [
    "normalize_stocks_volume_per_year(emperical_volume_data)"
   ]
  },
  {
   "cell_type": "code",
   "execution_count": null,
   "metadata": {},
   "outputs": [],
   "source": [
    "# to test this function, we can check if the mean of the normalized volume per year is 1\n",
    "emperical_volume_data.resample('Y').mean()\n",
    "# looks good"
   ]
  },
  {
   "cell_type": "markdown",
   "metadata": {},
   "source": [
    "the paper used parameters: V_f = 0.4, b = 1.0 and n0 = 2**10\n"
   ]
  },
  {
   "cell_type": "code",
   "execution_count": null,
   "metadata": {},
   "outputs": [],
   "source": [
    "# we will now index the previous results to find the 10 runs that adhere to this parameter settings, we will reiterare the relevant indexers for clarity.\n",
    "# slicing syntax for the results object is as follows: results_ABM_10_runs[index of desired V_f value in V_f list][0 for returns, 1 for volume][index of desired run in range(10)]\n",
    "\n",
    "# the 10 runs are for V_f_list carries the following values: [0.2, 0.4, 0.6, 0.8]\n",
    "# n0 = 2**10 is held constant for all V_f runs\n",
    "# b = 1.0 is also held constant across all V_f runs"
   ]
  },
  {
   "cell_type": "code",
   "execution_count": null,
   "metadata": {},
   "outputs": [],
   "source": [
    "# remember that the 10 runs are for V_f_list carries the following values: [0.2, 0.4, 0.6, 0.8]\n",
    "# so V_f = 0.4 corresponds to index 1 in V_f_list\n",
    "\n",
    "#  we will now aggegrate the results of the 10 runs for V_f = 0.4 into a single distribution so that have a reliable comparison of distribution shape to the emperical data. \n",
    "#  The density of the distribution will be normalised to 1 in the histogram function, in order to account for the fact that binheights will increase when we do this.\n",
    "\n",
    "volume_ABM_results_flattened_across_10_runs = results_ABM_10_runs_for_different_V_f[1][1].flatten()\n",
    "\n",
    "\n",
    "# also we flatten volume data for the emperical data across stocks and years\n",
    "emperical_volume_data_flattened_across_stocks = emperical_volume_data.values.flatten()\n",
    "V_f = 0.4\n",
    "bins = np.logspace(0,3, 1000)\n",
    "\n",
    "plt.hist(volume_ABM_results_flattened_across_10_runs, bins=bins, alpha=0.5, cumulative=-1, log = True, histtype='step',label= 'ABM simulated daily trading volume' ,density=1)\n",
    "plt.gca().set_xscale(\"log\")\n",
    "plt.title(f'Histogram of Daily trading volume  V_f: {str(V_f_list[1])} across 10 runs')\n",
    "plt.xlabel('Daily trading volume')\n",
    "plt.ylabel('CDF')\n",
    "plt.hist(emperical_volume_data_flattened_across_stocks, bins=bins, alpha=0.5, cumulative=-1, log = True, histtype='step',label= 'emperical data',density=1)\n",
    "plt.legend()\n",
    "plt.show()"
   ]
  },
  {
   "cell_type": "markdown",
   "metadata": {},
   "source": [
    "Based on the plot, alot of lower volume days appear to happen in the emperical data, vs. the simulated data which predicts consistent high volume days"
   ]
  },
  {
   "cell_type": "markdown",
   "metadata": {},
   "source": [
    "# KS test on data of volume distributions"
   ]
  },
  {
   "cell_type": "code",
   "execution_count": null,
   "metadata": {},
   "outputs": [],
   "source": [
    "volume_datasets = [volume_ABM_results_flattened_across_10_runs, emperical_volume_data_flattened_across_stocks]"
   ]
  },
  {
   "cell_type": "code",
   "execution_count": null,
   "metadata": {},
   "outputs": [],
   "source": [
    "# code for kolmogorov-smirnov test for similarity of distributions: reference: https://docs.scipy.org/doc/scipy/reference/generated/scipy.stats.kstest.html\n",
    "# assumed samples are independent\n",
    "\n",
    "# making a matrix in which ks test results will be visualised\n",
    "\n",
    "array_for_ks_test_results_volume = np.zeros(((len(volume_datasets), len(volume_datasets))))\n",
    "for i in range(len(volume_datasets)):\n",
    "    for j in range(len(volume_datasets)):\n",
    "        # returning the 1st element of ks test result as this is the p-value of the ks test\n",
    "            array_for_ks_test_results_volume[i,j] = stats.kstest(volume_datasets[i], volume_datasets[j])[1]"
   ]
  },
  {
   "cell_type": "code",
   "execution_count": null,
   "metadata": {},
   "outputs": [],
   "source": [
    "# p values for ks test for similarity of distributions\n",
    "df_of_kstest_results_volume = pd.DataFrame(array_for_ks_test_results_volume)\n",
    "df_of_kstest_results_volume"
   ]
  },
  {
   "cell_type": "code",
   "execution_count": null,
   "metadata": {},
   "outputs": [],
   "source": [
    "color_matrix = np.where(array_for_ks_test_results_volume < 0.05, 0,1)\n",
    "cmap = (mpl.colors.ListedColormap(['red', 'green']))\n",
    "plt.imshow(color_matrix, cmap=cmap, vmin=0, vmax=1)\n",
    "plt.xticks([0,1], ['ABM volume', 'Real volume data'], rotation = 90)\n",
    "plt.yticks([0,1], ['ABM volume', 'Real volume data'])\n",
    "plt.title(\"Visualisation of p-values of ks test for similarity of distributions\")\n",
    "plt.figtext(0.5, -0.5, \"Red: p < 0.05, Green: p > 0.05\", wrap=True, horizontalalignment='center', fontsize=12)\n",
    "plt.show()"
   ]
  },
  {
   "cell_type": "markdown",
   "metadata": {},
   "source": [
    "Conclusion:\n",
    "\n",
    "Given this sample and significance level of alpha 0.05, the null hypothesis that the two distributions are identical is rejected for real vs. ABM simulated volume data, and not rejected for real vs. real and ABM simulated vs. ABM simulated volume data"
   ]
  },
  {
   "cell_type": "markdown",
   "metadata": {},
   "source": [
    "### RMSE"
   ]
  },
  {
   "cell_type": "markdown",
   "metadata": {},
   "source": [
    "Next, we will look at RMSE, although we can see the distributions are different, this can be usefull for quantifying quality of fit using mutiple parameters settings."
   ]
  },
  {
   "cell_type": "markdown",
   "metadata": {},
   "source": [
    "Since the number of samples is different, we will use RMSE on the binheights of the CDFs to compare the two distributions. Althrough it is not a very stringent test, it atleast allows for a rough comparison of dsitribution shape fit.\n"
   ]
  },
  {
   "cell_type": "code",
   "execution_count": null,
   "metadata": {},
   "outputs": [],
   "source": [
    "def RMSE(predictions:list[float], targets:list[float]) -> float:\n",
    "    '''Returns the root mean squared error between predictions and target values as a float'''\n",
    "    return math.sqrt(np.mean([(predictions[i] - targets[i]) ** 2 for i in range(len(targets))]))"
   ]
  },
  {
   "cell_type": "code",
   "execution_count": null,
   "metadata": {},
   "outputs": [],
   "source": [
    "# Get bin heights for each dataset\n",
    "list_of_bin_heights_volume = []\n",
    "for dataset in volume_datasets:\n",
    "    binheights, bin_edges, _ = plt.hist(dataset, bins=bins, alpha=0.5, cumulative=-1, log = True, histtype='step',label= 'emperical data',density=1)\n",
    "    plt.close()\n",
    "    list_of_bin_heights_volume.append(binheights) "
   ]
  },
  {
   "cell_type": "code",
   "execution_count": null,
   "metadata": {},
   "outputs": [],
   "source": [
    "RMSE(volume_ABM_results_flattened_across_10_runs,emperical_volume_data_flattened_across_stocks)"
   ]
  },
  {
   "cell_type": "markdown",
   "metadata": {},
   "source": [
    "# Model verification: running with feng et al's parameters settings"
   ]
  },
  {
   "cell_type": "markdown",
   "metadata": {},
   "source": [
    "In Feng et al's paper, because different time period is chosen, the velocity calculation results in different probabilities of trading, namely: \n",
    "\"For V_f: 0.2, 0.4, 0.6, 0.8, and estimate the corresponding values of p as 0.0174, 0.0154, 0.0134, 0.0115\" (Feng et al. 2012) https://www.pnas.org/doi/10.1073/pnas.1205013109\n"
   ]
  },
  {
   "cell_type": "code",
   "execution_count": null,
   "metadata": {},
   "outputs": [],
   "source": [
    "p_list = [0.0174, 0.0154, 0.0134, 0.0115]"
   ]
  },
  {
   "cell_type": "code",
   "execution_count": null,
   "metadata": {},
   "outputs": [],
   "source": [
    "# other parameters\n",
    "n = 2**10\n",
    "t = 10**6\n",
    "omega = 1\n",
    "b = 1.0\n",
    "size = 1\n",
    "k = 1\n",
    "n0 = 2**10\n",
    "runs = 10\n",
    "\n"
   ]
  },
  {
   "cell_type": "code",
   "execution_count": null,
   "metadata": {},
   "outputs": [],
   "source": [
    "# ABM returns for different V_f's (so in effect different p) across 10 runs\n",
    "# 10 runs, for different values of V_f , using n0 = 2**10\n",
    "results_ABM_10_runs_for_different_authors_p = []\n",
    "for p in p_list:\n",
    "    run_results = run_ABM(p, n, size, k, omega, b, t, runs)\n",
    "    results_ABM_10_runs_for_different_authors_p.append(run_results)"
   ]
  },
  {
   "cell_type": "code",
   "execution_count": null,
   "metadata": {},
   "outputs": [],
   "source": [
    "# normalizing abs returns for each run (different n0)\n",
    "abs_normalized_returns_ABM_results_for_different_authors_p= []\n",
    "for p in range(len(p_list)):\n",
    "    abs_normalized_returns_ABM_results_for_same_authors_p = []\n",
    "    for run in range(10):\n",
    "        abs_normalized_returns_ABM_results_for_same_authors_p.append(np.abs((abs_normalized_returns_ABM_results_for_different_authors_p[n0][0][run] - np.mean(abs_normalized_returns_ABM_results_for_different_authors_p[n0][0][run]))/np.std(abs_normalized_returns_ABM_results_for_different_authors_p[n0][0][run])))\n",
    "    abs_normalized_returns_ABM_results_for_different_authors_p.append(abs_normalized_returns_ABM_results_for_same_authors_p)\n"
   ]
  },
  {
   "cell_type": "code",
   "execution_count": null,
   "metadata": {},
   "outputs": [],
   "source": [
    "# plot all runs abs returns for different values of V_f on seperate histograms\n",
    "bins = np.logspace(-4,3, 100)\n",
    "for n0 in range(len(n0_list)):\n",
    "    for run in range(10):\n",
    "        plt.hist(abs_normalized_returns_ABM_results_for_different_authors_p[p][run].flatten(), bins=100, alpha=0.5, cumulative=-1, log = True, histtype='step',label= 'run: ' + str(run), density = 1)\n",
    "        plt.gca().set_xscale(\"log\")\n",
    "        plt.title(f'Histogram of abs of normalized returns for n0: {str(p_list[p])} across 10 runs')\n",
    "        plt.xlabel('Returns')\n",
    "        plt.ylabel('CDF')\n",
    "        plt.legend()\n",
    "    plt.show()"
   ]
  },
  {
   "cell_type": "code",
   "execution_count": null,
   "metadata": {},
   "outputs": [],
   "source": [
    "dict_of_results_for_different_authors_p = {}\n",
    "for p in range(len(p_list)):\n",
    "    HE_list_p= []\n",
    "    for run in range(10):\n",
    "        HE_list_p.append(Hill_estimator(abs_normalized_returns_ABM_results_for_different_authors_p[n0][run].flatten(),1))\n",
    "    dict_of_results_for_different_authors_p[p_list[p]] = np.mean(HE_list_p), np.min(HE_list_p), np.max(HE_list_p)"
   ]
  },
  {
   "cell_type": "code",
   "execution_count": null,
   "metadata": {},
   "outputs": [],
   "source": [
    "dict_of_results_for_different_authors_p"
   ]
  },
  {
   "cell_type": "code",
   "execution_count": null,
   "metadata": {},
   "outputs": [],
   "source": [
    "# making a dataframe with the mean, min and max of the Hill estimator of abs return distribution for different values of V_f\n",
    "df_abs_normalized_returns_ABM_results_for_different_authors_p = pd.DataFrame(dict_of_results_for_different_authors_p)\n",
    "df_abs_normalized_returns_ABM_results_for_different_authors_p.index = [ 'mean', 'min', 'max']\n",
    "df_abs_normalized_returns_ABM_results_for_different_authors_p"
   ]
  },
  {
   "cell_type": "code",
   "execution_count": null,
   "metadata": {},
   "outputs": [],
   "source": [
    "# saving the dataframe as a csv file\n",
    "df_abs_normalized_returns_ABM_results_for_different_authors_p.to_csv('df_abs_normalized_returns_ABM_results_for_different_authors_p.csv')"
   ]
  },
  {
   "cell_type": "code",
   "execution_count": null,
   "metadata": {},
   "outputs": [],
   "source": [
    "# regress the Hill estimator of abs of normalized returns on n0\n",
    "X = np.array(p_list).reshape(-1,1)\n",
    "y = df_abs_normalized_returns_ABM_results_for_different_authors_p.loc['mean'].values\n",
    "reg = LinearRegression().fit(X, y)\n",
    "plt.scatter(X, y)\n",
    "plt.plot(X, reg.predict(X), color='red')\n",
    "plt.title('Hill estimator of normalized returns on (Fengs) p')\n",
    "plt.xlabel('p')\n",
    "plt.ylabel('Hill estimator of abs of returns normalized')\n",
    "plt.show()\n",
    "print(f'R^2: {str(reg.score(X, y))})')\n",
    "print(f'intercept: {str(reg.intercept_)}')\n",
    "print(f'coefficient: {str(reg.coef_)}')\n",
    "\n",
    "# getting p value from statsmodels library:\n",
    "\n",
    "model = sm.OLS(y, X).fit()\n",
    "\n",
    "# Get the p-value of the regression coefficients\n",
    "p_value = model.pvalues[0]\n",
    "\n",
    "print('Null hypothesis: the coefficient is zero')\n",
    "print('Alternative hypothesis: the coefficient is not zero')\n",
    "print('If p value is less than 0.05, we reject the null hypothesis')\n",
    "print(f'p value: {str(p_value)}')\n",
    "if p_value < 0.05:\n",
    "    print('Thus, we reject the null hypothesis in favor of the alternative hypothesis')\n",
    "    print('However, the sample size is very small (only 4) so the results are not very reliable')\n",
    "else:\n",
    "    print('Thus, we fail to reject the null hypothesis')"
   ]
  },
  {
   "cell_type": "markdown",
   "metadata": {},
   "source": [
    "# Long term memory: ACF plots of absolute and squared returns of emperical data vs. simulation"
   ]
  },
  {
   "cell_type": "code",
   "execution_count": null,
   "metadata": {},
   "outputs": [],
   "source": [
    "# ACF\n",
    "from statsmodels.graphics.tsaplots import plot_acf\n",
    "from statsmodels.tsa.stattools import acf\n",
    "import pandas as pd\n",
    "import numpy as np\n",
    "import matplotlib.pyplot as plt\n",
    "from sklearn.linear_model import LinearRegression"
   ]
  },
  {
   "cell_type": "code",
   "execution_count": null,
   "metadata": {},
   "outputs": [],
   "source": [
    "df_closing_SnP500_39_years_clean = pd.read_csv('data/df_closing_SnP500_39_years_clean.csv', parse_dates = True, index_col = 'Date')"
   ]
  },
  {
   "cell_type": "code",
   "execution_count": null,
   "metadata": {},
   "outputs": [],
   "source": [
    "df_closing_SnP500_39_years_clean"
   ]
  },
  {
   "cell_type": "code",
   "execution_count": null,
   "metadata": {},
   "outputs": [],
   "source": [
    "df_closing_DOW_39_years_clean = pd.read_csv('data/df_closing_DOW_39_years_clean.csv', parse_dates = True, index_col = 'Date')\n"
   ]
  },
  {
   "cell_type": "code",
   "execution_count": null,
   "metadata": {},
   "outputs": [],
   "source": [
    "df_closing_DOW_39_years_clean"
   ]
  },
  {
   "cell_type": "code",
   "execution_count": null,
   "metadata": {},
   "outputs": [],
   "source": [
    "df_closing_DOW_39_years_clean"
   ]
  },
  {
   "cell_type": "code",
   "execution_count": null,
   "metadata": {},
   "outputs": [],
   "source": [
    "df_closing_DOW_39_years_clean.columns"
   ]
  },
  {
   "cell_type": "code",
   "execution_count": null,
   "metadata": {},
   "outputs": [],
   "source": [
    "returns = df_closing_DOW_39_years_clean.pct_change().dropna()\n",
    "abs_returns = returns.abs()\n",
    "squared_returns = returns"
   ]
  },
  {
   "cell_type": "code",
   "execution_count": null,
   "metadata": {},
   "outputs": [],
   "source": [
    "abs_returns"
   ]
  },
  {
   "cell_type": "code",
   "execution_count": null,
   "metadata": {},
   "outputs": [],
   "source": [
    "# Plot the ACF v0.1\n",
    "lags = 50\n",
    "acf_abs_returns_per_stock = []\n",
    "acf_squared_returns_per_stock = []\n",
    "acf_abs_returns_per_stock_log = []\n",
    "acf_squared_returns_per_stock_log = []\n",
    "for stock in returns.columns:\n",
    "    abs_returns = returns[stock].abs()\n",
    "    squared_returns = np.square(returns[stock])\n",
    "    plot_acf(abs_returns, lags = lags, label = stock)\n",
    "    plot_acf(squared_returns, lags = lags, label = stock)\n",
    "    acf_abs_returns = acf(abs_returns, nlags = lags)\n",
    "    acf_squared_returns = acf(squared_returns, nlags = lags)\n",
    "    acf_abs_returns_log = np.log(acf_abs_returns)\n",
    "    acf_squared_returns_log = np.log(acf_squared_returns)\n",
    "    # plt.scatter(acf_abs_returns_log, acf_squared_returns_log, label = stock)\n",
    "    acf_abs_returns_per_stock.append(acf_abs_returns)\n",
    "    acf_squared_returns_per_stock.append(acf_squared_returns)\n",
    "    acf_abs_returns_per_stock_log.append(acf_abs_returns_log)\n",
    "    acf_squared_returns_per_stock_log.append(acf_squared_returns_log)\n",
    "plt.legend()\n",
    "plt.ylabel('ACF of squared returns')\n",
    "plt.xlabel('ACF of absolute returns')\n",
    "plt.show()"
   ]
  },
  {
   "cell_type": "code",
   "execution_count": null,
   "metadata": {},
   "outputs": [],
   "source": [
    "acf_abs_returns_per_stock \n",
    "acf_squared_returns_per_stock \n",
    "acf_abs_returns_per_stock_log \n",
    "acf_squared_returns_per_stock_log"
   ]
  },
  {
   "cell_type": "code",
   "execution_count": null,
   "metadata": {},
   "outputs": [],
   "source": [
    "y = acf_abs_returns_per_stock_log"
   ]
  },
  {
   "cell_type": "code",
   "execution_count": null,
   "metadata": {},
   "outputs": [],
   "source": [
    "len(y)"
   ]
  },
  {
   "cell_type": "code",
   "execution_count": null,
   "metadata": {},
   "outputs": [],
   "source": [
    "len(y)-1"
   ]
  },
  {
   "cell_type": "code",
   "execution_count": null,
   "metadata": {},
   "outputs": [],
   "source": [
    "# y = y[~np.isnan(y)]\n",
    "y = y[y != 0]\n",
    "\n",
    "\n",
    "\n",
    "plt.scatter(np.log(range(1,len(y)+1)), y)\n",
    "exponent = np.polyfit(np.log(range(1,len(y)+1)), y, 1)"
   ]
  },
  {
   "cell_type": "code",
   "execution_count": null,
   "metadata": {},
   "outputs": [],
   "source": [
    "exponent"
   ]
  },
  {
   "cell_type": "code",
   "execution_count": null,
   "metadata": {},
   "outputs": [],
   "source": [
    "plt.figure(figsize=(15,15))\n",
    "for index in range(len(acf_abs_returns_per_stock_log)):\n",
    "    # exponent_acf_abs_returns = np.polyfit(range(len(acf_abs_returns_per_stock_log[index]), acf_abs_returns_per_stock_log[index],1))\n",
    "    # exponent_acf_squared_returns = np.polyfit(range(len(acf_squared_returns_per_stock_log[index]), acf_squared_returns_per_stock_log[index],1))\n",
    "\n",
    "    exponent_acf_abs_returns = np.polyfit(np.log(range(len(acf_abs_returns_per_stock_log[index]))), acf_abs_returns_per_stock_log[index],1)\n",
    "    exponent_acf_squared_returns = np.polyfit(np.log(range(len(acf_squared_returns_per_stock_log[index]))), acf_squared_returns_per_stock_log[index],1)\n",
    "    plt.scatter(exponent_acf_abs_returns,exponent_acf_squared_returns, label = returns.columns[index])\n",
    "    # scaling relationhip 1: gamma1 = gamma2\n",
    "    gamma1 = np.linspace(-2, 0, 100)\n",
    "    gamma2 = gamma1\n",
    "    # scaling relationhip 2: gamma1 = 2*gamma2\n",
    "    gamma1 = np.linspace(-2, 0, 100)\n",
    "    gamma2 = gamma1*2\n",
    "plt.plot(gamma1, gamma2, label = 'Scaling relationship 1: gamma1 = gamma2')\n",
    "plt.plot(gamma1, 2*gamma2, label = 'Scaling relationship 1: gamma1 = 2*gamma2')\n",
    "plt.legend()\n",
    "plt.xlabel('Decay exponent gamma1: ACF of absolute returns')\n",
    "plt.ylabel('Decay exponent gamma2: ACF of absolute returns')\n",
    "plt.title('Power law decay Exponent of ACF of absolute returns vs. ACF of squared returns')\n",
    "plt.show()"
   ]
  },
  {
   "cell_type": "markdown",
   "metadata": {},
   "source": [
    "Feng et al's (2012) found scaling relationships (derived in appendix 3 of the paper) between power law decay exponents largely hold on a current dataset with CAT, V and AAPL being the outliers."
   ]
  },
  {
   "cell_type": "code",
   "execution_count": null,
   "metadata": {},
   "outputs": [],
   "source": []
  },
  {
   "cell_type": "markdown",
   "metadata": {},
   "source": [
    "# Comparing S&P 500 total index closing ACF "
   ]
  },
  {
   "cell_type": "markdown",
   "metadata": {},
   "source": [
    "Since the complete 40 year data of S&P index closing prices was not avaiable, we take the last 10 years. The goal is to find out if the long term memory (ACF decay) is similair in both the emperical and simulated model data."
   ]
  },
  {
   "cell_type": "code",
   "execution_count": null,
   "metadata": {},
   "outputs": [],
   "source": [
    "total_SnP500_index_closing =pd.read_csv('data/df_total_SnP500_closing_10_years_clean.csv', parse_dates = True, index_col = 'Date')"
   ]
  },
  {
   "cell_type": "code",
   "execution_count": null,
   "metadata": {},
   "outputs": [],
   "source": [
    "total_SnP500_index_closing"
   ]
  },
  {
   "cell_type": "code",
   "execution_count": null,
   "metadata": {},
   "outputs": [],
   "source": [
    "# make a log return series\n",
    "returns = total_SnP500_index_closing.pct_change().dropna()"
   ]
  },
  {
   "cell_type": "code",
   "execution_count": null,
   "metadata": {},
   "outputs": [],
   "source": [
    "# absolute returns\n",
    "abs_returns = returns.abs()\n"
   ]
  },
  {
   "cell_type": "code",
   "execution_count": null,
   "metadata": {},
   "outputs": [],
   "source": [
    "abs_returns"
   ]
  },
  {
   "cell_type": "code",
   "execution_count": null,
   "metadata": {},
   "outputs": [],
   "source": [
    "# squared returns\n",
    "squared_returns =returns.apply(np.square)\n"
   ]
  },
  {
   "cell_type": "code",
   "execution_count": null,
   "metadata": {},
   "outputs": [],
   "source": [
    "squared_returns"
   ]
  },
  {
   "cell_type": "code",
   "execution_count": null,
   "metadata": {},
   "outputs": [],
   "source": [
    "plot_acf(abs_returns, lags = 500)"
   ]
  },
  {
   "cell_type": "code",
   "execution_count": null,
   "metadata": {},
   "outputs": [],
   "source": [
    "plot_acf(squared_returns, lags = 500)"
   ]
  },
  {
   "cell_type": "code",
   "execution_count": null,
   "metadata": {},
   "outputs": [],
   "source": [
    "# other parameters\n",
    "n = 2**10\n",
    "t = 10**6\n",
    "k = 1\n",
    "M = 500\n",
    "d = 1.12\n",
    "runs = 1\n",
    "init = 1\n",
    "\n",
    "V_f_list = [0.2, 0.4, 0.6, 0.8]\n",
    "\n",
    "print(\"The V value is\", V)\n",
    "for V_f in V_f_list:\n",
    "    p = probability_of_trading(V_f, V)\n",
    "    print('V_f: ' + str(V_f), 'gives a p value of', p)\n"
   ]
  },
  {
   "cell_type": "code",
   "execution_count": null,
   "metadata": {},
   "outputs": [],
   "source": [
    "# stochastic model with time horizon\n",
    "stochastic_model_with_time_horizon_results = []\n",
    "counter = 0\n",
    "for V_f in V_f_list:\n",
    "    print('start:', counter)\n",
    "    p = probability_of_trading(V_f, V)\n",
    "    result = run_Stochastic_Model(n = n, p = p, init = 1, time_horizon= True, M=M, d=d, t=t, runs=runs)\n",
    "    stochastic_model_with_time_horizon_results.append(result)\n",
    "    print('done:', counter)\n",
    "    \n",
    "temp = []\n",
    "for i in range(len(stochastic_model_with_time_horizon_results)):\n",
    "    temp.append(stochastic_model_with_time_horizon_results[i][0])\n",
    "np_stoch_returns = np.array(temp)\n",
    "\n",
    "stoch_returns_abs = np.abs(np_stoch_returns)\n",
    "stoch_returns_sq = np_stoch_returns**2"
   ]
  },
  {
   "cell_type": "code",
   "execution_count": null,
   "metadata": {},
   "outputs": [],
   "source": [
    "# Plot the ACF v0.1\n",
    "lags = 50\n",
    "acf_abs_returns_stoch = []\n",
    "acf_sq_returns_stoch = []\n",
    "acf_abs_returns_stoch_log = []\n",
    "acf_squared_returns_stoch_log = []\n",
    "\n",
    "plot_acf(stoch_returns_abs[0], lags = lags, label = 'stoch_returns_abs_run'+ str(run_count))\n",
    "plot_acf(stoch_returns_sq[0], lags = lags, label = 'stoch_returns_sq_run'+ str(run_count))\n",
    "acf_abs_returns = acf(stoch_returns_abs[0], nlags = lags)\n",
    "acf_abs_returns_log = np.log(stoch_returns_abs[0])\n",
    "acf_abs_sq = acf(stoch_returns_sq[0], nlags = lags)\n",
    "acf_abs_sq_log = np.log(stoch_returns_sq[0])\n",
    "# # plt.scatter(acf_abs_returns_log, acf_squared_returns_log, label = stock)\n",
    "# acf_abs_returns_stoch_log.append(acf_abs_returns_log)\n",
    "plt.legend()\n",
    "plt.ylabel('ACF of squared returns')\n",
    "plt.xlabel('ACF of absolute returns')\n",
    "plt.show()"
   ]
  },
  {
   "cell_type": "code",
   "execution_count": null,
   "metadata": {},
   "outputs": [],
   "source": [
    "# Creating Linear regression on log abs returns to get the power law exponent of the acf abs returns\n",
    "x = (np.log(np.array(range((len(acf_abs_returns))))))[1:-1].reshape(-1,1)\n",
    "y = np.log(acf_abs_returns)[1:-1]\n",
    "x = np.delete(x, nan_indices)\n",
    "y = np.delete(y, nan_indices)\n",
    "\n",
    "\n",
    "model = LinearRegression()\n",
    "model.fit(x.reshape(-1, 1), y)"
   ]
  },
  {
   "cell_type": "code",
   "execution_count": null,
   "metadata": {},
   "outputs": [],
   "source": [
    "# plotting the fit against the data\n",
    "x = np.log(np.array(range((len(acf_abs_returns)))))\n",
    "y = x * model.coef_ + model.intercept_\n",
    "plt.plot(x, y, color = 'red')\n",
    "plt.scatter(x, np.log(acf_abs_returns))\n",
    "plt.show()"
   ]
  },
  {
   "cell_type": "markdown",
   "metadata": {},
   "source": [
    "# Code below this is unfinished / not used yet"
   ]
  },
  {
   "cell_type": "markdown",
   "metadata": {},
   "source": [
    "# Parameter tuning & further (sensitivity) analysis"
   ]
  },
  {
   "cell_type": "code",
   "execution_count": null,
   "metadata": {},
   "outputs": [],
   "source": [
    "def r_squared(data, alpha, beta, x_range):\n",
    "    \"\"\"\n",
    "    Goodness of fit test for regression\n",
    "    \"\"\"\n",
    "    ss_res = []\n",
    "    ss_total = []\n",
    "    mean = np.mean(data)\n",
    "\n",
    "    for i in range(x_range):\n",
    "        prediction = alpha + beta * x_range[i]\n",
    "        value = data[i]\n",
    "\n",
    "        residual = (value - prediction) ** 2\n",
    "        total = (value - mean) ** 2\n",
    "\n",
    "        ss_res.append(residual)\n",
    "        ss_total.append(total)\n",
    "\n",
    "    return 1 - (ss_res / ss_total)\n"
   ]
  },
  {
   "cell_type": "code",
   "execution_count": null,
   "metadata": {},
   "outputs": [],
   "source": [
    "iterations = 10"
   ]
  },
  {
   "cell_type": "code",
   "execution_count": null,
   "metadata": {},
   "outputs": [],
   "source": [
    "# variances for return and volume for different k values\n",
    "k_range = [i*0.5 for i in range(1, 51, 5)]\n",
    "\n",
    "dict_return_variances_k = {'Range': k_range}\n",
    "dict_volume_variances_k = {'Range': k_range}\n",
    "\n",
    "for run in range(iterations):\n",
    "    return_variances = []\n",
    "    volume_variances = []\n",
    "\n",
    "\n",
    "    for i in k_range:\n",
    "        k = i\n",
    "        k_test = Model(p, n, size, k, omega)\n",
    "        for step in range(t):\n",
    "            k_test.step()\n",
    "\n",
    "        return_variance = np.var(k_test.daily_returns)\n",
    "        volume_variance = np.var(k_test.daily_trading_volumes)\n",
    "        volume_variances.append(volume_variance)\n",
    "        return_variances.append(return_variance)\n",
    "\n",
    "    dict_return_variances_k[f\"Iteration {run}\"] = return_variances\n",
    "    dict_volume_variances_k[f\"Iteration {run}\"] = volume_variances\n",
    "\n",
    "    print(run)"
   ]
  },
  {
   "cell_type": "code",
   "execution_count": null,
   "metadata": {},
   "outputs": [],
   "source": [
    "df_return_variances_k = pd.DataFrame(dict_return_variances_k)\n",
    "df_volume_variances_k = pd.DataFrame(dict_volume_variances_k)\n",
    "\n",
    "df_return_variances_k.to_csv('data/return_variances_k.csv')\n",
    "df_volume_variances_k.to_csv('data/volume_variances_k.csv')"
   ]
  },
  {
   "cell_type": "code",
   "execution_count": null,
   "metadata": {},
   "outputs": [],
   "source": [
    "df_return_variances_k_transp = df_return_variances_k.transpose()\n",
    "df_return_variances_k_transp.columns = k_range\n",
    "df_return_variances_k_transp.drop(\"Range\")"
   ]
  },
  {
   "cell_type": "code",
   "execution_count": null,
   "metadata": {},
   "outputs": [],
   "source": [
    "df_volume_variances_k_transp = df_volume_variances_k.transpose()\n",
    "df_volume_variances_k_transp.columns = k_range\n",
    "df_volume_variances_k_transp.drop(\"Range\")"
   ]
  },
  {
   "cell_type": "code",
   "execution_count": null,
   "metadata": {},
   "outputs": [],
   "source": [
    "k_return_variances_mean = np.array(df_return_variances_k_transp.mean())\n",
    "k_volume_variances_mean = np.array(df_volume_variances_k_transp.mean())\n",
    "k_return_variances_sd = np.array(df_return_variances_k_transp.std())\n",
    "k_volume_variances_sd = np.array(df_volume_variances_k_transp.std())"
   ]
  },
  {
   "cell_type": "code",
   "execution_count": null,
   "metadata": {},
   "outputs": [],
   "source": [
    "# plot variances for return distributions for different k values\n",
    "plt.scatter(k_range, k_return_variances_mean)\n",
    "plt.errorbar(k_range, k_return_variances_mean, yerr=k_return_variances_sd, fmt='o')\n",
    "plt.show()"
   ]
  },
  {
   "cell_type": "code",
   "execution_count": null,
   "metadata": {},
   "outputs": [],
   "source": [
    "# plot variances for volume distributions for different k values\n",
    "plt.scatter(k_range, k_volume_variances_mean)\n",
    "plt.errorbar(k_range, k_volume_variances_mean, yerr=k_volume_variances_sd, fmt='o')\n",
    "plt.show()"
   ]
  },
  {
   "cell_type": "code",
   "execution_count": null,
   "metadata": {},
   "outputs": [],
   "source": [
    "# linear regression for return variances\n",
    "k_array = np.array(k_range).reshape((-1, 1))\n",
    "k_return_regression = LinearRegression().fit(k_array, k_return_variances_mean)\n",
    "k_return_r2 = r_squared(k_return_variances_mean, k_return_regression.intercept_, k_return_regression.coef_, k_range)"
   ]
  },
  {
   "cell_type": "code",
   "execution_count": null,
   "metadata": {},
   "outputs": [],
   "source": [
    "# plot linear regression for return variances\n",
    "plt.scatter(k_range, k_return_variances_mean)\n",
    "plt.plot(k_range, k_return_regression.intercept_ + k_return_regression.coef_ * k_array, 'r')\n",
    "plt.show()"
   ]
  },
  {
   "cell_type": "code",
   "execution_count": null,
   "metadata": {},
   "outputs": [],
   "source": [
    "# linear regression for volume variances\n",
    "k_volume_regression = LinearRegression().fit(k_array, k_volume_variances_mean)\n",
    "k_volume_r2 = r_squared(k_volume_variances_mean, k_volume_regression.intercept_, k_volume_regression.coef_, k_range)"
   ]
  },
  {
   "cell_type": "code",
   "execution_count": null,
   "metadata": {},
   "outputs": [],
   "source": [
    "# plot linear regression for volume variances\n",
    "plt.scatter(k_range, k_volume_variances_mean)\n",
    "plt.plot(k_range, k_volume_regression.intercept_ + k_volume_regression.coef_ * k_array, 'r')\n",
    "plt.show()"
   ]
  },
  {
   "cell_type": "code",
   "execution_count": null,
   "metadata": {},
   "outputs": [],
   "source": [
    "# R^2 for k regressions\n",
    "print(\"R^2 for return variances: \", k_return_r2)\n",
    "print(\"R^2 for volume variances: \", k_volume_r2)"
   ]
  },
  {
   "cell_type": "code",
   "execution_count": null,
   "metadata": {},
   "outputs": [],
   "source": [
    "# omega values for return and volume for different k values\n",
    "omega_range = [i*0.1 for i in range(1, 51)]\n",
    "omega_return_dict = {'Range': omega_range}\n",
    "omega_volume_dict = {'Range': omega_range}\n",
    "\n",
    "for run in range(iterations):\n",
    "    return_variances = []\n",
    "    volume_variances = []\n",
    "\n",
    "    for i in omega_range:\n",
    "        omega = i\n",
    "        omega_test = Model(p, n, size, k, i)\n",
    "        for step in range(t):\n",
    "            omega_test.step()\n",
    "\n",
    "        return_variance = np.var(omega_test.daily_returns)\n",
    "        volume_variance = np.var(omega_test.daily_trading_volumes)\n",
    "        volume_variances.append(volume_variance)\n",
    "        return_variances.append(return_variance)\n",
    "\n",
    "    omega_return_dict[f\"Iteration {run}\"] = return_variances\n",
    "    omega_volume_dict[f\"Iteration {run}\"] = volume_variances"
   ]
  },
  {
   "cell_type": "code",
   "execution_count": null,
   "metadata": {},
   "outputs": [],
   "source": [
    "df_omega_return_variances = pd.DataFrame(omega_return_dict)\n",
    "df_omega_volume_variances = pd.DataFrame(omega_volume_dict)\n",
    "df_omega_return_variances.to_csv('data/return_variances_omega.csv')\n",
    "df_omega_volume_variances.to_csv('data/volume_variances_omega.csv')"
   ]
  },
  {
   "cell_type": "code",
   "execution_count": null,
   "metadata": {},
   "outputs": [],
   "source": [
    "df_omega_return_variances_transp = df_omega_return_variances.transpose()\n",
    "df_omega_return_variances_transp.columns = omega_range\n",
    "df_omega_return_variances_transp.drop(\"Range\")"
   ]
  },
  {
   "cell_type": "code",
   "execution_count": null,
   "metadata": {},
   "outputs": [],
   "source": [
    "df_omega_volume_variances_transp = df_omega_volume_variances.transpose()\n",
    "df_omega_volume_variances_transp.columns = omega_range\n",
    "df_omega_volume_variances_transp.drop(\"Range\")"
   ]
  },
  {
   "cell_type": "code",
   "execution_count": null,
   "metadata": {},
   "outputs": [],
   "source": [
    "omega_return_means = np.array(df_omega_return_variances_transp.mean())\n",
    "omega_volume_means = np.array(df_omega_volume_variances_transp.mean())\n",
    "\n",
    "omega_return_sd = np.array(df_omega_return_variances_transp.std())\n",
    "omega_volume_sd = np.array(df_omega_volume_variances_transp.std())"
   ]
  },
  {
   "cell_type": "code",
   "execution_count": null,
   "metadata": {},
   "outputs": [],
   "source": [
    "# Regression of return variances for different omega values\n",
    "omega_array = np.array(omega_range).reshape((-1, 1))\n",
    "omega_return_regression = LinearRegression().fit(omega_array, omega_return_means)\n",
    "omega_return_r2 = r_squared(omega_return_means, omega_return_regression.intercept_, omega_return_regression.coef_, omega_range)"
   ]
  },
  {
   "cell_type": "code",
   "execution_count": null,
   "metadata": {},
   "outputs": [],
   "source": [
    "# Plot regression of return variances for different omega values\n",
    "plt.scatter(omega_range, omega_return_means)\n",
    "plt.plot(omega_range, omega_return_regression.intercept_ + omega_return_regression.coef_ * omega_array, 'r')\n",
    "plt.show()"
   ]
  },
  {
   "cell_type": "code",
   "execution_count": null,
   "metadata": {},
   "outputs": [],
   "source": [
    "# Regression of volume variances for different omega values\n",
    "omega_volume_regression = LinearRegression().fit(omega_array, omega_volume_means)\n",
    "omega_volume_r2 = r_squared(omega_volume_means, omega_volume_regression.intercept_, omega_volume_regression.coef_, omega_range)"
   ]
  },
  {
   "cell_type": "code",
   "execution_count": null,
   "metadata": {},
   "outputs": [],
   "source": [
    "# Plot regression of volume variances for different omega values\n",
    "plt.scatter(omega_range, omega_volume_means)\n",
    "plt.plot(omega_range, omega_volume_regression.intercept_ + omega_volume_regression.coef_ * omega_array, 'r')\n",
    "plt.show()"
   ]
  },
  {
   "cell_type": "code",
   "execution_count": null,
   "metadata": {},
   "outputs": [],
   "source": [
    "# R^2 of omega regressions\n",
    "print(f\"R^2 of return variance regression for omega: {omega_return_r2}\")\n",
    "print(f\"R^2 of volume variance regression for omega: {omega_volume_r2}\")"
   ]
  },
  {
   "cell_type": "code",
   "execution_count": null,
   "metadata": {},
   "outputs": [],
   "source": [
    "# p_test - return and volume variances\n",
    "p_range = [i*0.1 for i in range(1, 6)]\n",
    "\n",
    "dict_return_variances_p = {'Range': p_range}\n",
    "dict_volume_variances_p = {'Range': p_range}\n",
    "\n",
    "for run in range(iterations):\n",
    "    returns = []\n",
    "    volumes = []\n",
    "\n",
    "    for i in p_range:\n",
    "        p = i\n",
    "        p_test = Model(p, n, size, k, omega)\n",
    "        \n",
    "        for step in range(100):\n",
    "            p_test.step()\n",
    "\n",
    "        return_variance = np.var(p_test.daily_returns)\n",
    "        volume_variance = np.var(p_test.daily_trading_volumes)\n",
    "        returns.append(return_variance)\n",
    "        volumes.append(volume_variance)\n",
    "\n",
    "    dict_return_variances_p[f\"Iteration {run}\"] = returns\n",
    "    dict_volume_variances_p[f\"Iteration {run}\"] = volumes\n",
    "\n",
    "print(run)\n"
   ]
  },
  {
   "cell_type": "code",
   "execution_count": null,
   "metadata": {},
   "outputs": [],
   "source": [
    "df_return_variances_p = pd.DataFrame(dict_return_variances_p)\n",
    "df_volume_variances_p = pd.DataFrame(dict_volume_variances_p)\n",
    "\n",
    "df_return_variances_p.to_csv('data/return_variances_p.csv')\n",
    "df_volume_variances_p.to_csv('data/volume_variances_p.csv')"
   ]
  },
  {
   "cell_type": "code",
   "execution_count": null,
   "metadata": {},
   "outputs": [],
   "source": [
    "df_return_variances_p_transp = df_return_variances_p.transpose()\n",
    "df_return_variances_p_transp.columns = p_range\n",
    "df_return_variances_p_transp.drop('Range')"
   ]
  },
  {
   "cell_type": "code",
   "execution_count": null,
   "metadata": {},
   "outputs": [],
   "source": [
    "df_volume_variances_p_transp = df_volume_variances_p.transpose()\n",
    "df_volume_variances_p_transp.columns = p_range\n",
    "df_volume_variances_p_transp.drop('Range')"
   ]
  },
  {
   "cell_type": "code",
   "execution_count": null,
   "metadata": {},
   "outputs": [],
   "source": [
    "p_return_means = np.array(df_return_variances_p_transp.mean())\n",
    "p_return_sd = np.array(df_return_variances_p_transp.std())\n",
    "\n",
    "p_volume_means = np.array(df_volume_variances_p_transp.mean())\n",
    "p_volume_sd = np.array(df_volume_variances_p_transp.std())\n"
   ]
  },
  {
   "cell_type": "code",
   "execution_count": null,
   "metadata": {},
   "outputs": [],
   "source": [
    "# Returns for different values of p\n",
    "plt.scatter(p_range, p_return_means)\n",
    "plt.errorbar(p_range, p_return_means, yerr=p_return_sd)\n",
    "plt.show()"
   ]
  },
  {
   "cell_type": "code",
   "execution_count": null,
   "metadata": {},
   "outputs": [],
   "source": [
    "# Volumes for different values of p\n",
    "plt.scatter(p_range, p_volume_means)\n",
    "plt.errorbar(p_range, p_volume_means, yerr=p_volume_sd)\n",
    "plt.show()"
   ]
  },
  {
   "cell_type": "code",
   "execution_count": null,
   "metadata": {},
   "outputs": [],
   "source": [
    "p_array = np.array(p_range).reshape((-1, 1))\n",
    "\n",
    "p_return_variances_r = LinearRegression().fit(p_array, p_return_means)\n",
    "p_volume_variances_r = LinearRegression().fit(p_array, p_volume_means)\n",
    "\n",
    "p_test_return_variances = r_squared(p_return_means, p_return_variances_r.intercept_, p_return_variances_r.coef_, p_range)\n",
    "p_test_volume_variances = r_squared(p_volume_means, p_volume_variances_r.intercept_, p_volume_variances_r.coef_, p_range)"
   ]
  },
  {
   "cell_type": "code",
   "execution_count": null,
   "metadata": {},
   "outputs": [],
   "source": [
    "# return regression\n",
    "plt.plot(p_range, p_return_variances_r.intercept_ + p_return_variances_r.coef_ * p_array)\n",
    "plt.scatter(p_range, p_return_means)\n",
    "plt.show()"
   ]
  },
  {
   "cell_type": "code",
   "execution_count": null,
   "metadata": {},
   "outputs": [],
   "source": [
    "# volume regression\n",
    "plt.plot(p_range, p_volume_variances_r.intercept_ + p_volume_variances_r.coef_ * p_array)\n",
    "plt.scatter(p_range, p_volume_means)\n",
    "plt.show()"
   ]
  },
  {
   "cell_type": "code",
   "execution_count": null,
   "metadata": {},
   "outputs": [],
   "source": [
    "print(\"R^2 for the return variance regression:\", p_test_return_variances)\n",
    "print(\"R^2 for the volume variance regression:\", p_test_volume_variances)"
   ]
  },
  {
   "cell_type": "code",
   "execution_count": null,
   "metadata": {},
   "outputs": [],
   "source": [
    "# m_test - return and volume variances\n",
    "m_range = [i for i in range(1, 500)]\n",
    "m_dict = {'Range': m_range}\n",
    "\n",
    "for run in range(iterations):\n",
    "    returns = []\n",
    "    volumes = []\n",
    "\n",
    "    for i in m_range:\n",
    "        m = i\n",
    "        m_test = Stochastic_Model(n, p, init, True, i, d)\n",
    "        \n",
    "        for step in range(100):\n",
    "            m_test.step()\n",
    "\n",
    "        return_variance = np.var(m_test.returns)\n",
    "        returns.append(return_variance)\n",
    "\n",
    "    m_dict[f\"Iteration {run}\"] = returns\n"
   ]
  },
  {
   "cell_type": "code",
   "execution_count": null,
   "metadata": {},
   "outputs": [],
   "source": [
    "df_return_variances_m = pd.DataFrame(m_dict)\n",
    "df_return_variances_m.to_csv('data/return_variances_m.csv')\n"
   ]
  },
  {
   "cell_type": "code",
   "execution_count": null,
   "metadata": {},
   "outputs": [],
   "source": [
    "df_return_variances_m_transp = df_return_variances_m.transpose()\n",
    "df_return_variances_m_transp.columns = m_range\n",
    "df_return_variances_m_transp.drop('Range')"
   ]
  },
  {
   "cell_type": "code",
   "execution_count": null,
   "metadata": {},
   "outputs": [],
   "source": [
    "m_return_means = np.array(df_return_variances_m_transp.mean())\n",
    "m_return_sd = np.array(df_return_variances_m_transp.std())"
   ]
  },
  {
   "cell_type": "code",
   "execution_count": null,
   "metadata": {},
   "outputs": [],
   "source": [
    "# Linear regression for return variances\n",
    "m_array = np.array(m_range).reshape((-1, 1))\n",
    "\n",
    "m_return_variances_r = LinearRegression().fit(m_array, m_return_means)\n",
    "m_return_variances_test = r_squared(m_return_means, m_return_variances_r.intercept_, m_return_variances_r.coef_, m_range)\n"
   ]
  },
  {
   "cell_type": "code",
   "execution_count": null,
   "metadata": {},
   "outputs": [],
   "source": [
    "plt.plot(m_range, m_return_variances_r.intercept_ + m_return_variances_r.coef_ * m_array)\n",
    "plt.scatter(m_range, m_return_means)\n",
    "plt.show()"
   ]
  },
  {
   "cell_type": "code",
   "execution_count": null,
   "metadata": {},
   "outputs": [],
   "source": [
    "print(\"R^2 for the return variance regression:\", m_return_variances_test)"
   ]
  },
  {
   "cell_type": "code",
   "execution_count": null,
   "metadata": {},
   "outputs": [],
   "source": [
    "# d_test - return and volume variances\n",
    "d_range = [i*0.1 for i in range(1, 21)]\n",
    "d_dict = {'Range': d_range}\n",
    "\n",
    "for run in range(iterations):\n",
    "    return_variances = []\n",
    "\n",
    "    for i in d_range:\n",
    "        d = i\n",
    "        d_test = Stochastic_Model(n, p, init, True, M, i)\n",
    "        \n",
    "        for step in range(100):\n",
    "            d_test.step()\n",
    "\n",
    "        return_variance = np.var(d_test.returns)\n",
    "        return_variances.append(return_variance)\n",
    "\n",
    "    d_dict[f\"Iteration {run}\"] = return_variances\n",
    "    \n",
    "    print(run)"
   ]
  },
  {
   "cell_type": "code",
   "execution_count": null,
   "metadata": {},
   "outputs": [],
   "source": [
    "df_return_variances_d = pd.DataFrame(d_dict)\n",
    "df_return_variances_d.to_csv('data/return_variances_d.csv')"
   ]
  },
  {
   "cell_type": "code",
   "execution_count": null,
   "metadata": {},
   "outputs": [],
   "source": [
    "df_return_variances_d_transp = df_return_variances_d.transpose()\n",
    "df_return_variances_d_transp.columns = d_range\n",
    "df_return_variances_d_transp.drop('Range')"
   ]
  },
  {
   "cell_type": "code",
   "execution_count": null,
   "metadata": {},
   "outputs": [],
   "source": [
    "# Mean and sd for return variances\n",
    "d_return_means = np.array(df_return_variances_d_transp.mean())\n",
    "d_return_sd = np.array(df_return_variances_d_transp.std())"
   ]
  },
  {
   "cell_type": "code",
   "execution_count": null,
   "metadata": {},
   "outputs": [],
   "source": [
    "plt.scatter(d_range, d_return_means)\n",
    "plt.errorbar(d_range, d_return_means, yerr=d_return_sd)\n",
    "plt.show()"
   ]
  },
  {
   "cell_type": "code",
   "execution_count": null,
   "metadata": {},
   "outputs": [],
   "source": [
    "# Linear regression for return variances for different values of d\n",
    "d_array = np.array(d_range).reshape((-1, 1))\n",
    "d_return_r = LinearRegression().fit(d_array, d_return_means)\n",
    "d_return_test = r_squared(d_return_means, d_return_r.intercept_, d_return_r.coef_, d_range)"
   ]
  },
  {
   "cell_type": "code",
   "execution_count": null,
   "metadata": {},
   "outputs": [],
   "source": [
    "plt.plot(d_range, d_return_r.intercept_ + d_return_r.coef_ * d_array)\n",
    "plt.scatter(d_range, d_return_means)\n",
    "plt.show()"
   ]
  },
  {
   "cell_type": "code",
   "execution_count": null,
   "metadata": {},
   "outputs": [],
   "source": [
    "# R^2 for d regression\n",
    "print(\"R^2 for the return variance regression:\", d_return_test)"
   ]
  },
  {
   "cell_type": "code",
   "execution_count": null,
   "metadata": {},
   "outputs": [],
   "source": [
    "# Example of parameter generation\n",
    "parameters = np.arange(0, 10, 1)\n",
    "print(\"parameters to test:\", parameters)\n",
    "\n",
    "\n",
    "def gridsearch(real, abm_or_stoch, parameters):\n",
    "    best_param = 0\n",
    "    best_loss = 1000000000\n",
    "    for param in parameters:\n",
    "        if abm_or_stoch == 'abm':\n",
    "            model_test = Model(p, n, size, k, omega) # change the parameter to test to \"param\"\n",
    "            for i in range(t):\n",
    "                model_test.step()\n",
    "            abs_returns = [abs(day) for day in model_test.daily_returns]\n",
    "            result = np.array(abs_returns)\n",
    "        else:\n",
    "            stochastic = Stochastic_Model(n, p, 10, time_horizon=False, M=10, d=1.12)\n",
    "            stochastic_horizons = Stochastic_Model(n, p, 10, time_horizon=True, M=10, d=1.12)\n",
    "            for i in range(t):\n",
    "                stochastic.step()\n",
    "                stochastic_horizons.step()\n",
    "            abs_returns = [abs(i) for i in stochastic.returns]\n",
    "            result = np.array(abs_returns)\n",
    "        rmse = np.sqrt(mean_squared_error(real, result))\n",
    "        if rmse < best_loss:\n",
    "            best_param = current_param\n",
    "            best_loss = rmse\n",
    "    return best_param, best_loss\n",
    "\n",
    "# Implementation from https://archive.lib.msu.edu/crcmath/math/math/l/l142.html\n",
    "def exp_lsq(x, y):\n",
    "    n = len(bin) # sample size?\n",
    "    ln_y = np.log(y, where= y != 0)\n",
    "    sum_ln_y = np.sum(ln_y)\n",
    "    sum_x = np.sum(x)\n",
    "    sum_x_ln_y = np.sum(x * ln_y)\n",
    "    print('sum_ln_y', sum_ln_y, 'sum_x', sum_x)\n",
    "    a = (sum_ln_y * sum_x**2 - sum_x*sum_x_ln_y) / (n * np.sum(x**2) - sum_x**2)\n",
    "    b = (n * sum_x_ln_y - sum_x*sum_ln_y)/(n * np.sum(x**2) - sum_x**2)\n",
    "    return a, b"
   ]
  },
  {
   "cell_type": "code",
   "execution_count": null,
   "metadata": {},
   "outputs": [],
   "source": [
    "a, b = exp_lsq(bin, real_bins)\n",
    "print(a,b)\n",
    "x = np.arange(0, len(bin), 1)\n",
    "y = np.exp(a)*math.e**(b*x)\n",
    "plt.scatter(x,y)"
   ]
  }
 ],
 "metadata": {
  "kernelspec": {
   "display_name": "Python 3 (ipykernel)",
   "language": "python",
   "name": "python3"
  },
  "language_info": {
   "codemirror_mode": {
    "name": "ipython",
    "version": 3
   },
   "file_extension": ".py",
   "mimetype": "text/x-python",
   "name": "python",
   "nbconvert_exporter": "python",
   "pygments_lexer": "ipython3",
   "version": "3.9.7"
  },
  "vscode": {
   "interpreter": {
    "hash": "737aa38b06dd7377e5ea1c9d3b7bcdaf28b38271e4ca822a92a99e2a0a35e98e"
   }
  }
 },
 "nbformat": 4,
 "nbformat_minor": 2
}
